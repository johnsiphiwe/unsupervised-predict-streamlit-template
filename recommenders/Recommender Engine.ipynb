{
 "cells": [
  {
   "cell_type": "code",
   "execution_count": 1,
   "id": "28f8f6e8",
   "metadata": {},
   "outputs": [],
   "source": [
    "import comet_ml"
   ]
  },
  {
   "cell_type": "code",
   "execution_count": 2,
   "id": "1b3f1bc0",
   "metadata": {},
   "outputs": [],
   "source": [
    "# First import comet_ml at the top of your file\n",
    "from comet_ml import Experiment"
   ]
  },
  {
   "cell_type": "code",
   "execution_count": 3,
   "id": "464e6040",
   "metadata": {},
   "outputs": [
    {
     "name": "stderr",
     "output_type": "stream",
     "text": [
      "COMET WARNING: As you are running in a Jupyter environment, you will need to call `experiment.end()` when finished to ensure all metrics and code are logged before exiting.\n",
      "COMET INFO: Couldn't find a Git repository in 'C:\\\\Users\\\\BigCheese\\\\Documents\\\\Courses\\\\Data Science - Explore\\\\Sprint 7\\\\Predict\\\\Data' nor in any parent directory. You can override where Comet is looking for a Git Patch by setting the configuration `COMET_GIT_DIRECTORY`\n",
      "COMET INFO: Experiment is live on comet.ml https://www.comet.ml/daniel-bru/movie-reccomender-edsa/a9c04d6c45e64f6fa3e7a9747fe8e0a2\n",
      "\n"
     ]
    }
   ],
   "source": [
    "# Create an experiment with your api key for version control\n",
    "experiment = Experiment(\n",
    "    api_key=\"amGQj1TC3Wyk9LYf7bD9xNV6G\",\n",
    "    project_name=\"movie-reccomender-edsa\",\n",
    "    workspace=\"daniel-bru\",\n",
    ")"
   ]
  },
  {
   "cell_type": "markdown",
   "id": "5a125ee4",
   "metadata": {},
   "source": [
    "3) Importing Libraries"
   ]
  },
  {
   "cell_type": "code",
   "execution_count": 4,
   "id": "7a14c7a2",
   "metadata": {},
   "outputs": [
    {
     "name": "stdout",
     "output_type": "stream",
     "text": [
      "WARNING:tensorflow:From C:\\Users\\BigCheese\\anaconda3-\\lib\\site-packages\\tensorflow\\python\\compat\\v2_compat.py:111: disable_resource_variables (from tensorflow.python.ops.variable_scope) is deprecated and will be removed in a future version.\n",
      "Instructions for updating:\n",
      "non-resource variables are not supported in the long term\n"
     ]
    }
   ],
   "source": [
    "# Install packages here\n",
    "# Packages for data processing\n",
    "import numpy as np\n",
    "import pandas as pd\n",
    "import datetime\n",
    "from sklearn import preprocessing\n",
    "from sklearn.datasets import make_blobs\n",
    "from sklearn.preprocessing import StandardScaler\n",
    "from sklearn.feature_extraction.text import TfidfVectorizer\n",
    "from sklearn.metrics.pairwise import cosine_similarity\n",
    "import re\n",
    "from scipy.sparse import csr_matrix\n",
    "import scipy as sp\n",
    "import random\n",
    "\n",
    "# Packages for visualization\n",
    "import matplotlib.pyplot as plt\n",
    "import seaborn as sns\n",
    "from wordcloud import WordCloud\n",
    "from re import sub\n",
    "from decimal import Decimal\n",
    "import locale\n",
    "#locale.setlocale(locale.LC_ALL, 'en_US.UTF8')\n",
    "sns.set(font_scale=1.4)\n",
    "sns.set_style(\"darkgrid\")\n",
    "%matplotlib inline\n",
    "\n",
    "# Packages for modeling\n",
    "from surprise import Reader\n",
    "from surprise import Dataset\n",
    "from surprise import KNNWithMeans\n",
    "from surprise import KNNBasic\n",
    "from surprise.model_selection import cross_validate\n",
    "from surprise.model_selection import GridSearchCV\n",
    "from surprise import SVD, BaselineOnly\n",
    "from surprise import SVDpp as SSVDpp\n",
    "from surprise import accuracy\n",
    "from surprise.model_selection import train_test_split\n",
    "from surprise import NMF\n",
    "from surprise import SlopeOne\n",
    "from surprise import CoClustering\n",
    "import operator\n",
    "import heapq\n",
    "\n",
    "from libreco.data import random_split, DatasetPure, DataInfo\n",
    "from libreco.data import split_by_ratio_chrono, DatasetFeat\n",
    "from libreco.algorithms import SVD as libSVD\n",
    "from libreco.algorithms import SVDpp, BPR\n",
    "from libreco.algorithms import FM, WideDeep, DeepFM, AutoInt, DIN\n",
    "from libreco.evaluation import evaluate\n",
    "import os\n",
    "import tensorflow as tf\n",
    "os.environ['TF_CPP_MIN_LOG_LEVEL'] = '3'\n",
    "os.environ[\"KMP_WARNINGS\"] = \"FALSE\"\n",
    "tf.compat.v1.logging.set_verbosity(tf.compat.v1.logging.ERROR)\n",
    "def reset_state(name):\n",
    "    tf.compat.v1.reset_default_graph()\n",
    "    print(\"\\n\", \"=\" * 30, name, \"=\" * 30)\n",
    "\n",
    "# Packages for model evaluation\n",
    "from sklearn.metrics import mean_squared_error\n",
    "from sklearn.metrics import mean_absolute_error\n",
    "from time import time\n",
    "from time import sleep\n",
    "import gc\n",
    "\n",
    "# Package to suppress warnings\n",
    "import warnings\n",
    "warnings.filterwarnings(\"ignore\")\n",
    "\n",
    "# Packages for saving models\n",
    "import pickle\n",
    "\n",
    "#Mulalo"
   ]
  },
  {
   "cell_type": "code",
   "execution_count": 5,
   "id": "3548f161",
   "metadata": {},
   "outputs": [],
   "source": [
    "# Install packages here\n",
    "# Packages for data processing\n",
    "import numpy as np\n",
    "import pandas as pd\n",
    "import datetime\n",
    "from sklearn import preprocessing\n",
    "from sklearn.datasets import make_blobs\n",
    "from sklearn.preprocessing import StandardScaler\n",
    "from sklearn.feature_extraction.text import TfidfVectorizer\n",
    "from sklearn.metrics.pairwise import cosine_similarity\n",
    "import re\n",
    "from scipy.sparse import csr_matrix\n",
    "import scipy as sp\n",
    "import random\n",
    "\n",
    "# Packages for visualization\n",
    "import matplotlib.pyplot as plt\n",
    "import seaborn as sns\n",
    "from wordcloud import WordCloud\n",
    "from re import sub\n",
    "from decimal import Decimal\n",
    "import locale\n",
    "#locale.setlocale(locale.LC_ALL, 'en_US.UTF8')\n",
    "sns.set(font_scale=1.4)\n",
    "sns.set_style(\"darkgrid\")\n",
    "%matplotlib inline\n",
    "\n",
    "# Packages for modeling\n",
    "from surprise import Reader\n",
    "from surprise import Dataset\n",
    "from surprise import KNNWithMeans\n",
    "from surprise import KNNBasic\n",
    "from surprise.model_selection import cross_validate\n",
    "from surprise.model_selection import GridSearchCV\n",
    "from surprise import SVD, BaselineOnly\n",
    "from surprise import SVDpp as SSVDpp\n",
    "from surprise import accuracy\n",
    "from surprise.model_selection import train_test_split\n",
    "from surprise import NMF\n",
    "from surprise import SlopeOne\n",
    "from surprise import CoClustering\n",
    "import operator\n",
    "import heapq\n",
    "\n",
    "from libreco.data import random_split, DatasetPure, DataInfo\n",
    "from libreco.data import split_by_ratio_chrono, DatasetFeat\n",
    "from libreco.algorithms import SVD as libSVD\n",
    "from libreco.algorithms import SVDpp, BPR\n",
    "from libreco.algorithms import FM, WideDeep, DeepFM, AutoInt, DIN\n",
    "from libreco.evaluation import evaluate\n",
    "import os\n",
    "import tensorflow as tf\n",
    "os.environ['TF_CPP_MIN_LOG_LEVEL'] = '3'\n",
    "os.environ[\"KMP_WARNINGS\"] = \"FALSE\"\n",
    "tf.compat.v1.logging.set_verbosity(tf.compat.v1.logging.ERROR)\n",
    "def reset_state(name):\n",
    "    tf.compat.v1.reset_default_graph()\n",
    "    print(\"\\n\", \"=\" * 30, name, \"=\" * 30)\n",
    "\n",
    "# Packages for model evaluation\n",
    "from sklearn.metrics import mean_squared_error\n",
    "from sklearn.metrics import mean_absolute_error\n",
    "from time import time\n",
    "from time import sleep\n",
    "import gc\n",
    "\n",
    "# Package to suppress warnings\n",
    "import warnings\n",
    "warnings.filterwarnings(\"ignore\")\n",
    "\n",
    "# Packages for saving models\n",
    "import pickle"
   ]
  },
  {
   "cell_type": "code",
   "execution_count": 6,
   "id": "73ac9f28",
   "metadata": {},
   "outputs": [],
   "source": [
    "df_train = pd.read_csv(\"train.csv\")\n",
    "df_test = pd.read_csv(\"test.csv\") \n",
    "movies_df = pd.read_csv(\"movies.csv\")\n",
    "tags_df = pd.read_csv(\"tags.csv\")\n",
    "links_df = pd.read_csv(\"links.csv\")\n",
    "\n",
    "genome_scores_df = pd.read_csv(\"genome_scores.csv\")\n",
    "genome_tags_df = pd.read_csv(\"genome_tags.csv\")\n",
    "imdb_data_df = pd.read_csv(\"imdb_data.csv\")"
   ]
  },
  {
   "cell_type": "markdown",
   "id": "98366f47",
   "metadata": {},
   "source": [
    "#  Data Preprocessing"
   ]
  },
  {
   "cell_type": "markdown",
   "id": "31da553e",
   "metadata": {},
   "source": [
    "### Recomendation Models"
   ]
  },
  {
   "cell_type": "markdown",
   "id": "6b5fface",
   "metadata": {},
   "source": [
    "We will attempt to solve our problem by using:\n",
    "\n",
    "* Collaborative model-based Filtering \n",
    "\n",
    "* Content-based filtering\n",
    "\n",
    "* The Hybrid Approach"
   ]
  },
  {
   "cell_type": "markdown",
   "id": "0ec1cad7",
   "metadata": {},
   "source": [
    "### Preprocessing"
   ]
  },
  {
   "cell_type": "markdown",
   "id": "b73d1057",
   "metadata": {},
   "source": [
    "+ We create subset the train dataframe for users/movies above a certain threshold.\n",
    "This subset is used in training some models\n",
    "\n",
    "+ We create features we'll use later to pass to the LibRecommender hybrid models.\n"
   ]
  },
  {
   "cell_type": "code",
   "execution_count": 7,
   "id": "2227088d",
   "metadata": {},
   "outputs": [
    {
     "data": {
      "text/html": [
       "<div>\n",
       "<style scoped>\n",
       "    .dataframe tbody tr th:only-of-type {\n",
       "        vertical-align: middle;\n",
       "    }\n",
       "\n",
       "    .dataframe tbody tr th {\n",
       "        vertical-align: top;\n",
       "    }\n",
       "\n",
       "    .dataframe thead th {\n",
       "        text-align: right;\n",
       "    }\n",
       "</style>\n",
       "<table border=\"1\" class=\"dataframe\">\n",
       "  <thead>\n",
       "    <tr style=\"text-align: right;\">\n",
       "      <th></th>\n",
       "      <th>userId</th>\n",
       "      <th>movieId</th>\n",
       "      <th>rating</th>\n",
       "      <th>timestamp</th>\n",
       "      <th>movie_rating_count</th>\n",
       "      <th>user_rating_count</th>\n",
       "    </tr>\n",
       "  </thead>\n",
       "  <tbody>\n",
       "    <tr>\n",
       "      <th>0</th>\n",
       "      <td>5163</td>\n",
       "      <td>57669</td>\n",
       "      <td>4.0</td>\n",
       "      <td>1518349992</td>\n",
       "      <td>4253</td>\n",
       "      <td>22</td>\n",
       "    </tr>\n",
       "    <tr>\n",
       "      <th>1</th>\n",
       "      <td>5163</td>\n",
       "      <td>2671</td>\n",
       "      <td>1.0</td>\n",
       "      <td>1545511636</td>\n",
       "      <td>5698</td>\n",
       "      <td>22</td>\n",
       "    </tr>\n",
       "    <tr>\n",
       "      <th>2</th>\n",
       "      <td>5163</td>\n",
       "      <td>1247</td>\n",
       "      <td>4.5</td>\n",
       "      <td>1434310106</td>\n",
       "      <td>7569</td>\n",
       "      <td>22</td>\n",
       "    </tr>\n",
       "  </tbody>\n",
       "</table>\n",
       "</div>"
      ],
      "text/plain": [
       "   userId  movieId  rating   timestamp  movie_rating_count  user_rating_count\n",
       "0    5163    57669     4.0  1518349992                4253                 22\n",
       "1    5163     2671     1.0  1545511636                5698                 22\n",
       "2    5163     1247     4.5  1434310106                7569                 22"
      ]
     },
     "metadata": {},
     "output_type": "display_data"
    },
    {
     "name": "stdout",
     "output_type": "stream",
     "text": [
      "(9848791, 6)\n"
     ]
    },
    {
     "data": {
      "text/html": [
       "<div>\n",
       "<style scoped>\n",
       "    .dataframe tbody tr th:only-of-type {\n",
       "        vertical-align: middle;\n",
       "    }\n",
       "\n",
       "    .dataframe tbody tr th {\n",
       "        vertical-align: top;\n",
       "    }\n",
       "\n",
       "    .dataframe thead th {\n",
       "        text-align: right;\n",
       "    }\n",
       "</style>\n",
       "<table border=\"1\" class=\"dataframe\">\n",
       "  <thead>\n",
       "    <tr style=\"text-align: right;\">\n",
       "      <th></th>\n",
       "      <th>userId</th>\n",
       "      <th>movieId</th>\n",
       "      <th>rating</th>\n",
       "      <th>timestamp</th>\n",
       "    </tr>\n",
       "  </thead>\n",
       "  <tbody>\n",
       "    <tr>\n",
       "      <th>0</th>\n",
       "      <td>5163</td>\n",
       "      <td>57669</td>\n",
       "      <td>4.0</td>\n",
       "      <td>1518349992</td>\n",
       "    </tr>\n",
       "    <tr>\n",
       "      <th>1</th>\n",
       "      <td>5163</td>\n",
       "      <td>2671</td>\n",
       "      <td>1.0</td>\n",
       "      <td>1545511636</td>\n",
       "    </tr>\n",
       "    <tr>\n",
       "      <th>2</th>\n",
       "      <td>5163</td>\n",
       "      <td>1247</td>\n",
       "      <td>4.5</td>\n",
       "      <td>1434310106</td>\n",
       "    </tr>\n",
       "  </tbody>\n",
       "</table>\n",
       "</div>"
      ],
      "text/plain": [
       "   userId  movieId  rating   timestamp\n",
       "0    5163    57669     4.0  1518349992\n",
       "1    5163     2671     1.0  1545511636\n",
       "2    5163     1247     4.5  1434310106"
      ]
     },
     "metadata": {},
     "output_type": "display_data"
    },
    {
     "name": "stdout",
     "output_type": "stream",
     "text": [
      "(9848791, 4)\n"
     ]
    }
   ],
   "source": [
    "df_train1 = df_train.copy()\n",
    "\n",
    "\"\"\"Counting the number of times a movie has recieved an rating\"\"\"\n",
    "rating_count = df_train.groupby('movieId')['rating'].count().reset_index()\n",
    "rating_count.rename(columns={'rating': 'movie_rating_count'}, inplace=True)\n",
    "df_train = df_train.merge(rating_count, on='movieId')\n",
    "\n",
    "\"\"\"Counting the number of times a user has left an rating\"\"\"\n",
    "user_count = df_train.groupby('userId')['rating'].count().reset_index()\n",
    "user_count.rename(columns={'rating': 'user_rating_count'}, inplace=True)\n",
    "df_train = df_train.merge(user_count, on='userId')\n",
    "\n",
    "\"\"\"Droping all movies/users which are below a threshhold\"\"\"\n",
    "mrc = 20\n",
    "urc = 5\n",
    "df_train = df_train[df_train['movie_rating_count'] > mrc]\n",
    "df_train = df_train[df_train['user_rating_count'] > urc]\n",
    "display(df_train.head(3))\n",
    "print(df_train.shape)\n",
    "df_train.drop(['movie_rating_count', 'user_rating_count'], 1, inplace=True)\n",
    "\n",
    "display(df_train.head(3))\n",
    "print(df_train.shape)"
   ]
  },
  {
   "cell_type": "code",
   "execution_count": 8,
   "id": "a41de95d",
   "metadata": {},
   "outputs": [],
   "source": [
    "def create_features(df, column, features):\n",
    "    \"\"\"Creates features from a column of lists where the list items will be the features.\"\"\"\n",
    "\n",
    "    features_df = pd.DataFrame(columns=features)\n",
    "    all_features = pd.concat([df, features_df], axis=1)\n",
    "\n",
    "    for i, row in all_features.iterrows():\n",
    "        for feature in features:\n",
    "            if feature in getattr(row, column):\n",
    "                all_features[feature].iloc[i] = 1\n",
    "    all_features = all_features.drop(column, axis=1)\n",
    "\n",
    "    return all_features"
   ]
  },
  {
   "cell_type": "code",
   "execution_count": 9,
   "id": "31cef54b",
   "metadata": {},
   "outputs": [],
   "source": [
    "\"\"\"Fill NaN's and extract numbers from budget\"\"\"\n",
    "imdb_data_df.fillna(0, inplace=True)\n",
    "imdb_data_df.budget = imdb_data_df.budget.astype(str).apply(\n",
    "    lambda x: int(re.sub(\"[^0-9]\", \"\", x)))"
   ]
  },
  {
   "cell_type": "code",
   "execution_count": 10,
   "id": "a73d6a5b",
   "metadata": {},
   "outputs": [
    {
     "name": "stdout",
     "output_type": "stream",
     "text": [
      "Wall time: 1min 11s\n"
     ]
    },
    {
     "data": {
      "text/html": [
       "<div>\n",
       "<style scoped>\n",
       "    .dataframe tbody tr th:only-of-type {\n",
       "        vertical-align: middle;\n",
       "    }\n",
       "\n",
       "    .dataframe tbody tr th {\n",
       "        vertical-align: top;\n",
       "    }\n",
       "\n",
       "    .dataframe thead th {\n",
       "        text-align: right;\n",
       "    }\n",
       "</style>\n",
       "<table border=\"1\" class=\"dataframe\">\n",
       "  <thead>\n",
       "    <tr style=\"text-align: right;\">\n",
       "      <th></th>\n",
       "      <th>movieId</th>\n",
       "      <th>Adventure</th>\n",
       "      <th>Animation</th>\n",
       "      <th>Children</th>\n",
       "      <th>Comedy</th>\n",
       "      <th>Fantasy</th>\n",
       "      <th>Romance</th>\n",
       "      <th>Drama</th>\n",
       "      <th>Action</th>\n",
       "      <th>Crime</th>\n",
       "      <th>...</th>\n",
       "      <th>Horror</th>\n",
       "      <th>Mystery</th>\n",
       "      <th>Sci-Fi</th>\n",
       "      <th>IMAX</th>\n",
       "      <th>Documentary</th>\n",
       "      <th>War</th>\n",
       "      <th>Musical</th>\n",
       "      <th>Western</th>\n",
       "      <th>Film-Noir</th>\n",
       "      <th>(no genres listed)</th>\n",
       "    </tr>\n",
       "  </thead>\n",
       "  <tbody>\n",
       "    <tr>\n",
       "      <th>0</th>\n",
       "      <td>1</td>\n",
       "      <td>1</td>\n",
       "      <td>1</td>\n",
       "      <td>1</td>\n",
       "      <td>1</td>\n",
       "      <td>1</td>\n",
       "      <td>NaN</td>\n",
       "      <td>NaN</td>\n",
       "      <td>NaN</td>\n",
       "      <td>NaN</td>\n",
       "      <td>...</td>\n",
       "      <td>NaN</td>\n",
       "      <td>NaN</td>\n",
       "      <td>NaN</td>\n",
       "      <td>NaN</td>\n",
       "      <td>NaN</td>\n",
       "      <td>NaN</td>\n",
       "      <td>NaN</td>\n",
       "      <td>NaN</td>\n",
       "      <td>NaN</td>\n",
       "      <td>NaN</td>\n",
       "    </tr>\n",
       "    <tr>\n",
       "      <th>1</th>\n",
       "      <td>2</td>\n",
       "      <td>1</td>\n",
       "      <td>NaN</td>\n",
       "      <td>1</td>\n",
       "      <td>NaN</td>\n",
       "      <td>1</td>\n",
       "      <td>NaN</td>\n",
       "      <td>NaN</td>\n",
       "      <td>NaN</td>\n",
       "      <td>NaN</td>\n",
       "      <td>...</td>\n",
       "      <td>NaN</td>\n",
       "      <td>NaN</td>\n",
       "      <td>NaN</td>\n",
       "      <td>NaN</td>\n",
       "      <td>NaN</td>\n",
       "      <td>NaN</td>\n",
       "      <td>NaN</td>\n",
       "      <td>NaN</td>\n",
       "      <td>NaN</td>\n",
       "      <td>NaN</td>\n",
       "    </tr>\n",
       "    <tr>\n",
       "      <th>2</th>\n",
       "      <td>3</td>\n",
       "      <td>NaN</td>\n",
       "      <td>NaN</td>\n",
       "      <td>NaN</td>\n",
       "      <td>1</td>\n",
       "      <td>NaN</td>\n",
       "      <td>1</td>\n",
       "      <td>NaN</td>\n",
       "      <td>NaN</td>\n",
       "      <td>NaN</td>\n",
       "      <td>...</td>\n",
       "      <td>NaN</td>\n",
       "      <td>NaN</td>\n",
       "      <td>NaN</td>\n",
       "      <td>NaN</td>\n",
       "      <td>NaN</td>\n",
       "      <td>NaN</td>\n",
       "      <td>NaN</td>\n",
       "      <td>NaN</td>\n",
       "      <td>NaN</td>\n",
       "      <td>NaN</td>\n",
       "    </tr>\n",
       "    <tr>\n",
       "      <th>3</th>\n",
       "      <td>4</td>\n",
       "      <td>NaN</td>\n",
       "      <td>NaN</td>\n",
       "      <td>NaN</td>\n",
       "      <td>1</td>\n",
       "      <td>NaN</td>\n",
       "      <td>1</td>\n",
       "      <td>1</td>\n",
       "      <td>NaN</td>\n",
       "      <td>NaN</td>\n",
       "      <td>...</td>\n",
       "      <td>NaN</td>\n",
       "      <td>NaN</td>\n",
       "      <td>NaN</td>\n",
       "      <td>NaN</td>\n",
       "      <td>NaN</td>\n",
       "      <td>NaN</td>\n",
       "      <td>NaN</td>\n",
       "      <td>NaN</td>\n",
       "      <td>NaN</td>\n",
       "      <td>NaN</td>\n",
       "    </tr>\n",
       "  </tbody>\n",
       "</table>\n",
       "<p>4 rows × 21 columns</p>\n",
       "</div>"
      ],
      "text/plain": [
       "   movieId Adventure Animation Children Comedy Fantasy Romance Drama Action  \\\n",
       "0        1         1         1        1      1       1     NaN   NaN    NaN   \n",
       "1        2         1       NaN        1    NaN       1     NaN   NaN    NaN   \n",
       "2        3       NaN       NaN      NaN      1     NaN       1   NaN    NaN   \n",
       "3        4       NaN       NaN      NaN      1     NaN       1     1    NaN   \n",
       "\n",
       "  Crime  ... Horror Mystery Sci-Fi IMAX Documentary  War Musical Western  \\\n",
       "0   NaN  ...    NaN     NaN    NaN  NaN         NaN  NaN     NaN     NaN   \n",
       "1   NaN  ...    NaN     NaN    NaN  NaN         NaN  NaN     NaN     NaN   \n",
       "2   NaN  ...    NaN     NaN    NaN  NaN         NaN  NaN     NaN     NaN   \n",
       "3   NaN  ...    NaN     NaN    NaN  NaN         NaN  NaN     NaN     NaN   \n",
       "\n",
       "  Film-Noir (no genres listed)  \n",
       "0       NaN                NaN  \n",
       "1       NaN                NaN  \n",
       "2       NaN                NaN  \n",
       "3       NaN                NaN  \n",
       "\n",
       "[4 rows x 21 columns]"
      ]
     },
     "execution_count": 10,
     "metadata": {},
     "output_type": "execute_result"
    }
   ],
   "source": [
    "%%time\n",
    "movies_genres = pd.DataFrame(movies_df[['movieId', 'genres']],\n",
    "                             columns=['movieId', 'genres'])\n",
    "\n",
    "# Split genres seperated by \"|\" and create a list containing the genres allocated to each movie\n",
    "movies_genres.genres = movies_genres.genres.apply(lambda x: x.split('|'))\n",
    "genres = ['Adventure', 'Animation', 'Children', 'Comedy', 'Fantasy',\n",
    "          'Romance', 'Drama', 'Action', 'Crime', 'Thriller', 'Horror',\n",
    "          'Mystery', 'Sci-Fi', 'IMAX', 'Documentary', 'War', 'Musical',\n",
    "          'Western', 'Film-Noir', '(no genres listed)']\n",
    "\n",
    "genre_encode = create_features(movies_genres, 'genres', genres)\n",
    "genre_encode.head(4)"
   ]
  },
  {
   "cell_type": "code",
   "execution_count": 11,
   "id": "2025e992",
   "metadata": {},
   "outputs": [
    {
     "name": "stdout",
     "output_type": "stream",
     "text": [
      "Wall time: 4.28 s\n"
     ]
    },
    {
     "data": {
      "text/html": [
       "<div>\n",
       "<style scoped>\n",
       "    .dataframe tbody tr th:only-of-type {\n",
       "        vertical-align: middle;\n",
       "    }\n",
       "\n",
       "    .dataframe tbody tr th {\n",
       "        vertical-align: top;\n",
       "    }\n",
       "\n",
       "    .dataframe thead th {\n",
       "        text-align: right;\n",
       "    }\n",
       "</style>\n",
       "<table border=\"1\" class=\"dataframe\">\n",
       "  <thead>\n",
       "    <tr style=\"text-align: right;\">\n",
       "      <th></th>\n",
       "      <th>movieId</th>\n",
       "      <th>Samuel L. Jackson</th>\n",
       "      <th>Steve Buscemi</th>\n",
       "      <th>Keith David</th>\n",
       "      <th>Willem Dafoe</th>\n",
       "      <th>Robert De Niro</th>\n",
       "      <th>Christopher Walken</th>\n",
       "      <th>Gérard Depardieu</th>\n",
       "      <th>Brian Cox</th>\n",
       "      <th>Bruce Willis</th>\n",
       "      <th>Morgan Freeman</th>\n",
       "      <th>Danny Glover</th>\n",
       "      <th>Alec Baldwin</th>\n",
       "      <th>Peter Stormare</th>\n",
       "      <th>Nicolas Cage</th>\n",
       "      <th>Julianne Moore</th>\n",
       "    </tr>\n",
       "  </thead>\n",
       "  <tbody>\n",
       "    <tr>\n",
       "      <th>0</th>\n",
       "      <td>1</td>\n",
       "      <td>NaN</td>\n",
       "      <td>NaN</td>\n",
       "      <td>NaN</td>\n",
       "      <td>NaN</td>\n",
       "      <td>NaN</td>\n",
       "      <td>NaN</td>\n",
       "      <td>NaN</td>\n",
       "      <td>NaN</td>\n",
       "      <td>NaN</td>\n",
       "      <td>NaN</td>\n",
       "      <td>NaN</td>\n",
       "      <td>NaN</td>\n",
       "      <td>NaN</td>\n",
       "      <td>NaN</td>\n",
       "      <td>NaN</td>\n",
       "    </tr>\n",
       "    <tr>\n",
       "      <th>1</th>\n",
       "      <td>2</td>\n",
       "      <td>NaN</td>\n",
       "      <td>NaN</td>\n",
       "      <td>NaN</td>\n",
       "      <td>NaN</td>\n",
       "      <td>NaN</td>\n",
       "      <td>NaN</td>\n",
       "      <td>NaN</td>\n",
       "      <td>NaN</td>\n",
       "      <td>NaN</td>\n",
       "      <td>NaN</td>\n",
       "      <td>NaN</td>\n",
       "      <td>NaN</td>\n",
       "      <td>NaN</td>\n",
       "      <td>NaN</td>\n",
       "      <td>NaN</td>\n",
       "    </tr>\n",
       "    <tr>\n",
       "      <th>2</th>\n",
       "      <td>3</td>\n",
       "      <td>NaN</td>\n",
       "      <td>NaN</td>\n",
       "      <td>NaN</td>\n",
       "      <td>NaN</td>\n",
       "      <td>NaN</td>\n",
       "      <td>NaN</td>\n",
       "      <td>NaN</td>\n",
       "      <td>NaN</td>\n",
       "      <td>NaN</td>\n",
       "      <td>NaN</td>\n",
       "      <td>NaN</td>\n",
       "      <td>NaN</td>\n",
       "      <td>NaN</td>\n",
       "      <td>NaN</td>\n",
       "      <td>NaN</td>\n",
       "    </tr>\n",
       "    <tr>\n",
       "      <th>3</th>\n",
       "      <td>4</td>\n",
       "      <td>NaN</td>\n",
       "      <td>NaN</td>\n",
       "      <td>NaN</td>\n",
       "      <td>NaN</td>\n",
       "      <td>NaN</td>\n",
       "      <td>NaN</td>\n",
       "      <td>NaN</td>\n",
       "      <td>NaN</td>\n",
       "      <td>NaN</td>\n",
       "      <td>NaN</td>\n",
       "      <td>NaN</td>\n",
       "      <td>NaN</td>\n",
       "      <td>NaN</td>\n",
       "      <td>NaN</td>\n",
       "      <td>NaN</td>\n",
       "    </tr>\n",
       "  </tbody>\n",
       "</table>\n",
       "</div>"
      ],
      "text/plain": [
       "   movieId Samuel L. Jackson Steve Buscemi Keith David Willem Dafoe  \\\n",
       "0        1               NaN           NaN         NaN          NaN   \n",
       "1        2               NaN           NaN         NaN          NaN   \n",
       "2        3               NaN           NaN         NaN          NaN   \n",
       "3        4               NaN           NaN         NaN          NaN   \n",
       "\n",
       "  Robert De Niro Christopher Walken Gérard Depardieu Brian Cox Bruce Willis  \\\n",
       "0            NaN                NaN              NaN       NaN          NaN   \n",
       "1            NaN                NaN              NaN       NaN          NaN   \n",
       "2            NaN                NaN              NaN       NaN          NaN   \n",
       "3            NaN                NaN              NaN       NaN          NaN   \n",
       "\n",
       "  Morgan Freeman Danny Glover Alec Baldwin Peter Stormare Nicolas Cage  \\\n",
       "0            NaN          NaN          NaN            NaN          NaN   \n",
       "1            NaN          NaN          NaN            NaN          NaN   \n",
       "2            NaN          NaN          NaN            NaN          NaN   \n",
       "3            NaN          NaN          NaN            NaN          NaN   \n",
       "\n",
       "  Julianne Moore  \n",
       "0            NaN  \n",
       "1            NaN  \n",
       "2            NaN  \n",
       "3            NaN  "
      ]
     },
     "execution_count": 11,
     "metadata": {},
     "output_type": "execute_result"
    }
   ],
   "source": [
    "%%time\n",
    "cast = pd.DataFrame(imdb_data_df[['movieId', 'title_cast']],\n",
    "                    columns=['movieId', 'title_cast'])\n",
    "\n",
    "# Split title_cast seperated by \"|\" and create a list containing the cast members in each movie\n",
    "cast.title_cast = cast.title_cast.astype(str).apply(lambda x: x.split('|'))\n",
    "cast_movie = pd.DataFrame([(tup.movieId, d) for tup in cast.itertuples() for d in tup.title_cast],\n",
    "                          columns=['movieId', 'title_cast'])\n",
    "mostc_cast = cast_movie['title_cast'].value_counts(\n",
    "    ascending=False).index.tolist()[:16]\n",
    "\n",
    "cast_encode = create_features(cast, 'title_cast', mostc_cast[1:])\n",
    "cast_encode.head(4)"
   ]
  },
  {
   "cell_type": "code",
   "execution_count": 12,
   "id": "203a7c8d",
   "metadata": {},
   "outputs": [],
   "source": [
    "from sklearn.metrics.pairwise import cosine_similarity\n",
    "from sklearn.metrics.pairwise import linear_kernel\n",
    "import re"
   ]
  },
  {
   "cell_type": "code",
   "execution_count": null,
   "id": "b27f2c9e",
   "metadata": {},
   "outputs": [],
   "source": []
  },
  {
   "cell_type": "markdown",
   "id": "a6356fb0",
   "metadata": {},
   "source": [
    "#  Modelling"
   ]
  },
  {
   "cell_type": "markdown",
   "id": "c0b80240",
   "metadata": {},
   "source": [
    "###  Content-based Recommendation"
   ]
  },
  {
   "cell_type": "markdown",
   "id": "4b8d2e4c",
   "metadata": {},
   "source": [
    "Given a movie or list of movies, we can look at its features and compare it to the features of others movies, in so doing,  we'll find similaries bewteen the movies and can reccomend movies based on the level of similarity it shares with the given movie or movie list. \n",
    "\n",
    "Here we implement a simple content-based recommender system, it will take a movie title and return a list of movies that are most similar to the title given. "
   ]
  },
  {
   "cell_type": "code",
   "execution_count": 13,
   "id": "8b7c0154",
   "metadata": {},
   "outputs": [],
   "source": [
    "movies_imdb = pd.merge(movies_df, imdb_data_df, on='movieId', how='left').fillna(0)"
   ]
  },
  {
   "cell_type": "code",
   "execution_count": 14,
   "id": "6e65ae33",
   "metadata": {},
   "outputs": [
    {
     "name": "stdout",
     "output_type": "stream",
     "text": [
      "(62423, 8)\n"
     ]
    }
   ],
   "source": [
    "movies_imdb.head(2)\n",
    "print(movies_imdb.shape)"
   ]
  },
  {
   "cell_type": "markdown",
   "id": "b681df8e",
   "metadata": {},
   "source": [
    "Here we have genres, cast, director and plot keywords which we will use as our 'content'."
   ]
  },
  {
   "cell_type": "code",
   "execution_count": 15,
   "id": "29a2f1e9",
   "metadata": {},
   "outputs": [],
   "source": [
    "def join_cols(col1, col2, col3):\n",
    "    \"\"\" return the content of individual columns as one \"\"\"\n",
    "    temp = []\n",
    "    for i in range(len(col1)):\n",
    "        temp.append(str(col1.iloc[i]) + '|' + str(col2.iloc[i]) +\n",
    "                    '|' + str(col3.iloc[i]))\n",
    "    return temp"
   ]
  },
  {
   "cell_type": "code",
   "execution_count": 16,
   "id": "2b3aa5d6",
   "metadata": {},
   "outputs": [],
   "source": [
    "movies_imdb['joined'] = join_cols(\n",
    "    movies_imdb.genres, movies_imdb.title_cast, movies_imdb.director)"
   ]
  },
  {
   "cell_type": "code",
   "execution_count": 17,
   "id": "5a559a7b",
   "metadata": {},
   "outputs": [],
   "source": [
    "# droping the merged columns and columns we don't need\n",
    "movies_imdb.drop(['genres', 'title_cast', 'director',\n",
    "                  'plot_keywords', 'budget', 'runtime', 'plot_keywords'], 1, inplace=True)"
   ]
  },
  {
   "cell_type": "code",
   "execution_count": 18,
   "id": "ddb42728",
   "metadata": {},
   "outputs": [
    {
     "data": {
      "text/html": [
       "<div>\n",
       "<style scoped>\n",
       "    .dataframe tbody tr th:only-of-type {\n",
       "        vertical-align: middle;\n",
       "    }\n",
       "\n",
       "    .dataframe tbody tr th {\n",
       "        vertical-align: top;\n",
       "    }\n",
       "\n",
       "    .dataframe thead th {\n",
       "        text-align: right;\n",
       "    }\n",
       "</style>\n",
       "<table border=\"1\" class=\"dataframe\">\n",
       "  <thead>\n",
       "    <tr style=\"text-align: right;\">\n",
       "      <th></th>\n",
       "      <th>movieId</th>\n",
       "      <th>title</th>\n",
       "      <th>joined</th>\n",
       "    </tr>\n",
       "  </thead>\n",
       "  <tbody>\n",
       "    <tr>\n",
       "      <th>0</th>\n",
       "      <td>1</td>\n",
       "      <td>Toy Story (1995)</td>\n",
       "      <td>Adventure|Animation|Children|Comedy|Fantasy|To...</td>\n",
       "    </tr>\n",
       "    <tr>\n",
       "      <th>1</th>\n",
       "      <td>2</td>\n",
       "      <td>Jumanji (1995)</td>\n",
       "      <td>Adventure|Children|Fantasy|Robin Williams|Jona...</td>\n",
       "    </tr>\n",
       "  </tbody>\n",
       "</table>\n",
       "</div>"
      ],
      "text/plain": [
       "   movieId             title  \\\n",
       "0        1  Toy Story (1995)   \n",
       "1        2    Jumanji (1995)   \n",
       "\n",
       "                                              joined  \n",
       "0  Adventure|Animation|Children|Comedy|Fantasy|To...  \n",
       "1  Adventure|Children|Fantasy|Robin Williams|Jona...  "
      ]
     },
     "execution_count": 18,
     "metadata": {},
     "output_type": "execute_result"
    }
   ],
   "source": [
    "movies_imdb.head(2)"
   ]
  },
  {
   "cell_type": "code",
   "execution_count": 19,
   "id": "326afbf9",
   "metadata": {},
   "outputs": [],
   "source": [
    "# limiting\n",
    "movies_imdb = movies_imdb[:20000]"
   ]
  },
  {
   "cell_type": "code",
   "execution_count": 20,
   "id": "e7477563",
   "metadata": {},
   "outputs": [],
   "source": [
    "# this will be use as a custom tokenizer\n",
    "def pipe_split(string):\n",
    "    \"\"\" if string has a '|' split on it, if not just pass \"\"\"\n",
    "    if '|' in string:\n",
    "        return string.split('|')\n",
    "    else:\n",
    "        return string"
   ]
  },
  {
   "cell_type": "code",
   "execution_count": 21,
   "id": "7e982798",
   "metadata": {},
   "outputs": [],
   "source": [
    "# matrix's of word frequency scores\n",
    "tf_vec = TfidfVectorizer(min_df=10, stop_words='english',\n",
    "                         strip_accents='unicode', tokenizer=pipe_split, max_features=100)\n",
    "\n",
    "tf = tf_vec.fit_transform(movies_imdb.joined)"
   ]
  },
  {
   "cell_type": "code",
   "execution_count": 22,
   "id": "f5de9e55",
   "metadata": {},
   "outputs": [
    {
     "data": {
      "text/plain": [
       "array([1.        , 0.44267397, 0.06768233, ..., 0.        , 0.        ,\n",
       "       0.        ])"
      ]
     },
     "execution_count": 22,
     "metadata": {},
     "output_type": "execute_result"
    }
   ],
   "source": [
    "# compute the cosine similarity\n",
    "cos_sim = linear_kernel(tf,tf)\n",
    "cos_sim[0]"
   ]
  },
  {
   "cell_type": "code",
   "execution_count": 23,
   "id": "d08e2b45",
   "metadata": {},
   "outputs": [],
   "source": [
    "# movie titles and index number\n",
    "indices = pd.Series(movies_imdb.index,\n",
    "                    index=movies_imdb['title']).drop_duplicates()"
   ]
  },
  {
   "cell_type": "code",
   "execution_count": 24,
   "id": "9f3b47f1",
   "metadata": {},
   "outputs": [
    {
     "data": {
      "text/plain": [
       "title\n",
       "Toy Story (1995)                      0\n",
       "Jumanji (1995)                        1\n",
       "Grumpier Old Men (1995)               2\n",
       "Waiting to Exhale (1995)              3\n",
       "Father of the Bride Part II (1995)    4\n",
       "dtype: int64"
      ]
     },
     "execution_count": 24,
     "metadata": {},
     "output_type": "execute_result"
    }
   ],
   "source": [
    "indices.head()"
   ]
  },
  {
   "cell_type": "code",
   "execution_count": 25,
   "id": "1d97679a",
   "metadata": {},
   "outputs": [],
   "source": [
    "def get_rec(title, cos_sim=cos_sim):\n",
    "    # get index of corresponding title\n",
    "    idx = indices[title]\n",
    "    \n",
    "    # get the pairwise similarity scores\n",
    "    sim_scores = list(enumerate(cos_sim[idx]))\n",
    "    \n",
    "    # sort movies\n",
    "    sim_scores = sorted(sim_scores, key=lambda x: x[1], reverse=True)\n",
    "    \n",
    "    # scores of the 10 most similar movies\n",
    "    sim_scores = sim_scores[1:11]\n",
    "    \n",
    "    # movies indices\n",
    "    movie_indices = [i[0] for i in sim_scores]\n",
    "    \n",
    "    # top 10 most similar movies\n",
    "    return movies_imdb['title'].iloc[movie_indices]"
   ]
  },
  {
   "cell_type": "code",
   "execution_count": 26,
   "id": "1f9a8811",
   "metadata": {},
   "outputs": [
    {
     "data": {
      "text/plain": [
       "3021                                    Toy Story 2 (1999)\n",
       "10773                                     Wild, The (2006)\n",
       "17431    Asterix and the Vikings (Astérix et les Viking...\n",
       "4261                      Atlantis: The Lost Empire (2001)\n",
       "5561     Pokemon 4 Ever (a.k.a. Pokémon 4: The Movie) (...\n",
       "9119     Kirikou and the Sorceress (Kirikou et la sorci...\n",
       "9313            Cat Returns, The (Neko no ongaeshi) (2002)\n",
       "9689                             Once Upon a Forest (1993)\n",
       "12939                   Ponyo (Gake no ue no Ponyo) (2008)\n",
       "4201                                          Shrek (2001)\n",
       "Name: title, dtype: object"
      ]
     },
     "execution_count": 26,
     "metadata": {},
     "output_type": "execute_result"
    }
   ],
   "source": [
    "get_rec('Toy Story (1995)')"
   ]
  },
  {
   "cell_type": "code",
   "execution_count": 27,
   "id": "c7874905",
   "metadata": {},
   "outputs": [],
   "source": [
    "gc.collect()\n",
    "del cos_sim, movies_imdb, indices, tf\n",
    "sleep(10)"
   ]
  },
  {
   "cell_type": "markdown",
   "id": "fd6f1700",
   "metadata": {},
   "source": [
    "#  Collaborative Filtering"
   ]
  },
  {
   "cell_type": "code",
   "execution_count": 28,
   "id": "c53af1dc",
   "metadata": {},
   "outputs": [
    {
     "name": "stdout",
     "output_type": "stream",
     "text": [
      "Wall time: 3.55 s\n"
     ]
    }
   ],
   "source": [
    "%%time\n",
    "# we sample the datafrane for 1 mil rows\n",
    "ratings = df_train.sample(1000000, random_state=1).copy()\n",
    "ratings_dict = {'itemID': list(ratings.movieId),\n",
    "                'userID': list(ratings.userId),\n",
    "                'rating': list(ratings.rating)}\n",
    "df = pd.DataFrame(ratings_dict)\n",
    "\n",
    "# A reader is still needed but only the rating_scale param is requiered.\n",
    "reader = Reader(rating_scale=(0.5, 5.0))\n",
    "# The columns must correspond to user id, item id and ratings (in that order).\n",
    "data = Dataset.load_from_df(df[['userID', 'itemID', 'rating']], reader)"
   ]
  },
  {
   "cell_type": "code",
   "execution_count": 29,
   "id": "86ebf25a",
   "metadata": {},
   "outputs": [
    {
     "name": "stdout",
     "output_type": "stream",
     "text": [
      "Wall time: 2.5 s\n"
     ]
    }
   ],
   "source": [
    "%%time\n",
    "trainset, testset = train_test_split(data, test_size=.01, random_state=1)"
   ]
  },
  {
   "cell_type": "code",
   "execution_count": 30,
   "id": "d10d8b41",
   "metadata": {},
   "outputs": [],
   "source": [
    "gc.collect()\n",
    "del ratings, ratings_dict, df, data\n",
    "sleep(10)"
   ]
  },
  {
   "cell_type": "markdown",
   "id": "89038b3d",
   "metadata": {},
   "source": [
    "### SVD\n",
    "SVD is a matrix factorisation technique, which reduces the number of features of a dataset by reducing the space dimension from N-dimension to K-dimension (where K<N)."
   ]
  },
  {
   "cell_type": "code",
   "execution_count": 31,
   "id": "b26666e7",
   "metadata": {},
   "outputs": [
    {
     "name": "stdout",
     "output_type": "stream",
     "text": [
      "Processing epoch 0\n",
      "Processing epoch 1\n",
      "Processing epoch 2\n",
      "Processing epoch 3\n",
      "Processing epoch 4\n",
      "Processing epoch 5\n",
      "Processing epoch 6\n",
      "Processing epoch 7\n",
      "Processing epoch 8\n",
      "Processing epoch 9\n",
      "Processing epoch 10\n",
      "Processing epoch 11\n",
      "Processing epoch 12\n",
      "Processing epoch 13\n",
      "Processing epoch 14\n",
      "Processing epoch 15\n",
      "Processing epoch 16\n",
      "Processing epoch 17\n",
      "Processing epoch 18\n",
      "Processing epoch 19\n",
      "RMSE: 0.9123\n",
      "MAE:  0.7011\n"
     ]
    },
    {
     "data": {
      "text/html": [
       "<div>\n",
       "<style scoped>\n",
       "    .dataframe tbody tr th:only-of-type {\n",
       "        vertical-align: middle;\n",
       "    }\n",
       "\n",
       "    .dataframe tbody tr th {\n",
       "        vertical-align: top;\n",
       "    }\n",
       "\n",
       "    .dataframe thead th {\n",
       "        text-align: right;\n",
       "    }\n",
       "</style>\n",
       "<table border=\"1\" class=\"dataframe\">\n",
       "  <thead>\n",
       "    <tr style=\"text-align: right;\">\n",
       "      <th></th>\n",
       "      <th>model</th>\n",
       "      <th>RMSE</th>\n",
       "      <th>MAE</th>\n",
       "      <th>execution_time</th>\n",
       "    </tr>\n",
       "  </thead>\n",
       "  <tbody>\n",
       "    <tr>\n",
       "      <th>0</th>\n",
       "      <td>SSVD</td>\n",
       "      <td>0.912288</td>\n",
       "      <td>0.701141</td>\n",
       "      <td>51.560422</td>\n",
       "    </tr>\n",
       "  </tbody>\n",
       "</table>\n",
       "</div>"
      ],
      "text/plain": [
       "  model      RMSE       MAE  execution_time\n",
       "0  SSVD  0.912288  0.701141       51.560422"
      ]
     },
     "metadata": {},
     "output_type": "display_data"
    },
    {
     "name": "stdout",
     "output_type": "stream",
     "text": [
      "Wall time: 51.6 s\n"
     ]
    }
   ],
   "source": [
    "%%time\n",
    "#experiment = Experiment(\n",
    "#    api_key=\"amGQj1TC3Wyk9LYf7bD9xNV6G\",\n",
    "#    project_name=\"movie-reccomender-edsa\",\n",
    "#    workspace=\"daniel-bru\",\n",
    "#)\n",
    "\n",
    "algo = SVD(verbose=True)\n",
    "# Train the algorithm on the trainset, and predict ratings for the testset\n",
    "start_time = time()\n",
    "algo.fit(trainset)\n",
    "predictions = algo.test(testset)\n",
    "run_time = time() - start_time\n",
    "\n",
    "# Compute Metrics\n",
    "rmse = accuracy.rmse(predictions)\n",
    "mae = accuracy.mae(predictions)\n",
    "\n",
    "# Create and add metrics to Perfermance Dataframe\n",
    "performance_df = pd.DataFrame()\n",
    "ssvd_0 = {'model': 'SSVD', 'RMSE': rmse,\n",
    "          'MAE': mae, 'execution_time': run_time}\n",
    "performance_df = performance_df.append([ssvd_0], ignore_index=True)\n",
    "display(performance_df)\n",
    "\n",
    "# Log the parameters and results\n",
    "##experiment.log_metrics(ssvd_0)\n",
    "#experiment.set_code()\n",
    "#experiment.end()"
   ]
  },
  {
   "cell_type": "markdown",
   "id": "15d59940",
   "metadata": {},
   "source": [
    "### SVDpp\n",
    "The SVD++ algorithm, an extension of SVD taking into account implicit ratings."
   ]
  },
  {
   "cell_type": "code",
   "execution_count": 32,
   "id": "fa960cf3",
   "metadata": {},
   "outputs": [
    {
     "name": "stdout",
     "output_type": "stream",
     "text": [
      " processing epoch 0\n",
      " processing epoch 1\n",
      " processing epoch 2\n",
      " processing epoch 3\n",
      " processing epoch 4\n",
      " processing epoch 5\n",
      " processing epoch 6\n",
      " processing epoch 7\n",
      " processing epoch 8\n",
      " processing epoch 9\n",
      " processing epoch 10\n",
      " processing epoch 11\n",
      " processing epoch 12\n",
      " processing epoch 13\n",
      " processing epoch 14\n",
      " processing epoch 15\n",
      " processing epoch 16\n",
      " processing epoch 17\n",
      " processing epoch 18\n",
      " processing epoch 19\n",
      "RMSE: 0.9038\n",
      "MAE:  0.6927\n"
     ]
    },
    {
     "data": {
      "text/html": [
       "<div>\n",
       "<style scoped>\n",
       "    .dataframe tbody tr th:only-of-type {\n",
       "        vertical-align: middle;\n",
       "    }\n",
       "\n",
       "    .dataframe tbody tr th {\n",
       "        vertical-align: top;\n",
       "    }\n",
       "\n",
       "    .dataframe thead th {\n",
       "        text-align: right;\n",
       "    }\n",
       "</style>\n",
       "<table border=\"1\" class=\"dataframe\">\n",
       "  <thead>\n",
       "    <tr style=\"text-align: right;\">\n",
       "      <th></th>\n",
       "      <th>model</th>\n",
       "      <th>RMSE</th>\n",
       "      <th>MAE</th>\n",
       "      <th>execution_time</th>\n",
       "    </tr>\n",
       "  </thead>\n",
       "  <tbody>\n",
       "    <tr>\n",
       "      <th>0</th>\n",
       "      <td>SSVD</td>\n",
       "      <td>0.912288</td>\n",
       "      <td>0.701141</td>\n",
       "      <td>51.560422</td>\n",
       "    </tr>\n",
       "    <tr>\n",
       "      <th>1</th>\n",
       "      <td>SSVDpp</td>\n",
       "      <td>0.903798</td>\n",
       "      <td>0.692692</td>\n",
       "      <td>324.249086</td>\n",
       "    </tr>\n",
       "  </tbody>\n",
       "</table>\n",
       "</div>"
      ],
      "text/plain": [
       "    model      RMSE       MAE  execution_time\n",
       "0    SSVD  0.912288  0.701141       51.560422\n",
       "1  SSVDpp  0.903798  0.692692      324.249086"
      ]
     },
     "metadata": {},
     "output_type": "display_data"
    },
    {
     "name": "stdout",
     "output_type": "stream",
     "text": [
      "Wall time: 5min 24s\n"
     ]
    }
   ],
   "source": [
    "%%time\n",
    "#experiment = Experiment(\n",
    "#    api_key=\"amGQj1TC3Wyk9LYf7bD9xNV6G\",\n",
    "#    project_name=\"movie-reccomender-edsa\",\n",
    "#    workspace=\"daniel-bru\",\n",
    "#)\n",
    "\n",
    "algo = SSVDpp(random_state=1, verbose=True)\n",
    "\n",
    "start_time = time()\n",
    "algo.fit(trainset)\n",
    "predictions = algo.test(testset)\n",
    "run_time = time() - start_time\n",
    "\n",
    "# Compute Metrics\n",
    "rmse = accuracy.rmse(predictions)\n",
    "mae = accuracy.mae(predictions)\n",
    "\n",
    "# Add metrics to Perfermance Dataframe\n",
    "ssvdpp_0 = {'model': 'SSVDpp', 'RMSE': rmse,\n",
    "            'MAE': mae, 'execution_time': run_time}\n",
    "performance_df = performance_df.append([ssvdpp_0], ignore_index=True)\n",
    "display(performance_df)\n",
    "\n",
    "# Log the parameters and results\n",
    "#experiment.log_metrics(ssvdpp_0)\n",
    "#experiment.set_code()\n",
    "#experiment.end()"
   ]
  },
  {
   "cell_type": "code",
   "execution_count": 33,
   "id": "5d7694d2",
   "metadata": {},
   "outputs": [
    {
     "data": {
      "text/html": [
       "<div>\n",
       "<style scoped>\n",
       "    .dataframe tbody tr th:only-of-type {\n",
       "        vertical-align: middle;\n",
       "    }\n",
       "\n",
       "    .dataframe tbody tr th {\n",
       "        vertical-align: top;\n",
       "    }\n",
       "\n",
       "    .dataframe thead th {\n",
       "        text-align: right;\n",
       "    }\n",
       "</style>\n",
       "<table border=\"1\" class=\"dataframe\">\n",
       "  <thead>\n",
       "    <tr style=\"text-align: right;\">\n",
       "      <th></th>\n",
       "      <th>model</th>\n",
       "      <th>RMSE</th>\n",
       "      <th>MAE</th>\n",
       "      <th>execution_time</th>\n",
       "    </tr>\n",
       "  </thead>\n",
       "  <tbody>\n",
       "    <tr>\n",
       "      <th>0</th>\n",
       "      <td>SSVD</td>\n",
       "      <td>0.912288</td>\n",
       "      <td>0.701141</td>\n",
       "      <td>51.560422</td>\n",
       "    </tr>\n",
       "    <tr>\n",
       "      <th>1</th>\n",
       "      <td>SSVDpp</td>\n",
       "      <td>0.903798</td>\n",
       "      <td>0.692692</td>\n",
       "      <td>324.249086</td>\n",
       "    </tr>\n",
       "  </tbody>\n",
       "</table>\n",
       "</div>"
      ],
      "text/plain": [
       "    model      RMSE       MAE  execution_time\n",
       "0    SSVD  0.912288  0.701141       51.560422\n",
       "1  SSVDpp  0.903798  0.692692      324.249086"
      ]
     },
     "metadata": {},
     "output_type": "display_data"
    }
   ],
   "source": [
    "# Assess Performance of Surprise Algorithms\n",
    "display(performance_df)"
   ]
  },
  {
   "cell_type": "code",
   "execution_count": null,
   "id": "a37f83f5",
   "metadata": {},
   "outputs": [],
   "source": []
  },
  {
   "cell_type": "markdown",
   "id": "41cc2807",
   "metadata": {},
   "source": [
    "# 8) Hyperparameter Tuning"
   ]
  },
  {
   "cell_type": "markdown",
   "id": "b642ed70",
   "metadata": {},
   "source": [
    "### SVD"
   ]
  },
  {
   "cell_type": "code",
   "execution_count": 34,
   "id": "713b13fb",
   "metadata": {},
   "outputs": [
    {
     "name": "stdout",
     "output_type": "stream",
     "text": [
      "Processing epoch 0\n",
      "Processing epoch 1\n",
      "Processing epoch 2\n",
      "Processing epoch 3\n",
      "Processing epoch 4\n",
      "Processing epoch 5\n",
      "Processing epoch 6\n",
      "Processing epoch 7\n",
      "Processing epoch 8\n",
      "Processing epoch 9\n",
      "Processing epoch 10\n",
      "Processing epoch 11\n",
      "Processing epoch 12\n",
      "Processing epoch 13\n",
      "Processing epoch 14\n",
      "Processing epoch 15\n",
      "Processing epoch 16\n",
      "Processing epoch 17\n",
      "Processing epoch 18\n",
      "Processing epoch 19\n",
      "RMSE: 0.8935\n",
      "MAE:  0.6836\n"
     ]
    },
    {
     "data": {
      "text/html": [
       "<div>\n",
       "<style scoped>\n",
       "    .dataframe tbody tr th:only-of-type {\n",
       "        vertical-align: middle;\n",
       "    }\n",
       "\n",
       "    .dataframe tbody tr th {\n",
       "        vertical-align: top;\n",
       "    }\n",
       "\n",
       "    .dataframe thead th {\n",
       "        text-align: right;\n",
       "    }\n",
       "</style>\n",
       "<table border=\"1\" class=\"dataframe\">\n",
       "  <thead>\n",
       "    <tr style=\"text-align: right;\">\n",
       "      <th></th>\n",
       "      <th>model</th>\n",
       "      <th>RMSE</th>\n",
       "      <th>MAE</th>\n",
       "      <th>execution_time</th>\n",
       "    </tr>\n",
       "  </thead>\n",
       "  <tbody>\n",
       "    <tr>\n",
       "      <th>0</th>\n",
       "      <td>SSVD_tuned</td>\n",
       "      <td>0.89352</td>\n",
       "      <td>0.6836</td>\n",
       "      <td>20.021445</td>\n",
       "    </tr>\n",
       "  </tbody>\n",
       "</table>\n",
       "</div>"
      ],
      "text/plain": [
       "        model     RMSE     MAE  execution_time\n",
       "0  SSVD_tuned  0.89352  0.6836       20.021445"
      ]
     },
     "metadata": {},
     "output_type": "display_data"
    },
    {
     "name": "stdout",
     "output_type": "stream",
     "text": [
      "Wall time: 20 s\n"
     ]
    }
   ],
   "source": [
    "%%time\n",
    "#experiment = Experiment(\n",
    "#    api_key=\"amGQj1TC3Wyk9LYf7bD9xNV6G\",\n",
    "#    project_name=\"movie-reccomender-edsa\",\n",
    "#    workspace=\"daniel-bru\",\n",
    "#)\n",
    "\n",
    "algo = SVD(random_state=1, n_factors=12, lr_all=0.007, reg_all=0.02, n_epochs=20,\n",
    "           init_std_dev=0.005, init_mean=-0.025, lr_qi=0.01, lr_bi=0.005,\n",
    "           verbose=True)\n",
    "# Train the algorithm on the trainset, and predict ratings for the testset\n",
    "start_time = time()\n",
    "algo.fit(trainset)\n",
    "predictions = algo.test(testset)\n",
    "run_time = time() - start_time\n",
    "\n",
    "# Compute Metrics\n",
    "rmse = accuracy.rmse(predictions)\n",
    "mae = accuracy.mae(predictions)\n",
    "\n",
    "# Create and add metrics to Tuned Perfermance Dataframe\n",
    "tuned_performance_df = pd.DataFrame()\n",
    "ssvd_1 = {'model': 'SSVD_tuned', 'RMSE': rmse,\n",
    "          'MAE': mae, 'execution_time': run_time}\n",
    "tuned_performance_df = tuned_performance_df.append([ssvd_1], ignore_index=True)\n",
    "display(tuned_performance_df)\n",
    "\n",
    "# Log the parameters and results\n",
    "#experiment.log_metrics(ssvd_1)\n",
    "#experiment.set_code()\n",
    "#experiment.end()"
   ]
  },
  {
   "cell_type": "markdown",
   "id": "ece1cee7",
   "metadata": {},
   "source": [
    "# SVDpp"
   ]
  },
  {
   "cell_type": "code",
   "execution_count": 35,
   "id": "2580c644",
   "metadata": {},
   "outputs": [
    {
     "name": "stdout",
     "output_type": "stream",
     "text": [
      " processing epoch 0\n",
      " processing epoch 1\n",
      " processing epoch 2\n",
      " processing epoch 3\n",
      " processing epoch 4\n",
      " processing epoch 5\n",
      " processing epoch 6\n",
      " processing epoch 7\n",
      " processing epoch 8\n",
      " processing epoch 9\n",
      " processing epoch 10\n",
      " processing epoch 11\n",
      " processing epoch 12\n",
      " processing epoch 13\n",
      " processing epoch 14\n",
      " processing epoch 15\n",
      " processing epoch 16\n",
      " processing epoch 17\n",
      " processing epoch 18\n",
      " processing epoch 19\n",
      "RMSE: 0.8861\n",
      "MAE:  0.6766\n"
     ]
    },
    {
     "data": {
      "text/html": [
       "<div>\n",
       "<style scoped>\n",
       "    .dataframe tbody tr th:only-of-type {\n",
       "        vertical-align: middle;\n",
       "    }\n",
       "\n",
       "    .dataframe tbody tr th {\n",
       "        vertical-align: top;\n",
       "    }\n",
       "\n",
       "    .dataframe thead th {\n",
       "        text-align: right;\n",
       "    }\n",
       "</style>\n",
       "<table border=\"1\" class=\"dataframe\">\n",
       "  <thead>\n",
       "    <tr style=\"text-align: right;\">\n",
       "      <th></th>\n",
       "      <th>model</th>\n",
       "      <th>RMSE</th>\n",
       "      <th>MAE</th>\n",
       "      <th>execution_time</th>\n",
       "    </tr>\n",
       "  </thead>\n",
       "  <tbody>\n",
       "    <tr>\n",
       "      <th>0</th>\n",
       "      <td>SSVD_tuned</td>\n",
       "      <td>0.893520</td>\n",
       "      <td>0.68360</td>\n",
       "      <td>20.021445</td>\n",
       "    </tr>\n",
       "    <tr>\n",
       "      <th>1</th>\n",
       "      <td>SSVDpp_tuned</td>\n",
       "      <td>0.886147</td>\n",
       "      <td>0.67663</td>\n",
       "      <td>283.488794</td>\n",
       "    </tr>\n",
       "  </tbody>\n",
       "</table>\n",
       "</div>"
      ],
      "text/plain": [
       "          model      RMSE      MAE  execution_time\n",
       "0    SSVD_tuned  0.893520  0.68360       20.021445\n",
       "1  SSVDpp_tuned  0.886147  0.67663      283.488794"
      ]
     },
     "metadata": {},
     "output_type": "display_data"
    },
    {
     "name": "stdout",
     "output_type": "stream",
     "text": [
      "Wall time: 4min 43s\n"
     ]
    }
   ],
   "source": [
    "%%time\n",
    "#experiment = Experiment(\n",
    "#    api_key=\"amGQj1TC3Wyk9LYf7bD9xNV6G\",\n",
    "#    project_name=\"movie-reccomender-edsa\",\n",
    "#    workspace=\"daniel-bru\",\n",
    "#)\n",
    "\n",
    "algo = SSVDpp(random_state=1, n_factors=12, lr_all=0.007, reg_all=0.02, n_epochs=20,\n",
    "              init_std_dev=0.005, init_mean=-0.025, verbose=True)\n",
    "# Train the algorithm on the trainset, and predict ratings for the testset\n",
    "start_time = time()\n",
    "algo.fit(trainset)\n",
    "predictions = algo.test(testset)\n",
    "run_time = time() - start_time\n",
    "\n",
    "# Compute Metrics\n",
    "rmse = accuracy.rmse(predictions)\n",
    "mae = accuracy.mae(predictions)\n",
    "\n",
    "# Create and add metrics to Tuned Perfermance Dataframe\n",
    "ssvdpp_1 = {'model': 'SSVDpp_tuned', 'RMSE': rmse,\n",
    "            'MAE': mae, 'execution_time': run_time}\n",
    "tuned_performance_df = tuned_performance_df.append(\n",
    "    [ssvdpp_1], ignore_index=True)\n",
    "tuned_performance_df.drop_duplicates(inplace=True)\n",
    "display(tuned_performance_df)\n",
    "\n",
    "# Log the parameters and results\n",
    "#experiment.log_metrics(ssvdpp_1)\n",
    "#experiment.set_code()\n",
    "#experiment.end()"
   ]
  },
  {
   "cell_type": "markdown",
   "id": "b7098c21",
   "metadata": {},
   "source": [
    "# Surprise Models Assessment"
   ]
  },
  {
   "cell_type": "code",
   "execution_count": 36,
   "id": "5e206616",
   "metadata": {},
   "outputs": [],
   "source": [
    "tuned_performance_df = tuned_performance_df.set_index('model')\n",
    "performance_df = performance_df.set_index('model')"
   ]
  },
  {
   "cell_type": "code",
   "execution_count": 37,
   "id": "1061b9ce",
   "metadata": {},
   "outputs": [
    {
     "data": {
      "text/plain": [
       "<AxesSubplot:title={'center':'RMSE'}, ylabel='model'>"
      ]
     },
     "execution_count": 37,
     "metadata": {},
     "output_type": "execute_result"
    },
    {
     "data": {
      "image/png": "[encoded data removed]",
      "text/plain": [
       "<Figure size 1080x216 with 1 Axes>"
      ]
     },
     "metadata": {
      "needs_background": "light"
     },
     "output_type": "display_data"
    }
   ],
   "source": [
    "tuned_performance_df.plot(y='RMSE', kind='barh', xlim=[0.8, 0.92], color='blue', edgecolor='blue',\n",
    "                          figsize=(15, 3), fontsize=10, legend=True, title='RMSE')"
   ]
  },
  {
   "cell_type": "code",
   "execution_count": 38,
   "id": "e6dca041",
   "metadata": {},
   "outputs": [
    {
     "data": {
      "text/html": [
       "<div>\n",
       "<style scoped>\n",
       "    .dataframe tbody tr th:only-of-type {\n",
       "        vertical-align: middle;\n",
       "    }\n",
       "\n",
       "    .dataframe tbody tr th {\n",
       "        vertical-align: top;\n",
       "    }\n",
       "\n",
       "    .dataframe thead th {\n",
       "        text-align: right;\n",
       "    }\n",
       "</style>\n",
       "<table border=\"1\" class=\"dataframe\">\n",
       "  <thead>\n",
       "    <tr style=\"text-align: right;\">\n",
       "      <th></th>\n",
       "      <th>RMSE</th>\n",
       "      <th>MAE</th>\n",
       "      <th>execution_time</th>\n",
       "    </tr>\n",
       "    <tr>\n",
       "      <th>model</th>\n",
       "      <th></th>\n",
       "      <th></th>\n",
       "      <th></th>\n",
       "    </tr>\n",
       "  </thead>\n",
       "  <tbody>\n",
       "    <tr>\n",
       "      <th>SSVD_tuned</th>\n",
       "      <td>0.893520</td>\n",
       "      <td>0.68360</td>\n",
       "      <td>20.021445</td>\n",
       "    </tr>\n",
       "    <tr>\n",
       "      <th>SSVDpp_tuned</th>\n",
       "      <td>0.886147</td>\n",
       "      <td>0.67663</td>\n",
       "      <td>283.488794</td>\n",
       "    </tr>\n",
       "  </tbody>\n",
       "</table>\n",
       "</div>"
      ],
      "text/plain": [
       "                  RMSE      MAE  execution_time\n",
       "model                                          \n",
       "SSVD_tuned    0.893520  0.68360       20.021445\n",
       "SSVDpp_tuned  0.886147  0.67663      283.488794"
      ]
     },
     "metadata": {},
     "output_type": "display_data"
    },
    {
     "data": {
      "text/html": [
       "<div>\n",
       "<style scoped>\n",
       "    .dataframe tbody tr th:only-of-type {\n",
       "        vertical-align: middle;\n",
       "    }\n",
       "\n",
       "    .dataframe tbody tr th {\n",
       "        vertical-align: top;\n",
       "    }\n",
       "\n",
       "    .dataframe thead th {\n",
       "        text-align: right;\n",
       "    }\n",
       "</style>\n",
       "<table border=\"1\" class=\"dataframe\">\n",
       "  <thead>\n",
       "    <tr style=\"text-align: right;\">\n",
       "      <th></th>\n",
       "      <th>RMSE</th>\n",
       "      <th>MAE</th>\n",
       "      <th>execution_time</th>\n",
       "    </tr>\n",
       "    <tr>\n",
       "      <th>model</th>\n",
       "      <th></th>\n",
       "      <th></th>\n",
       "      <th></th>\n",
       "    </tr>\n",
       "  </thead>\n",
       "  <tbody>\n",
       "    <tr>\n",
       "      <th>SSVD</th>\n",
       "      <td>0.912288</td>\n",
       "      <td>0.701141</td>\n",
       "      <td>51.560422</td>\n",
       "    </tr>\n",
       "    <tr>\n",
       "      <th>SSVDpp</th>\n",
       "      <td>0.903798</td>\n",
       "      <td>0.692692</td>\n",
       "      <td>324.249086</td>\n",
       "    </tr>\n",
       "  </tbody>\n",
       "</table>\n",
       "</div>"
      ],
      "text/plain": [
       "            RMSE       MAE  execution_time\n",
       "model                                     \n",
       "SSVD    0.912288  0.701141       51.560422\n",
       "SSVDpp  0.903798  0.692692      324.249086"
      ]
     },
     "metadata": {},
     "output_type": "display_data"
    },
    {
     "data": {
      "image/png": "[encoded data removed]",
      "text/plain": [
       "<Figure size 1080x216 with 1 Axes>"
      ]
     },
     "metadata": {
      "needs_background": "light"
     },
     "output_type": "display_data"
    }
   ],
   "source": [
    "tuned_performance_df.plot(y='execution_time', kind='barh', xlim=[20, 390], color='blue', edgecolor='blue',\n",
    "                          figsize=(15, 3), fontsize=10, legend=True, title='Execution Time')\n",
    "display(tuned_performance_df)\n",
    "display(performance_df)"
   ]
  },
  {
   "cell_type": "markdown",
   "id": "d52980ab",
   "metadata": {},
   "source": [
    "The execution time for surprise models plays a big role in deciding the best model. This is because increasing number of epochs doesn't always improve the models accuracy but always increases the execution time tremendously.\n",
    "\n",
    "Due to the tremendously high exectution time of the surprise SVDpp and only holding a 0.0075 RMSE lead on the SVD, we wont be persuing it any longer.\n",
    "\n",
    "While these two models are the best performing from the surprise package, they might not be the best models across all the recommender algorithms packages. We will now shift our attention to other recommender packages and assess their algorithms performaces."
   ]
  },
  {
   "cell_type": "code",
   "execution_count": 39,
   "id": "2b6571f2",
   "metadata": {},
   "outputs": [],
   "source": [
    "gc.collect()\n",
    "del algo, trainset, testset,\n",
    "sleep(10)"
   ]
  },
  {
   "cell_type": "code",
   "execution_count": 40,
   "id": "c9a39a49",
   "metadata": {},
   "outputs": [],
   "source": [
    "from libreco.data import random_split, DatasetPure, DataInfo\n",
    "from libreco.data import split_by_ratio_chrono, DatasetFeat\n",
    "from libreco.algorithms import SVD as libSVD\n",
    "from libreco.algorithms import SVDpp, BPR\n",
    "from libreco.algorithms import FM, WideDeep, DeepFM, AutoInt, DIN\n",
    "from libreco.evaluation import evaluate\n",
    "import os\n",
    "import tensorflow as tf\n",
    "os.environ['TF_CPP_MIN_LOG_LEVEL'] = '3'\n",
    "os.environ[\"KMP_WARNINGS\"] = \"FALSE\"\n",
    "tf.compat.v1.logging.set_verbosity(tf.compat.v1.logging.ERROR)\n",
    "def reset_state(name):\n",
    "    tf.compat.v1.reset_default_graph()\n",
    "    print(\"\\n\", \"=\" * 30, name, \"=\" * 30)"
   ]
  },
  {
   "cell_type": "markdown",
   "id": "2db62967",
   "metadata": {},
   "source": [
    "### Using The LibRecommender Package\n",
    "\n"
   ]
  },
  {
   "cell_type": "markdown",
   "id": "2e96def0",
   "metadata": {},
   "source": [
    "### Collaborative Filtering"
   ]
  },
  {
   "cell_type": "code",
   "execution_count": 41,
   "id": "4d2bd576",
   "metadata": {},
   "outputs": [
    {
     "name": "stdout",
     "output_type": "stream",
     "text": [
      "n_users: 160834, n_items: 13036, data sparsity: 0.4650 %\n",
      "Wall time: 27.6 s\n"
     ]
    }
   ],
   "source": [
    "%%time\n",
    "# We are using the full train dataframe because we dont need to sample to save time.\n",
    "data = df_train.copy()\n",
    "data.rename(columns={'userId': 'user', 'movieId': 'item', 'rating': 'label',\n",
    "                               'timestamp': 'time'}, inplace=True)\n",
    "\n",
    "# split whole data into three folds for training, evaluating and testing\n",
    "train_data, eval_data, test_data = random_split(\n",
    "    data, multi_ratios=[0.99, 0.005, 0.005])\n",
    "\n",
    "# building data sets\n",
    "train_data, data_info = DatasetPure.build_trainset(train_data)\n",
    "eval_data = DatasetPure.build_evalset(eval_data)\n",
    "test_data = DatasetPure.build_testset(test_data)\n",
    "print(data_info)"
   ]
  },
  {
   "cell_type": "code",
   "execution_count": 42,
   "id": "404385ac",
   "metadata": {},
   "outputs": [],
   "source": [
    "def reset_state(name):\n",
    "    tf.compat.v1.reset_default_graph()\n",
    "    print(\"\\n\", \"=\" * 30, name, \"=\" * 30)"
   ]
  },
  {
   "cell_type": "markdown",
   "id": "7cfcb5e1",
   "metadata": {},
   "source": [
    "# SVD"
   ]
  },
  {
   "cell_type": "code",
   "execution_count": 43,
   "id": "64039d46",
   "metadata": {},
   "outputs": [
    {
     "name": "stdout",
     "output_type": "stream",
     "text": [
      "\n",
      " ============================== libSVD ==============================\n",
      "Training start time: \u001b[35m2022-02-03 17:11:07\u001b[0m\n"
     ]
    },
    {
     "name": "stderr",
     "output_type": "stream",
     "text": [
      "train: 100%|██████████| 1084/1084 [00:21<00:00, 51.28it/s]\n",
      "eval_pred: 100%|██████████| 7/7 [00:00<00:00, 350.61it/s]\n"
     ]
    },
    {
     "name": "stdout",
     "output_type": "stream",
     "text": [
      "Epoch 1 elapsed: 24.322s\n",
      "\t \u001b[32mtrain_loss: 0.7919\u001b[0m\n",
      "\t eval rmse: 0.8310\n",
      "\t eval mae: 0.6329\n",
      "\t eval r2: 0.3852\n",
      "==============================\n"
     ]
    },
    {
     "name": "stderr",
     "output_type": "stream",
     "text": [
      "train: 100%|██████████| 1084/1084 [00:20<00:00, 52.76it/s]\n",
      "eval_pred: 100%|██████████| 7/7 [00:00<00:00, 573.26it/s]\n"
     ]
    },
    {
     "name": "stdout",
     "output_type": "stream",
     "text": [
      "Epoch 2 elapsed: 23.618s\n",
      "\t \u001b[32mtrain_loss: 0.6456\u001b[0m\n",
      "\t eval rmse: 0.8123\n",
      "\t eval mae: 0.6179\n",
      "\t eval r2: 0.4125\n",
      "==============================\n"
     ]
    },
    {
     "name": "stderr",
     "output_type": "stream",
     "text": [
      "train: 100%|██████████| 1084/1084 [00:19<00:00, 54.86it/s]\n",
      "eval_pred: 100%|██████████| 7/7 [00:00<00:00, 384.57it/s]\n"
     ]
    },
    {
     "name": "stdout",
     "output_type": "stream",
     "text": [
      "Epoch 3 elapsed: 22.751s\n",
      "\t \u001b[32mtrain_loss: 0.597\u001b[0m\n",
      "\t eval rmse: 0.8073\n",
      "\t eval mae: 0.6134\n",
      "\t eval r2: 0.4197\n",
      "==============================\n"
     ]
    },
    {
     "name": "stderr",
     "output_type": "stream",
     "text": [
      "train: 100%|██████████| 1084/1084 [00:19<00:00, 55.01it/s]\n",
      "eval_pred: 100%|██████████| 7/7 [00:00<00:00, 437.46it/s]\n"
     ]
    },
    {
     "name": "stdout",
     "output_type": "stream",
     "text": [
      "Epoch 4 elapsed: 22.767s\n",
      "\t \u001b[32mtrain_loss: 0.5697\u001b[0m\n",
      "\t eval rmse: 0.8054\n",
      "\t eval mae: 0.6117\n",
      "\t eval r2: 0.4226\n",
      "==============================\n"
     ]
    },
    {
     "name": "stderr",
     "output_type": "stream",
     "text": [
      "train: 100%|██████████| 1084/1084 [00:19<00:00, 54.96it/s]\n",
      "eval_pred: 100%|██████████| 7/7 [00:00<00:00, 497.76it/s]\n"
     ]
    },
    {
     "name": "stdout",
     "output_type": "stream",
     "text": [
      "Epoch 5 elapsed: 22.851s\n",
      "\t \u001b[32mtrain_loss: 0.555\u001b[0m\n",
      "\t eval rmse: 0.8050\n",
      "\t eval mae: 0.6114\n",
      "\t eval r2: 0.4231\n",
      "==============================\n"
     ]
    },
    {
     "name": "stderr",
     "output_type": "stream",
     "text": [
      "train: 100%|██████████| 1084/1084 [00:19<00:00, 54.74it/s]\n",
      "eval_pred: 100%|██████████| 7/7 [00:00<00:00, 477.86it/s]\n"
     ]
    },
    {
     "name": "stdout",
     "output_type": "stream",
     "text": [
      "Epoch 6 elapsed: 22.917s\n",
      "\t \u001b[32mtrain_loss: 0.5466\u001b[0m\n",
      "\t eval rmse: 0.8052\n",
      "\t eval mae: 0.6110\n",
      "\t eval r2: 0.4228\n",
      "==============================\n"
     ]
    },
    {
     "name": "stderr",
     "output_type": "stream",
     "text": [
      "train: 100%|██████████| 1084/1084 [00:20<00:00, 53.23it/s]\n",
      "eval_pred: 100%|██████████| 7/7 [00:00<00:00, 437.25it/s]\n"
     ]
    },
    {
     "name": "stdout",
     "output_type": "stream",
     "text": [
      "Epoch 7 elapsed: 23.504s\n",
      "\t \u001b[32mtrain_loss: 0.5414\u001b[0m\n",
      "\t eval rmse: 0.8043\n",
      "\t eval mae: 0.6107\n",
      "\t eval r2: 0.4241\n",
      "==============================\n"
     ]
    },
    {
     "name": "stderr",
     "output_type": "stream",
     "text": [
      "train: 100%|██████████| 1084/1084 [00:19<00:00, 55.19it/s]\n",
      "eval_pred: 100%|██████████| 7/7 [00:00<00:00, 340.55it/s]\n"
     ]
    },
    {
     "name": "stdout",
     "output_type": "stream",
     "text": [
      "Epoch 8 elapsed: 22.681s\n",
      "\t \u001b[32mtrain_loss: 0.538\u001b[0m\n",
      "\t eval rmse: 0.8044\n",
      "\t eval mae: 0.6105\n",
      "\t eval r2: 0.4239\n",
      "==============================\n"
     ]
    },
    {
     "name": "stderr",
     "output_type": "stream",
     "text": [
      "train: 100%|██████████| 1084/1084 [00:19<00:00, 55.11it/s]\n",
      "eval_pred: 100%|██████████| 7/7 [00:00<00:00, 437.77it/s]\n"
     ]
    },
    {
     "name": "stdout",
     "output_type": "stream",
     "text": [
      "Epoch 9 elapsed: 22.871s\n",
      "\t \u001b[32mtrain_loss: 0.5357\u001b[0m\n",
      "\t eval rmse: 0.8045\n",
      "\t eval mae: 0.6108\n",
      "\t eval r2: 0.4238\n",
      "==============================\n"
     ]
    },
    {
     "name": "stderr",
     "output_type": "stream",
     "text": [
      "train: 100%|██████████| 1084/1084 [00:20<00:00, 54.13it/s]\n",
      "eval_pred: 100%|██████████| 7/7 [00:00<00:00, 868.10it/s]\n"
     ]
    },
    {
     "name": "stdout",
     "output_type": "stream",
     "text": [
      "Epoch 10 elapsed: 23.251s\n",
      "\t \u001b[32mtrain_loss: 0.5339\u001b[0m\n",
      "\t eval rmse: 0.8041\n",
      "\t eval mae: 0.6098\n",
      "\t eval r2: 0.4244\n",
      "==============================\n"
     ]
    },
    {
     "name": "stderr",
     "output_type": "stream",
     "text": [
      "train: 100%|██████████| 1084/1084 [00:19<00:00, 54.52it/s]\n",
      "eval_pred: 100%|██████████| 7/7 [00:00<00:00, 362.50it/s]\n"
     ]
    },
    {
     "name": "stdout",
     "output_type": "stream",
     "text": [
      "Epoch 11 elapsed: 22.935s\n",
      "\t \u001b[32mtrain_loss: 0.5325\u001b[0m\n",
      "\t eval rmse: 0.8034\n",
      "\t eval mae: 0.6098\n",
      "\t eval r2: 0.4254\n",
      "==============================\n"
     ]
    },
    {
     "name": "stderr",
     "output_type": "stream",
     "text": [
      "train: 100%|██████████| 1084/1084 [00:19<00:00, 55.01it/s]\n",
      "eval_pred: 100%|██████████| 7/7 [00:00<00:00, 324.42it/s]\n"
     ]
    },
    {
     "name": "stdout",
     "output_type": "stream",
     "text": [
      "Epoch 12 elapsed: 22.879s\n",
      "\t \u001b[32mtrain_loss: 0.5315\u001b[0m\n",
      "\t eval rmse: 0.8039\n",
      "\t eval mae: 0.6103\n",
      "\t eval r2: 0.4246\n",
      "==============================\n"
     ]
    },
    {
     "name": "stderr",
     "output_type": "stream",
     "text": [
      "train: 100%|██████████| 1084/1084 [00:20<00:00, 54.16it/s]\n",
      "eval_pred: 100%|██████████| 7/7 [00:00<00:00, 337.00it/s]\n"
     ]
    },
    {
     "name": "stdout",
     "output_type": "stream",
     "text": [
      "Epoch 13 elapsed: 23.128s\n",
      "\t \u001b[32mtrain_loss: 0.5306\u001b[0m\n",
      "\t eval rmse: 0.8033\n",
      "\t eval mae: 0.6095\n",
      "\t eval r2: 0.4255\n",
      "==============================\n"
     ]
    },
    {
     "name": "stderr",
     "output_type": "stream",
     "text": [
      "train: 100%|██████████| 1084/1084 [00:19<00:00, 56.26it/s]\n",
      "eval_pred: 100%|██████████| 7/7 [00:00<00:00, 699.10it/s]\n"
     ]
    },
    {
     "name": "stdout",
     "output_type": "stream",
     "text": [
      "Epoch 14 elapsed: 22.213s\n",
      "\t \u001b[32mtrain_loss: 0.5299\u001b[0m\n",
      "\t eval rmse: 0.8022\n",
      "\t eval mae: 0.6086\n",
      "\t eval r2: 0.4271\n",
      "==============================\n"
     ]
    },
    {
     "name": "stderr",
     "output_type": "stream",
     "text": [
      "train: 100%|██████████| 1084/1084 [00:19<00:00, 54.87it/s]\n",
      "eval_pred: 100%|██████████| 7/7 [00:00<00:00, 437.25it/s]\n"
     ]
    },
    {
     "name": "stdout",
     "output_type": "stream",
     "text": [
      "Epoch 15 elapsed: 22.768s\n",
      "\t \u001b[32mtrain_loss: 0.5294\u001b[0m\n",
      "\t eval rmse: 0.8030\n",
      "\t eval mae: 0.6093\n",
      "\t eval r2: 0.4260\n",
      "==============================\n"
     ]
    },
    {
     "name": "stderr",
     "output_type": "stream",
     "text": [
      "train: 100%|██████████| 1084/1084 [00:19<00:00, 55.13it/s]\n",
      "eval_pred: 100%|██████████| 7/7 [00:00<00:00, 385.62it/s]\n"
     ]
    },
    {
     "name": "stdout",
     "output_type": "stream",
     "text": [
      "Epoch 16 elapsed: 22.754s\n",
      "\t \u001b[32mtrain_loss: 0.529\u001b[0m\n",
      "\t eval rmse: 0.8026\n",
      "\t eval mae: 0.6094\n",
      "\t eval r2: 0.4266\n",
      "==============================\n"
     ]
    },
    {
     "name": "stderr",
     "output_type": "stream",
     "text": [
      "train: 100%|██████████| 1084/1084 [00:19<00:00, 54.85it/s]\n",
      "eval_pred: 100%|██████████| 7/7 [00:00<00:00, 437.60it/s]\n"
     ]
    },
    {
     "name": "stdout",
     "output_type": "stream",
     "text": [
      "Epoch 17 elapsed: 22.880s\n",
      "\t \u001b[32mtrain_loss: 0.5286\u001b[0m\n",
      "\t eval rmse: 0.8031\n",
      "\t eval mae: 0.6100\n",
      "\t eval r2: 0.4259\n",
      "==============================\n"
     ]
    },
    {
     "name": "stderr",
     "output_type": "stream",
     "text": [
      "train: 100%|██████████| 1084/1084 [00:20<00:00, 53.43it/s]\n",
      "eval_pred: 100%|██████████| 7/7 [00:00<00:00, 769.42it/s]\n"
     ]
    },
    {
     "name": "stdout",
     "output_type": "stream",
     "text": [
      "Epoch 18 elapsed: 23.365s\n",
      "\t \u001b[32mtrain_loss: 0.5282\u001b[0m\n",
      "\t eval rmse: 0.8025\n",
      "\t eval mae: 0.6091\n",
      "\t eval r2: 0.4267\n",
      "==============================\n"
     ]
    },
    {
     "name": "stderr",
     "output_type": "stream",
     "text": [
      "train: 100%|██████████| 1084/1084 [00:20<00:00, 53.17it/s]\n",
      "eval_pred: 100%|██████████| 7/7 [00:00<00:00, 342.60it/s]\n"
     ]
    },
    {
     "name": "stdout",
     "output_type": "stream",
     "text": [
      "Epoch 19 elapsed: 23.661s\n",
      "\t \u001b[32mtrain_loss: 0.5279\u001b[0m\n",
      "\t eval rmse: 0.8022\n",
      "\t eval mae: 0.6087\n",
      "\t eval r2: 0.4271\n",
      "==============================\n"
     ]
    },
    {
     "name": "stderr",
     "output_type": "stream",
     "text": [
      "train: 100%|██████████| 1084/1084 [00:18<00:00, 57.28it/s]\n",
      "eval_pred: 100%|██████████| 7/7 [00:00<00:00, 437.81it/s]\n",
      "eval_pred: 100%|██████████| 7/7 [00:00<00:00, 493.93it/s]\n"
     ]
    },
    {
     "name": "stdout",
     "output_type": "stream",
     "text": [
      "Epoch 20 elapsed: 22.176s\n",
      "\t \u001b[32mtrain_loss: 0.5276\u001b[0m\n",
      "\t eval rmse: 0.8017\n",
      "\t eval mae: 0.6086\n",
      "\t eval r2: 0.4278\n",
      "==============================\n",
      "evaluate_result:  {'rmse': 0.8018021138924468, 'mae': 0.6069417613970838}\n",
      "Wall time: 7min 42s\n"
     ]
    }
   ],
   "source": [
    "%%time\n",
    "#experiment = Experiment(\n",
    "#    api_key=\"amGQj1TC3Wyk9LYf7bD9xNV6G\",\n",
    "#    project_name=\"movie-reccomender-edsa\",\n",
    "#    workspace=\"daniel-bru\",\n",
    "#)\n",
    "\n",
    "reset_state('libSVD')\n",
    "svd_lib = libSVD(task=\"rating\", data_info=data_info, embed_size=16, n_epochs=20, lr=0.004, batch_size=9000,\n",
    "                 batch_sampling=True, reg=0.000001, num_neg=-5)  \n",
    "# monitor metrics on eval_data during training\n",
    "svd_lib.fit(train_data, verbose=2, eval_data=eval_data, metrics=[\"rmse\", \"mae\", \"r2\"])\n",
    "\n",
    "# do final evaluation on test data\n",
    "metrics = evaluate(model=svd_lib, data=test_data, metrics=[\"rmse\", \"mae\"])\n",
    "print(\"evaluate_result: \", metrics)\n",
    "\n",
    "# Log the parameters and results \n",
    "#experiment.log_metrics(metrics)\n",
    "#experiment.set_code()\n",
    "#experiment.end()"
   ]
  },
  {
   "cell_type": "markdown",
   "id": "f4485996",
   "metadata": {},
   "source": [
    "This model appears very good. Being trained on the entire dataset, the exection time is 7 minutes on 20 epochs and gives us a very good RMSE of 0.8028 on the test set.\n",
    "\n",
    "We can predict the rating a user might give a movie by calling the predict function. We can also reccomend movies to a user by specifying that users userId and the number of recommendations into the libreccomender recommend_user function."
   ]
  },
  {
   "cell_type": "code",
   "execution_count": 44,
   "id": "e63f92b1",
   "metadata": {},
   "outputs": [
    {
     "name": "stdout",
     "output_type": "stream",
     "text": [
      "prediction:  4.1111226\n",
      "User 5163 will be recommended:\n"
     ]
    },
    {
     "data": {
      "text/html": [
       "<div>\n",
       "<style scoped>\n",
       "    .dataframe tbody tr th:only-of-type {\n",
       "        vertical-align: middle;\n",
       "    }\n",
       "\n",
       "    .dataframe tbody tr th {\n",
       "        vertical-align: top;\n",
       "    }\n",
       "\n",
       "    .dataframe thead th {\n",
       "        text-align: right;\n",
       "    }\n",
       "</style>\n",
       "<table border=\"1\" class=\"dataframe\">\n",
       "  <thead>\n",
       "    <tr style=\"text-align: right;\">\n",
       "      <th></th>\n",
       "      <th>title</th>\n",
       "      <th>genres</th>\n",
       "      <th>rating</th>\n",
       "    </tr>\n",
       "    <tr>\n",
       "      <th>movieId</th>\n",
       "      <th></th>\n",
       "      <th></th>\n",
       "      <th></th>\n",
       "    </tr>\n",
       "  </thead>\n",
       "  <tbody>\n",
       "    <tr>\n",
       "      <th>296</th>\n",
       "      <td>Pulp Fiction (1994)</td>\n",
       "      <td>Comedy|Crime|Drama|Thriller</td>\n",
       "      <td>5.487018</td>\n",
       "    </tr>\n",
       "    <tr>\n",
       "      <th>1089</th>\n",
       "      <td>Reservoir Dogs (1992)</td>\n",
       "      <td>Crime|Mystery|Thriller</td>\n",
       "      <td>5.357824</td>\n",
       "    </tr>\n",
       "    <tr>\n",
       "      <th>1206</th>\n",
       "      <td>Clockwork Orange, A (1971)</td>\n",
       "      <td>Crime|Drama|Sci-Fi|Thriller</td>\n",
       "      <td>5.144361</td>\n",
       "    </tr>\n",
       "    <tr>\n",
       "      <th>6874</th>\n",
       "      <td>Kill Bill: Vol. 1 (2003)</td>\n",
       "      <td>Action|Crime|Thriller</td>\n",
       "      <td>5.129533</td>\n",
       "    </tr>\n",
       "    <tr>\n",
       "      <th>7438</th>\n",
       "      <td>Kill Bill: Vol. 2 (2004)</td>\n",
       "      <td>Action|Drama|Thriller</td>\n",
       "      <td>5.010985</td>\n",
       "    </tr>\n",
       "  </tbody>\n",
       "</table>\n",
       "</div>"
      ],
      "text/plain": [
       "                              title                       genres    rating\n",
       "movieId                                                                   \n",
       "296             Pulp Fiction (1994)  Comedy|Crime|Drama|Thriller  5.487018\n",
       "1089          Reservoir Dogs (1992)       Crime|Mystery|Thriller  5.357824\n",
       "1206     Clockwork Orange, A (1971)  Crime|Drama|Sci-Fi|Thriller  5.144361\n",
       "6874       Kill Bill: Vol. 1 (2003)        Action|Crime|Thriller  5.129533\n",
       "7438       Kill Bill: Vol. 2 (2004)        Action|Drama|Thriller  5.010985"
      ]
     },
     "metadata": {},
     "output_type": "display_data"
    }
   ],
   "source": [
    "prediction = svd_lib.predict(user=5163, item=57669)\n",
    "recommendation = svd_lib.recommend_user(user=5163, n_rec=5)\n",
    "print(\"prediction: \", prediction[0])\n",
    "\n",
    "rec = []\n",
    "ratings = []\n",
    "recommended_movies = movies_df.copy()\n",
    "\n",
    "for r in recommendation:\n",
    "    rec.append(r[0])\n",
    "    ratings.append(r[1])\n",
    "    \n",
    "recommended_movies = recommended_movies[recommended_movies['movieId'].isin(rec)].set_index('movieId').copy()\n",
    "recommended_movies['rating'] = ratings\n",
    "\n",
    "print('User 5163 will be recommended:')\n",
    "display(recommended_movies.sort_values('rating', ascending =False))"
   ]
  },
  {
   "cell_type": "code",
   "execution_count": 45,
   "id": "a36e5279",
   "metadata": {},
   "outputs": [],
   "source": [
    "gc.collect()\n",
    "del data, svd_lib\n",
    "sleep(10)"
   ]
  },
  {
   "cell_type": "markdown",
   "id": "a7cd6d70",
   "metadata": {},
   "source": [
    "### SVDpp"
   ]
  },
  {
   "cell_type": "code",
   "execution_count": 46,
   "id": "f448a6b4",
   "metadata": {},
   "outputs": [
    {
     "name": "stdout",
     "output_type": "stream",
     "text": [
      "\n",
      " ============================== SVDpp ==============================\n",
      "Training start time: \u001b[35m2022-02-03 17:19:00\u001b[0m\n"
     ]
    },
    {
     "name": "stderr",
     "output_type": "stream",
     "text": [
      "train: 100%|██████████| 976/976 [13:15<00:00,  1.23it/s]\n"
     ]
    },
    {
     "name": "stdout",
     "output_type": "stream",
     "text": [
      "Epoch 1 elapsed: 799.856s\n",
      "\t \u001b[32mtrain_loss: 0.7423\u001b[0m\n"
     ]
    },
    {
     "name": "stderr",
     "output_type": "stream",
     "text": [
      "eval_pred: 100%|██████████| 7/7 [00:00<00:00, 218.72it/s]\n"
     ]
    },
    {
     "name": "stdout",
     "output_type": "stream",
     "text": [
      "\t eval rmse: 0.8183\n",
      "\t eval mae: 0.6257\n",
      "\t eval r2: 0.4038\n",
      "==============================\n"
     ]
    },
    {
     "name": "stderr",
     "output_type": "stream",
     "text": [
      "train: 100%|██████████| 976/976 [12:34<00:00,  1.29it/s]\n"
     ]
    },
    {
     "name": "stdout",
     "output_type": "stream",
     "text": [
      "Epoch 2 elapsed: 758.697s\n",
      "\t \u001b[32mtrain_loss: 0.6323\u001b[0m\n"
     ]
    },
    {
     "name": "stderr",
     "output_type": "stream",
     "text": [
      "eval_pred: 100%|██████████| 7/7 [00:00<00:00, 651.93it/s]\n"
     ]
    },
    {
     "name": "stdout",
     "output_type": "stream",
     "text": [
      "\t eval rmse: 0.8014\n",
      "\t eval mae: 0.6120\n",
      "\t eval r2: 0.4282\n",
      "==============================\n"
     ]
    },
    {
     "name": "stderr",
     "output_type": "stream",
     "text": [
      "eval_pred: 100%|██████████| 7/7 [00:00<00:00, 330.09it/s]"
     ]
    },
    {
     "name": "stdout",
     "output_type": "stream",
     "text": [
      "evaluate_result:  {'rmse': 0.8002537411527509, 'mae': 0.6096612444072878}\n",
      "Wall time: 26min 11s\n"
     ]
    },
    {
     "name": "stderr",
     "output_type": "stream",
     "text": [
      "\n"
     ]
    }
   ],
   "source": [
    "%%time\n",
    "#experiment = Experiment(\n",
    "#    api_key=\"amGQj1TC3Wyk9LYf7bD9xNV6G\",\n",
    "#    project_name=\"movie-reccomender-edsa\",\n",
    "#    workspace=\"daniel-bru\",\n",
    "#)\n",
    "\n",
    "reset_state('SVDpp')\n",
    "svdpp = SVDpp(task=\"rating\", data_info=data_info, embed_size=16, n_epochs=2,\n",
    "              lr=0.0048, batch_size=10000,\n",
    "              batch_sampling=True, reg=0.000001, num_neg=-5)\n",
    "\n",
    "svdpp.fit(train_data, verbose=2, eval_data=eval_data,\n",
    "          metrics=[\"rmse\", \"mae\", \"r2\"])\n",
    "\n",
    "# do final evaluation on test data\n",
    "metrics2= evaluate(model=svdpp, data=test_data, metrics=[\"rmse\", \"mae\"])\n",
    "print(\"evaluate_result: \", metrics2)\n",
    "\n",
    "\n",
    "#experiment.log_metrics(metrics2)\n",
    "#experiment.set_code()\n",
    "#experiment.end()"
   ]
  },
  {
   "cell_type": "code",
   "execution_count": 47,
   "id": "da4cc73c",
   "metadata": {},
   "outputs": [
    {
     "name": "stdout",
     "output_type": "stream",
     "text": [
      "prediction:  4.486987\n",
      "User 5163 will be recommended:\n"
     ]
    },
    {
     "data": {
      "text/html": [
       "<div>\n",
       "<style scoped>\n",
       "    .dataframe tbody tr th:only-of-type {\n",
       "        vertical-align: middle;\n",
       "    }\n",
       "\n",
       "    .dataframe tbody tr th {\n",
       "        vertical-align: top;\n",
       "    }\n",
       "\n",
       "    .dataframe thead th {\n",
       "        text-align: right;\n",
       "    }\n",
       "</style>\n",
       "<table border=\"1\" class=\"dataframe\">\n",
       "  <thead>\n",
       "    <tr style=\"text-align: right;\">\n",
       "      <th></th>\n",
       "      <th>title</th>\n",
       "      <th>genres</th>\n",
       "      <th>rating</th>\n",
       "    </tr>\n",
       "    <tr>\n",
       "      <th>movieId</th>\n",
       "      <th></th>\n",
       "      <th></th>\n",
       "      <th></th>\n",
       "    </tr>\n",
       "  </thead>\n",
       "  <tbody>\n",
       "    <tr>\n",
       "      <th>296</th>\n",
       "      <td>Pulp Fiction (1994)</td>\n",
       "      <td>Comedy|Crime|Drama|Thriller</td>\n",
       "      <td>4.876695</td>\n",
       "    </tr>\n",
       "    <tr>\n",
       "      <th>6016</th>\n",
       "      <td>City of God (Cidade de Deus) (2002)</td>\n",
       "      <td>Action|Adventure|Crime|Drama|Thriller</td>\n",
       "      <td>4.873994</td>\n",
       "    </tr>\n",
       "    <tr>\n",
       "      <th>86345</th>\n",
       "      <td>Louis C.K.: Hilarious (2010)</td>\n",
       "      <td>Comedy</td>\n",
       "      <td>4.801053</td>\n",
       "    </tr>\n",
       "    <tr>\n",
       "      <th>86377</th>\n",
       "      <td>Louis C.K.: Shameless (2007)</td>\n",
       "      <td>Comedy</td>\n",
       "      <td>4.793008</td>\n",
       "    </tr>\n",
       "    <tr>\n",
       "      <th>127098</th>\n",
       "      <td>Louis C.K.: Live at The Comedy Store (2015)</td>\n",
       "      <td>Comedy</td>\n",
       "      <td>4.715042</td>\n",
       "    </tr>\n",
       "  </tbody>\n",
       "</table>\n",
       "</div>"
      ],
      "text/plain": [
       "                                               title  \\\n",
       "movieId                                                \n",
       "296                              Pulp Fiction (1994)   \n",
       "6016             City of God (Cidade de Deus) (2002)   \n",
       "86345                   Louis C.K.: Hilarious (2010)   \n",
       "86377                   Louis C.K.: Shameless (2007)   \n",
       "127098   Louis C.K.: Live at The Comedy Store (2015)   \n",
       "\n",
       "                                        genres    rating  \n",
       "movieId                                                   \n",
       "296                Comedy|Crime|Drama|Thriller  4.876695  \n",
       "6016     Action|Adventure|Crime|Drama|Thriller  4.873994  \n",
       "86345                                   Comedy  4.801053  \n",
       "86377                                   Comedy  4.793008  \n",
       "127098                                  Comedy  4.715042  "
      ]
     },
     "metadata": {},
     "output_type": "display_data"
    }
   ],
   "source": [
    "prediction = svdpp.predict(user=5163, item=57669)\n",
    "recommendation = svdpp.recommend_user(user=5163, n_rec=5)\n",
    "print(\"prediction: \", prediction[0])\n",
    "\n",
    "rec = []\n",
    "ratings = []\n",
    "recommended_movies = movies_df.copy()\n",
    "\n",
    "for r in recommendation:\n",
    "    rec.append(r[0])\n",
    "    ratings.append(r[1])\n",
    "    \n",
    "recommended_movies = recommended_movies[recommended_movies['movieId'].isin(rec)].set_index('movieId').copy()\n",
    "recommended_movies['rating'] = ratings\n",
    "\n",
    "print('User 5163 will be recommended:')\n",
    "display(recommended_movies.sort_values('rating', ascending =False))"
   ]
  },
  {
   "cell_type": "code",
   "execution_count": 48,
   "id": "41098001",
   "metadata": {},
   "outputs": [],
   "source": [
    "gc.collect()\n",
    "del svdpp, train_data, data_info, eval_data, test_data\n",
    "sleep(10)"
   ]
  },
  {
   "cell_type": "markdown",
   "id": "073e5b4c",
   "metadata": {},
   "source": [
    "### LibRecommender Collaborative Model Assessment¶"
   ]
  },
  {
   "cell_type": "markdown",
   "id": "85304380",
   "metadata": {},
   "source": [
    "We cannot realy compare use the execution time for the comparing of the SVD and SVDpp here because the models are very robust and the more epochs we decide to give it, the better the model accuracy but greater the execution time. So depending on the situation, we could go for either.\n",
    "\n",
    "Currently, from the number of epochs we ran, the LibReccomender SVDpp algorithm offers the best predictive ability. We will train the algorithm on the full training dataset and later use the model to predict the ratings for a test dataset containing, for the most part, familiar userId/movieId pairs."
   ]
  },
  {
   "cell_type": "markdown",
   "id": "d76784e2",
   "metadata": {},
   "source": [
    "### Content-based Filtering and Hybrid Models\n"
   ]
  },
  {
   "cell_type": "code",
   "execution_count": 49,
   "id": "eefacfb9",
   "metadata": {},
   "outputs": [
    {
     "name": "stdout",
     "output_type": "stream",
     "text": [
      "6383\n"
     ]
    }
   ],
   "source": [
    "\n",
    "# Indices of unknown user-movie id pairs from our test data\n",
    "unknowns = [2228224, 2228225, 2228226, 1130497, 2605060, 2228229, 327686, 2228230, 2228231, 2228233, 327690, 2228234, 2605070, 2228239, 2228240, 2228241, 2605075, 2228244, 2228246, 2228249, 2228251, 2228253, 2228255, 2228256, 2228257, 360482, 2228258, 1425439, 2228261, 2605088, 2605089, 2228264, 376866, 606243, 1425445, 376870, 1425447, 2228270, 2228271, 2228272, 2228273, 2883631, 2359347, 2670636, 1916982, 2228280, 2228282, 2228284, 2670652, 2228286, 4898877, 2228288, 2228289, 2670655, 4767809, 2670665, 2228299, 2228301, 2228302, 2228303, 2883664, 2228305, 901200, 2228308, 2228309, 2687061, 2228311, 2883672, 901205, 2228314, 2228315, 2670682, 2228317, 2228318, 3342430, 2670688, 508002, 2228324, 2228325, 2228326, 508005, 508007, 508008, 4767850, 2228331, 508011, 4767851, 4767854, 508018, 2228339, 4079731, 4767858, 4767861, 4767862, 2228344, 2228346, 1245307, 2883707, 2228349, 4784250, 2228351, 2228352, 2670714, 2228354, 2228355, 2670717, 2228358, 2670726, 2228360, 2883720, 2883721, 2883722, 2228364, 2670729, 2359439, 2228368, 2883728, 2228370, 2228371, 2228372, 2228373, 508048, 2670741, 2228376, 2228377, 4931736, 2670746, 2883740, 2228381, 2228383, 2228385, 2228386, 475299, 2228389, 2359461, 2228391, 2670757, 2228395, 2228397, 2228398, 2883759, 2228400, 2359472, 2883760, 2228403, 2228404, 2883761, 2883764, 2883766, 3604663, 2228409, 4456631, 2228411, 3604668, 590013, 1425594, 1425595, 2228416, 1425599, 1425600, 2670786, 4456644, 2801861, 2228422, 2228424, 2883784, 770249, 2228427, 2228428, 2883788, 4456654, 2228431, 4948173, 2228433, 4456658, 2228435, 4456659, 2883798, 2883799, 1507544, 2228440, 2228444, 2883806, 2883807, 2228449, 2228450, 1507555, 2228451, 2228452, 2228454, 2228455, 295144, 2228456, 2228457, 2883810, 2228460, 1097958, 1852965, 2228467, 2228469, 2228470, 2228472, 2228473, 295165, 2228478, 2228480, 2228481, 2392323, 2228484, 1802501, 2228486, 2228488, 2228489, 2228490, 2228491, 3571979, 2228493, 2228496, 2228497, 2228502, 2228503, 2228505, 2228508, 2228511, 3572001, 917794, 2228514, 295204, 2228516, 3572005, 721191, 2228519, 2228520, 2228521, 3572006, 2064684, 3572007, 3572008, 3572009, 3572012, 3572014, 98610, 3572015, 2228532, 3572016, 983350, 3572017, 2064696, 3572018, 2228538, 3572019, 2228540, 3572020, 2228542, 586222, 2228544, 2228545, 2228546, 2228547, 2228549, 2228550, 2064714, 721227, 1311051, 2228554, 2228556, 2228557, 2228558, 2228559, 2228560, 2228562, 2228563, 2228567, 721241, 1376602, 2228573, 2228575, 2228578, 2228579, 2228580, 2228585, 2228588, 983407, 1245551, 2228592, 721267, 2228597, 2228598, 721271, 1245559, 2228601, 2228603, 2228604, 721278, 2228607, 2228608, 721281, 2228609, 2228611, 721287, 721289, 721290, 721291, 2228620, 2228623, 2228624, 2228625, 2228626, 2228627, 999826, 2605461, 721303, 2228632, 2228633, 2228634, 2605468, 2228637, 2228638, 2212255, 2228640, 16802, 885155, 721318, 2228646, 2228648, 2228650, 2228651, 721324, 721325, 2228652, 2228653, 2228654, 2228656, 2228657, 2228659, 1524145, 2228661, 2228662, 2228663, 2228668, 721342, 721343, 721344, 2228670, 721346, 2228674, 2245057, 721349, 2228677, 2228678, 2228680, 2228682, 2228685, 2228686, 2228688, 721362, 2228690, 2228695, 2228696, 2228697, 2228701, 2228702, 2228703, 3572190, 2228705, 2228707, 1311204, 2228710, 2228711, 2228712, 2228713, 2228714, 3572202, 2228716, 4522473, 2228718, 2228719, 4522476, 4522477, 2228722, 2228723, 2228724, 2228725, 2228726, 1311223, 1311224, 2228727, 1311226, 2228730, 2228731, 1311229, 2228732, 2228733, 2228734, 2228735, 2228736, 2228737, 2228738, 2228739, 1311238, 2228740, 2228741, 2228743, 2228744, 2228745, 2228748, 2228749, 2228750, 2228746, 2228752, 2228747, 2228751, 2228755, 344595, 2228757, 2228758, 2228759, 2228760, 1311267, 1311268, 1311270, 1311271, 1311272, 344616, 2622003, 2622004, 557622, 1311286, 1311287, 1311289, 2622006, 2622007, 344637, 1311296, 1311305, 4833865, 1311307, 4833866, 4833868, 2474581, 1311320, 1278559, 4833888, 1278562, 4833890, 4833892, 590437, 4833893, 4833897, 4833899, 492142, 590451, 590454, 590456, 590457, 492154, 3195512, 1819257, 3195520, 590469, 1950342, 3506824, 3195548, 377511, 4063915, 4113068, 3195574, 377536, 3195584, 2425547, 377554, 377555, 3195607, 3506904, 3506909, 4276963, 377574, 1114857, 1475305, 1114859, 1295081, 4276969, 377579, 1229553, 4276979, 3506933, 377589, 4276981, 377593, 4276986, 1901309, 4932349, 1950464, 2687745, 4276995, 4276996, 4276997, 2687750, 4276998, 377607, 4932360, 3506954, 3506955, 3506957, 3769101, 3506962, 2687763, 3883796, 2687765, 377624, 131865, 4260637, 4932383, 3195680, 3195683, 4260645, 4113191, 2687784, 2310959, 4473654, 3638075, 4031304, 131916, 4031309, 4932428, 4932430, 1688404, 2048856, 2556761, 279386, 2016090, 279388, 4932445, 2311007, 131940, 951141, 131942, 1229668, 1753956, 4866917, 4031338, 3294055, 4932452, 4932464, 4031345, 2327414, 4932471, 4932472, 4113277, 951172, 4932490, 4031374, 4932500, 1819541, 2687894, 4031384, 525210, 4031388, 3834782, 2687906, 2687909, 4932519, 4932520, 394154, 3474348, 1360816, 4555700, 525247, 4867015, 4867019, 4867020, 2671566, 1360851, 4309972, 4867029, 4309974, 1360855, 1360857, 4867040, 2606050, 4867042, 4867043, 4867045, 525287, 525290, 525292, 4867053, 4867054, 4867055, 3818491, 525308, 4391932, 4867076, 4867087, 4867093, 4867094, 4391959, 4867095, 4736024, 3818524, 4867110, 4867111, 4408361, 4867115, 2802732, 1836090, 4391994, 3818555, 4867133, 4867134, 4162623, 3425347, 3900484, 2196549, 3408972, 4392012, 984142, 3408974, 4392015, 3818579, 4392023, 4244584, 4588658, 4441204, 3900537, 3900538, 3425412, 2196615, 3179662, 2933904, 3425425, 3425429, 1885336, 4818075, 3900582, 115886, 2458810, 3900611, 4818124, 3474641, 3474642, 4424920, 3900633, 132318, 3900641, 3474658, 3900643, 3900644, 3900645, 34023, 3900648, 3900650, 3900651, 3900652, 3900653, 3900657, 3900659, 17652, 17653, 787702, 3474678, 3900662, 3900663, 3589369, 4408571, 17660, 17665, 17666, 17667, 3900677, 17670, 17671, 17672, 886025, 17673, 754955, 754957, 754959, 3900688, 3589395, 3900692, 3900693, 3900694, 3900695, 3900696, 3589397, 754974, 3900704, 3589408, 3900706, 3589409, 3589410, 4719911, 3900712, 3900713, 3900714, 3900717, 3900722, 3622196, 3900725, 755003, 3900732, 3900734, 755009, 3900737, 1328449, 3786062, 1885523, 3900762, 3900763, 3900769, 755049, 755050, 3900779, 755055, 4228472, 3900794, 3900797, 3900800, 3900801, 165257, 2557321, 2786699, 755084, 3900810, 755087, 1328543, 1328549, 1328555, 165292, 4801966, 1557939, 755127, 1557950, 755138, 755140, 755141, 755142, 1852881, 4195802, 2442716, 1852893, 1181156, 1852903, 1852904, 3278317, 1852909, 1279471, 4162042, 165370, 165376, 1852933, 165384, 4670987, 165388, 3491342, 1852944, 1852945, 1852946, 1852947, 165397, 165398, 1852949, 1852950, 1852951, 1738266, 2082327, 165404, 1852953, 1852954, 3835423, 1852955, 3868193, 2426402, 3868195, 1459748, 1590821, 165414, 1852964, 968231, 1590824, 1590825, 3671595, 4752939, 4752941, 3835438, 575018, 1885740, 2410028, 2410031, 2410032, 2410033, 1885756, 1885763, 3671621, 3835462, 4785735, 1885776, 1771091, 1427028, 1885781, 1771094, 3229269, 1885787, 3835492, 3835495, 2098797, 2098799, 2098800, 2098802, 3835509, 99958, 4556406, 2098808, 3229305, 2098810, 3229306, 3835516, 3229307, 1803905, 2098820, 3737220, 3229317, 3229318, 2098824, 3229319, 3835530, 3229320, 2754192, 3835538, 3835551, 3835553, 1017506, 1427106, 1427107, 1427109, 3835558, 3835560, 3835561, 3835562, 3835564, 3835566, 1410749, 1410759, 3540686, 3540690, 3540698, 4671213, 788207, 4458246, 4409094, 673563, 2803492, 2803495, 2950995, 4409177, 2951002, 378721, 2951021, 2951025, 4409205, 4720504, 4720505, 3835776, 4409217, 1492866, 1984411, 1984412, 3639197, 886722, 2377685, 2852828, 2951143, 2492407, 34818, 3901444, 4343819, 3164183, 3164191, 2459687, 3311668, 1099835, 1460289, 4524110, 4524113, 4524114, 4524115, 1034322, 165973, 4816709, 3770480, 1575033, 4638848, 1837197, 3393681, 4638867, 772249, 772250, 133276, 3475613, 559305, 1476823, 1509601, 4753640, 4753645, 4671736, 575745, 3066115, 3066116, 2394397, 3049761, 2224618, 1050915, 4753701, 2394412, 2394413, 2394414, 2394415, 1722670, 3279159, 3279160, 411959, 2410813, 3918145, 4671815, 411983, 411984, 411986, 411992, 412002, 2230627, 412003, 412005, 412006, 412007, 412008, 412009, 4508005, 4508006, 2230637, 2418, 1640819, 2230647, 788861, 4671877, 1051014, 2230667, 1051020, 2230668, 1051023, 1051025, 1051034, 1051041, 1051046, 1051053, 2935215, 1051057, 362944, 3885513, 2034127, 2034132, 2034133, 2034136, 2034137, 739804, 4622819, 739812, 625131, 625141, 2836982, 625143, 625145, 625150, 2787840, 625158, 2902540, 2902541, 2902542, 625168, 2902544, 2460185, 625179, 1804834, 2837026, 3017253, 2312741, 641578, 2034252, 461389, 2116181, 2116182, 2853464, 4557416, 3439338, 3963628, 2820774, 3705513, 871084, 3787436, 1886894, 3705520, 3787444, 3705528, 3787453, 1690302, 1379008, 3705536, 3312325, 3705545, 1772239, 1690319, 1690338, 3312359, 84711, 1690345, 2788076, 1215212, 1690349, 1690350, 4983536, 772850, 3967735, 3967740, 1690364, 1690365, 543489, 1690371, 1690372, 1690373, 2591497, 1690377, 1690380, 1690381, 1690382, 1772303, 1690383, 1690386, 1690387, 1690389, 1690391, 1690394, 1690398, 1690399, 1772321, 248614, 1690406, 248616, 1690409, 1690411, 1690412, 1690413, 1690414, 1215280, 1215281, 1215282, 1772338, 1690416, 1690417, 1690418, 1690425, 3394367, 4508485, 101194, 2394957, 887632, 101203, 101209, 101214, 2935650, 4983658, 1215350, 1215351, 1215352, 4983670, 4983676, 1215370, 4983696, 248720, 1215379, 4983700, 1952659, 1215386, 1280926, 4967331, 3361702, 609191, 4983722, 3885994, 2624430, 4983727, 2624437, 2624442, 2624445, 4983744, 1543108, 1215433, 4983753, 1215438, 2100181, 1215446, 4541402, 4541405, 4656095, 4541409, 2149347, 2149349, 2149350, 4492263, 4541413, 4541414, 2149353, 4639726, 1084399, 150511, 2149361, 3165170, 150516, 1084407, 822266, 822267, 2149371, 822269, 822270, 150525, 1084417, 822277, 4426757, 4426758, 2149382, 2395156, 2149400, 2149402, 2395174, 2395179, 85044, 2228032, 1297477, 1477707, 822359, 3230812, 2228040, 511078, 2362476, 150643, 150644, 1100928, 1707152, 4721824, 838821, 4721842, 3443891, 3443892, 4721843, 2788534, 4721844, 4721846, 4721847, 4148406, 4213943, 4148409, 2788542, 4934850, 2706629, 822470, 2788550, 3624136, 2788557, 2788570, 4951264, 2788577, 2788578, 1854688, 1854689, 1854691, 1854692, 2788583, 4705510, 1854697, 1854699, 117998, 2788597, 2788600, 2788606, 1772800, 3624195, 2788616, 3132681, 2788619, 2788622, 2788623, 2788624, 2788626, 970008, 970014, 3689767, 4443431, 3378474, 118059, 3362092, 118063, 118075, 118085, 3902790, 4394314, 2706765, 2706766, 2706767, 68950, 4443486, 118111, 3542378, 118122, 118123, 118127, 118128, 3378550, 3378554, 118139, 4443517, 3329408, 3329409, 4443525, 4345224, 4443529, 3132812, 4443536, 4443538, 4345235, 4345248, 429473, 3378594, 3050916, 1002920, 462249, 429483, 462255, 1232303, 429489, 1904049, 4443570, 4443571, 1232309, 2969014, 429495, 691640, 4443575, 429500, 691646, 429505, 429506, 429507, 3378628, 1232322, 429510, 1232324, 4443589, 4443590, 4443593, 429515, 1232332, 4443596, 4443597, 4443599, 3640789, 1232341, 429527, 429529, 429530, 1232348, 3378655, 429536, 560608, 560610, 3968483, 3378660, 3968484, 3968485, 1232354, 3378664, 429545, 3378665, 1232356, 3378668, 1232357, 1232360, 3378671, 1232361, 3378674, 429555, 3378675, 3378676, 3378677, 3378682, 3378683, 3378684, 3378685, 3378687, 3378688, 3378689, 101887, 3378691, 3378692, 3378693, 3378694, 429567, 3378696, 429570, 3378698, 3378699, 1379852, 3378702, 3378703, 3378704, 1379855, 3378706, 3378707, 3378708, 3378710, 3378712, 3378713, 3378714, 3378715, 101917, 3378717, 3378718, 3378719, 3378721, 3378724, 3378725, 3378726, 3378727, 3378732, 4329008, 4984370, 3378739, 101940, 3378745, 3378746, 4886075, 4984379, 3378749, 642620, 4886079, 4886080, 3378754, 3378755, 642627, 4886085, 101958, 3378761, 3378764, 3378765, 3378766, 4984396, 4984398, 642639, 1314388, 101975, 4886106, 101980, 4755036, 101982, 4755039, 642652, 3395167, 101986, 642656, 3395169, 642659, 3395174, 3395175, 3395176, 1724016, 4820599, 4492920, 1887866, 4640385, 4247176, 4132491, 4132496, 691859, 691863, 3952282, 4640413, 691870, 3018398, 1887904, 4640416, 233128, 691887, 1887920, 1887926, 4296375, 691897, 691905, 4296385, 2723523, 1887941, 233160, 1887945, 2887372, 2887373, 4640462, 1887952, 85713, 85714, 1281747, 85716, 1887963, 1887965, 2477789, 2477790, 233185, 1887970, 233190, 560870, 560871, 560872, 233194, 1887978, 1887979, 1887980, 1887982, 233199, 233203, 1117947, 233213, 233220, 233222, 1412874, 3952411, 4689692, 1429277, 4329252, 4689709, 1806130, 675642, 675643, 675644, 1494844, 610113, 1806151, 2395976, 3182407, 4034386, 3854162, 1658720, 1658725, 3493749, 3886966, 397175, 3493752, 3886968, 2658200, 4149159, 2428852, 2428853, 610229, 4542390, 741309, 2428863, 741321, 1069005, 4542413, 1069008, 1069017, 1363929, 4542431, 1347552, 1363939, 1069033, 1363945, 4542442, 1363948, 1363950, 4542446, 4542448, 1052658, 4542450, 1363955, 1363956, 1069045, 4542453, 1363971, 315396, 315406, 1069075, 921625, 4427803, 938019, 1314855, 3067966, 4001856, 2854981, 561233, 4198488, 3067994, 3067997, 561251, 938091, 1708148, 1708149, 1708151, 3166346, 561291, 4313248, 3149992, 561329, 757943, 757947, 757948, 757950, 2330814, 757953, 2330823, 757960, 561353, 3772617, 3363027, 3363036, 3363048, 3363050, 3805419, 545016, 3690748, 594177, 594178, 4165891, 4165894, 3608841, 3363100, 3363102, 3363103, 2986277, 4755770, 3002682, 332092, 3363130, 807230, 2363714, 3019075, 332100, 3363140, 2576709, 332103, 2576717, 3363149, 528726, 528730, 4755804, 4755805, 1479009, 2576740, 3641703, 4755819, 1479021, 1479022, 1479023, 3641711, 3740015, 4723055, 4755822, 4755828, 4755829, 4755830, 4755831, 4755832, 2576762, 4755835, 4755836, 4755838, 4755840, 4755841, 4755846, 4755849, 4755850, 4460939, 4755852, 4755853, 2576777, 2576779, 2576781, 2576783, 2576784, 4723091, 2576789, 4723096, 2576799, 2576800, 2412963, 2576803, 2576806, 2576809, 3690922, 2576812, 2576817, 2412978, 2576820, 2576821, 2412982, 2576751, 2576823, 2576824, 1774010, 2576825, 2576826, 2576827, 1249726, 2691528, 1872331, 1872332, 1872336, 4510161, 2953691, 2953703, 1249771, 168438, 168445, 201224, 201228, 201229, 3199538, 3199539, 3199540, 3084865, 4870725, 4870729, 4870734, 4149840, 1036890, 2380380, 1282653, 1282656, 4035170, 1282659, 2462309, 1430121, 4149868, 4149870, 4149875, 4149881, 3707514, 4149882, 4149883, 4149884, 1282686, 4756094, 3412609, 3412610, 4817227, 4035204, 2118278, 1282695, 316039, 1282697, 1282698, 1282699, 1282700, 1282701, 1282702, 4166311, 201387, 1217198, 201397, 2036411, 1544896, 1544897, 201410, 742083, 3035851, 2036431, 2020051, 2036440, 2036445, 2790117, 398059, 2839281, 2790134, 3920635, 3920636, 2790146, 594691, 2790147, 2790148, 1823509, 1200928, 1069862, 168764, 987977, 2724690, 4969303, 4969304, 4969306, 1834808, 4969310, 4969312, 4838245, 3445616, 3445619, 349049, 3543934, 3543935, 4789148, 906152, 1774523, 2872263, 2872265, 2872268, 2347982, 545742, 2872281, 1627099, 1627100, 2872285, 1577956, 2413540, 1872872, 4117487, 1250292, 693248, 1807361, 1807364, 775172, 775175, 775176, 775177, 4379667, 2331669, 2495527, 4576295, 4609064, 250927, 2217011, 3298359, 250937, 3298375, 1889352, 1889354, 1889355, 1889356, 1889357, 1889358, 1889359, 1889360, 1889362, 1889364, 4166766, 4166767, 4166776, 676986, 3118204, 2069636, 2315421, 4969631, 2282666, 2774215, 3396807, 1643738, 1905891, 2774244, 2774246, 464110, 1873135, 2299123, 4592886, 4592890, 2757885, 3183878, 3183885, 2561298, 2561299, 3183890, 3183892, 513306, 529702, 2577702, 3183921, 3183927, 3593528, 4592953, 2561339, 2561340, 3183937, 3183963, 3183965, 3183966, 2774367, 2774368, 4789618, 1693058, 3282314, 1775035, 1103292, 1168830, 3282375, 3315148, 3315149, 3315150, 3282383, 3282405, 4101617, 1578484, 4101625, 3282428, 4101629, 4101631, 4101634, 4101635, 4101638, 2954770, 4101675, 2627140, 3642951, 2627148, 4740688, 1889884, 1889897, 1955437, 1726086, 202376, 3380886, 1791654, 2381480, 2807469, 2807473, 186036, 4265671, 3544784, 2627282, 3544788, 4265691, 1644274, 3102456, 3102468, 366350, 366352, 366370, 2856746, 1677100, 2840364, 2856754, 4396876, 3626838, 3626839, 661336, 3839837, 2070372, 3725162, 3757938, 2070391, 3364727, 2070393, 3757945, 2225348, 4806529, 2971525, 2955145, 2971534, 2971538, 4954003, 2971539, 4806548, 2971542, 4806555, 2971548, 2971549, 2971550, 989089, 3757987, 3757988, 3757989, 4806564, 2840507, 317376, 4806592, 4806594, 2840520, 2840531, 2840537, 4102106, 4806618, 4102108, 2840541, 4806622, 4806624, 989157, 3332070, 989162, 317436, 317437, 317441, 2168835, 4839428, 989195, 317452, 2840592, 317460, 1775638, 1267735, 2152474, 2168859, 2316314, 317468, 317470, 776225, 989221, 1775654, 989223, 2168870, 2840614, 2840615, 2840617, 989228, 2840623, 1054772, 694325, 4528181, 2840634, 2840635, 989244, 989246, 989247, 2840639, 1775681, 3921984, 1775684, 989253, 989254, 989262, 1185884, 1185887, 989290, 989291, 989293, 2332782, 989295, 4888688, 989297, 3561583, 3561584, 989302, 989304, 989306, 989311, 989312, 989315, 989316, 4774021, 989319, 989320, 989321, 989323, 989324, 2414732, 4774031, 1104021, 530582, 989335, 4397207, 989337, 2414741, 989339, 2414743, 4774037, 3987609, 4774040, 989344, 989345, 989346, 2414749, 989353, 989357, 989358, 4626606, 4626607, 4626608, 989362, 989363, 4626609, 4626610, 4626611, 989368, 989369, 989371, 989374, 989380, 989381, 989382, 4905158, 989384, 71883, 989388, 989390, 989391, 2906325, 137430, 4905175, 4610267, 4905184, 4856034, 4905188, 4905189, 4135143, 4086000, 4905201, 4905207, 3889400, 2906367, 1939715, 1513736, 2316559, 2316567, 2316569, 2087201, 2070819, 2087204, 2087205, 2087206, 2087207, 153910, 1399095, 1218872, 1399096, 1399097, 1399098, 153911, 153913, 1218878, 153914, 1218880, 2103616, 153915, 1186115, 153917, 153918, 153919, 2906434, 2103625, 2103626, 1218892, 1186131, 4790613, 1186137, 1186140, 1186141, 1333601, 4741474, 2906470, 1333610, 1333611, 1513836, 2906482, 2759032, 2906488, 2906494, 1923457, 1923458, 4643209, 1055118, 350618, 3840429, 3840433, 1513909, 2906549, 1513918, 4413887, 2906563, 1513925, 121287, 4807114, 3938763, 1513932, 1513934, 563663, 563664, 1513936, 563666, 661970, 563668, 1513938, 1513939, 1513941, 1513944, 3938768, 4807122, 1513947, 1513948, 1808860, 1513950, 2906587, 121310, 2742751, 2906592, 2906593, 4250081, 4250082, 1513958, 1464805, 2906597, 2906598, 1464808, 1513969, 1513970, 2071026, 3791349, 1874427, 3906045, 1137149, 1235455, 1235482, 1235483, 3791393, 121379, 121381, 121382, 121383, 3545643, 3545644, 121388, 367151, 121391, 3545649, 3791407, 121396, 1628725, 3185263, 23171, 776843, 400025, 400035, 2218659, 23213, 252589, 3185328, 875188, 4938426, 170683, 23227, 252605, 170687, 252608, 3185346, 3185347, 4938435, 4938436, 3185353, 3185354, 4004560, 3283667, 4004563, 3283669, 23262, 4004576, 3463914, 4791022, 252657, 1694452, 711417, 2595583, 2431747, 3087117, 2808616, 1694514, 3087156, 2349876, 2808630, 2808633, 1186618, 3087164, 2349886, 760639, 2349887, 2071363, 2071364, 2071365, 613189, 760647, 3496773, 629586, 3365715, 3365716, 3365720, 3365722, 3529564, 1694560, 908129, 1694561, 1694562, 1694564, 3365732, 1694566, 3365734, 2726760, 1694568, 2579307, 3365741, 2431857, 2431858, 3365746, 3365754, 1694588, 3677053, 2431870, 2431871, 2431873, 2431876, 2431877, 3365765, 2431879, 2431880, 2431882, 3365770, 3414925, 3365775, 2431897, 2431898, 2431899, 2431900, 2431901, 2431905, 2431907, 2431910, 2431915, 2431916, 2431919, 2431922, 2431923, 2431926, 2431928, 2431929, 2431930, 2431931, 2431932, 2431933, 2431934, 2431935, 2431936, 187326, 629700, 2431940, 2431944, 2431947, 3742668, 351179, 1121232, 2431954, 2431957, 2431961, 2431965, 2431967, 3693535, 2431970, 2431972, 220135, 629737, 2431977, 2431981, 2431983, 2431984, 2431992, 2431993, 2792444, 1022973, 2432001, 2432002, 2432003, 2432004, 2432005, 2432006, 1416193, 3775491, 3775495, 4152321, 2219010, 3775500, 351243, 4234254, 2219019, 2219022, 2219023, 2219025, 3775507, 3775508, 3775509, 4234262, 4545553, 3775512, 3775513, 3775514, 3906584, 2219027, 2219028, 351254, 2219034, 2219038, 2219045, 2153519, 1416240, 1416241, 1416242, 1416243, 1416245, 1416246, 1416247, 1416248, 629819, 1416252, 629821, 1612863, 4299842, 629827, 2825284, 121922, 4054083, 629832, 4299848, 1612876, 203854, 121935, 1072209, 105558, 1399895, 613464, 793698, 2792549, 2382955, 2874480, 2874482, 2071671, 1481851, 2808956, 875644, 1367165, 515199, 2071682, 1367170, 2071685, 2071687, 1399983, 777413, 1055945, 613579, 613580, 892110, 3120335, 892112, 4594894, 1055954, 892117, 892118, 1055962, 4594907, 3120349, 3120350, 1055970, 1055973, 3185895, 1055977, 1400041, 1055979, 1055980, 4726001, 1400050, 679156, 1055991, 613629, 1940737, 3808513, 2579719, 3808530, 613654, 613655, 613656, 613657, 613659, 3120412, 613660, 3808544, 1809698, 1269026, 3808554, 3808556, 3808559, 3808571, 3808574, 1842496, 2170179, 3808579, 3808581, 204130, 3874156, 1252733, 2792842, 1252750, 1252751, 2104725, 3874198, 1170852, 2104744, 4365744, 3874226, 417209, 3644859, 3874236, 3874238, 4332991, 3874240, 4332995, 3644869, 2104779, 3874251, 4333010, 3988963, 4333041, 3988980, 417269, 3988981, 3988982, 4333048, 4398589, 3644929, 3644931, 3988997, 876040, 4398605, 1285658, 4398629, 2842153, 4398636, 1285682, 4398644, 2399808, 56904, 3251789, 2022989, 908879, 941649, 3563090, 941651, 597588, 941654, 56920, 3120729, 941658, 941660, 941661, 941663, 941664, 941667, 941670, 941671, 2432618, 3251818, 3251823, 3251824, 941681, 941683, 3251835, 56955, 3251843, 2842243, 3251846, 2842246, 3792519, 2842248, 1728139, 2432652, 2432654, 2432656, 2432657, 2432659, 2432660, 2432661, 2432662, 2432663, 3792533, 2432665, 2432666, 1236641, 908968, 2842280, 3071659, 2006700, 2842283, 2842288, 908997, 302794, 827097, 1892061, 3514085, 827110, 2072294, 3514086, 2072297, 3776231, 2072303, 2072306, 2072311, 909050, 4660990, 909060, 909067, 2088717, 909072, 909077, 1007381, 909080, 2826012, 2645795, 909093, 1220390, 2858795, 909102, 909105, 909115, 909116, 909120, 909122, 4349767, 909136, 909139, 909140, 909141, 909144, 909149, 3940192, 909152, 909155, 3497828, 909158, 909161, 909166, 3759983, 909168, 909172, 909173, 909175, 4005752, 1007481, 1335163, 1302397, 4349822, 4988805, 4038536, 4988810, 4349838, 4349842, 909203, 4251541, 4349849, 909211, 1007515, 1007518, 1007519, 909217, 1007521, 1007522, 1007524, 4349857, 2564006, 4710309, 909223, 909224, 909225, 1007527, 4349867, 1007533, 909230, 1007534, 4300720, 1007535, 1007536, 1007538, 270261, 909239, 2564024, 909242, 909245, 4349885, 778175, 1007551, 909251, 909252, 4349893, 909254, 909255, 3219400, 2138057, 4349895, 1908683, 4349896, 909258, 1007563, 909260, 909261, 1007565, 909263, 4349898, 909265, 4349903, 909267, 1007571, 4349908, 1007574, 4349910, 1712091, 106460, 1007577, 1007578, 4349914, 1007584, 2809825, 1007585, 1007587, 4349923, 434149, 1007589, 1007590, 2449383, 1007591, 1007592, 57322, 1007593, 4349924, 4349926, 4349927, 4349929, 4153328, 4349932, 4349933, 4349935, 4349939, 4153336, 4153337, 4153340, 401406, 4513798, 1269772, 860175, 1269776, 1269782, 2482199, 2482200, 2498585, 1269786, 1269789, 434210, 2449453, 2416689, 4251700, 434230, 3743801, 3743802, 3514429, 1826883, 2498628, 1826884, 2498630, 2498643, 2498658, 2400360, 2498664, 2498666, 2498667, 2596971, 4153450, 2498671, 2498672, 2449519, 2498674, 614514, 778356, 2449524, 2498680, 2498682, 2498683, 270465, 2498696, 614536, 2498698, 2498699, 2498702, 4792462, 2023575, 2597028, 2597029, 2023591, 4710567, 4710569, 2597034, 2597040, 2597042, 2629811, 2597047, 2629815, 2023611, 2597054, 2023617, 4169922, 1319109, 2597062, 2597063, 2597064, 1319117, 1925329, 3580114, 2597076, 2597077, 2597079, 2597080, 2023642, 2597085, 1333559, 2597087, 2023648, 2597089, 2597090, 2629863, 549096, 3809514, 549099, 3809519, 3809520, 3551207, 2531597, 4514062, 2842909, 1843490, 4120876, 3121456, 2531642, 4120891, 2531645, 4120893, 3678527, 4120897, 4120898, 3350863, 4366679, 1843544, 1843546, 1335645, 1335646, 1335651, 450919, 1335658, 1335669, 1335670, 1335674, 745852, 1335676, 1335678, 1335679, 1253767, 3318174, 3367328, 3318180, 745894, 909735, 369067, 3563947, 4186540, 3563954, 3203507, 3318202, 3563963, 3318207, 745944, 3563992, 3924443, 57827, 745958, 369128, 57833, 1303019, 745978, 4039164, 745980, 745981, 3924478, 745983, 4039171, 745991, 3465737, 745996, 1991184, 746003, 746008, 2761244, 746013, 746014, 3383841, 2761249, 746018, 1991205, 3138086, 3875367, 3138087, 2761257, 1991210, 1991212, 1991213, 746030, 3138094, 746032, 746033, 3138096, 1991220, 746038, 4186678, 2089543, 746056, 4186698, 746060, 3072589, 746062, 4186706, 746067, 3072600, 4186712, 3072607, 746081, 4956770, 4874850, 3760737, 746083, 746084, 4956775, 746085, 4186725, 4186727, 4186728, 4186729, 746090, 4186731, 4776550, 4186735, 4186737, 4186738, 1565299, 4186739, 746105, 746107, 4579967, 746114, 2466436, 2466437, 4203153, 746137, 746140, 746141, 746142, 3187362, 3187368, 3383976, 4580014, 3383988, 3383989, 1155766, 3383991, 3007157, 2417334, 4580023, 4580024, 746170, 4580026, 4580027, 1041086, 3007167, 746176, 746178, 2417350, 3007176, 3269323, 352972, 3384020, 2450133, 4006616, 746203, 4334302, 746210, 3384035, 746211, 3449574, 746214, 4006632, 1336039, 3449578, 746216, 4006636, 3384045, 746218, 3384047, 2908910, 1336047, 2908915, 4334325, 4006646, 4006647, 58105, 1336058, 58107, 1336064, 1336068, 41735, 385802, 1336074, 1336077, 1762062, 1336080, 4514579, 3007252, 3007253, 3007254, 3007255, 1336088, 385817, 3007256, 3007257, 3007258, 3384093, 2450214, 385836, 4416301, 4170542, 3384111, 4170544, 4170550, 385846, 1860407, 2974525, 4416319, 385863, 385871, 3384144, 3384148, 4416340, 1155926, 3269471, 385888, 533346, 533347, 385896, 1565555, 3384181, 2024310, 3384183, 385913, 877433, 3056507, 2024313, 3056510, 385918, 3056513, 385921, 3056517, 3056518, 3056519, 74633, 3384202, 4432779, 3056524, 385930, 3056527, 385935, 385936, 3056530, 385939, 2073492, 385940, 713634, 713636, 3662770, 1844149, 1844155, 4252603, 3007421, 3007422, 3007423, 1844161, 1844169, 1844171, 1844172, 1844177, 1188837, 2745336, 1188864, 1614849, 2663426, 1893378, 1188868, 1188869, 3892227, 2663433, 3892236, 3187737, 3187738, 1336348, 2647073, 4236325, 4138031, 2647100, 3892284, 3892288, 2253903, 2647124, 3892310, 4236381, 4514910, 3892320, 2647155, 3826804, 4138102, 3957884, 1008767, 2106506, 1008778, 1008779, 1008780, 2991248, 1008784, 1008785, 1008789, 3810458, 1008794, 1008795, 4138152, 1008808, 3056810, 3056811, 402604, 3056812, 3056813, 1008810, 1664172, 4777133, 4514990, 4514993, 4662452, 4514994, 2647223, 4777143, 2647227, 4662464, 4662466, 4662467, 3548356, 4662471, 4662472, 3548361, 3548362, 4662473, 4662474, 4662475, 4662476, 1008843, 4777164, 877773, 3548370, 3548371, 3548372, 3548373, 1893582, 1893583, 2647248, 3548377, 3548378, 3548379, 2647252, 2647255, 2647258, 2647265, 1008867, 4236516, 1008870, 3957992, 2647278, 1090811, 2647294, 4269312, 1402121, 2647305, 1991949, 2647309, 2647315, 1991966, 4384040, 4842792, 4384060, 1058116, 4384070, 1058121, 1058122, 3892556, 2663759, 2663763, 2663769, 4384091, 1058143, 4384104, 4695401, 4466026, 1058160, 1058167, 1058179, 1058182, 1058188, 2483596, 2483597, 2483598, 1058192, 2483599, 3925392, 1058200, 2221464, 2614683, 583072, 583073, 2221476, 2221477, 2221478, 2221480, 2221482, 4023722, 2614702, 2909619, 2614709, 2614711, 3466687, 1828295, 173517, 3466701, 1795557, 2909669, 2909670, 3466725, 1893865, 2909677, 1631726, 2909679, 2041329, 3171826, 1893876, 2123255, 2909690, 3696123, 2041348, 3696133, 4990474, 3696141, 108046, 3204623, 1549846, 3696151, 2123289, 3696153, 1549851, 4679195, 3696160, 3696161, 3696164, 3401253, 4826663, 3696167, 3696168, 3696171, 3696173, 3696175, 3696177, 3696178, 2041396, 3696183, 3483192, 2041401, 2795072, 435779, 3696197, 3696199, 3696202, 3483213, 3696207, 3696208, 3696212, 3696214, 3696215, 3696216, 2041433, 3696220, 4286044, 3696222, 3696223, 3696224, 3696226, 3696227, 3696228, 4515426, 3696231, 3696233, 2336363, 3696237, 3106414, 3696238, 3696239, 3696243, 3696244, 3696245, 4990583, 3696247, 3106425, 3696249, 3106433, 435842, 3696257, 3696258, 3696261, 4105862, 894599, 435849, 4990606, 3696273, 3696274, 3696276, 435861, 386709, 386710, 4859545, 3696281, 386715, 3696284, 3696285, 3696288, 3696289, 435877, 435883, 1566390, 4613814, 4613815, 435902, 435906, 435915, 2746064, 3581655, 435929, 354014, 354017, 435951, 42738, 435963, 452351, 435968, 435970, 452354, 435972, 452356, 435974, 452363, 4777740, 452365, 91919, 435984, 452369, 452371, 435988, 435989, 4777749, 452374, 2041624, 714525, 4777758, 976671, 4777759, 91937, 436002, 4597538, 4777760, 4597542, 1468200, 2565929, 1468201, 436015, 436022, 436023, 436024, 894789, 993107, 1681237, 91996, 42845, 4925282, 42851, 42860, 4401005, 42863, 42868, 583540, 4401016, 4237184, 4401027, 993162, 4401035, 3205007, 993169, 3843987, 993172, 4155293, 993184, 1992617, 3024810, 4171692, 993197, 1927084, 1927085, 3008428, 3008429, 993205, 4270005, 993208, 4401080, 4401081, 4401084, 4171712, 780230, 4171725, 2172878, 4073441, 3123214, 2598974, 2598976, 2598979, 2598980, 2598981, 1042499, 1861723, 1501276, 1501278, 1501279, 1730669, 4139122, 1861747, 3909751, 1730683, 649341, 2975878, 2975883, 2631820, 2975894, 1976474, 1976488, 1370280, 1976490, 3958954, 2975918, 2681008, 2975920, 1976499, 2336949, 2336951, 2336952, 1976505, 2975928, 3958969, 1976508, 3958970, 1976514, 1976516, 1976521, 1976522, 1976524, 26831, 26832, 1976529, 747730, 1960151, 1976538, 1976539, 4499674, 4499675, 4499676, 4499678, 4499680, 4483291, 1976546, 1042653, 1960164, 1960165, 4434151, 1976552, 1960169, 1550570, 1960172, 1976558, 2631919, 4499697, 1960177, 2451697, 4974836, 1976566, 1976567, 1976568, 1976569, 1976570, 1976571, 1976572, 1976573, 1976574, 1976575, 1976576, 1976577, 1976578, 1976579, 1976580, 4499710, 1976582, 1960196, 1960206, 1435927, 1435934, 1960231, 1960244, 1960245, 3664198, 4614471, 944457, 944458, 944459, 4696398, 1304921, 2009454, 3025267, 2828665, 3942800, 174484, 813501, 3434945, 1042883, 207308, 2468300, 4925904, 420307, 3434965, 4925912, 420314, 207330, 780772, 207334, 207335, 780781, 1550868, 3697173, 1042982, 2320936, 1042991, 4909616, 4991539, 1042997, 4909621, 4909622, 4909632, 1043013, 2320975, 1043024, 1043026, 1043027, 1043028, 1043032, 1043033, 1043036, 1043037, 1043038, 1043039, 1043040, 3779169, 2894434, 1043042, 4369008, 1043057, 1043058, 4483697, 4483698, 2665087, 191108, 2665100, 4516492, 1043088, 4811410, 1043093, 1043094, 2321045, 1043097, 2321050, 240283, 1043100, 3566237, 2271903, 1043104, 2615975, 4156071, 3566251, 2321071, 3418810, 2321084, 2321085, 3566271, 1916966, 3566274, 2796229, 2796232, 1043144, 1043151, 2321103, 2648786, 1043157, 2321115, 1108700, 2321120, 2321121, 92899, 2058982, 2058983, 2321132, 2648812, 2321134, 2321135, 2321137, 2648817, 2321140, 1616630, 2321143, 1043192, 2321144, 2321145, 2648823, 2648827, 4352759, 2894591, 2321151, 2648831, 2321154, 1616643, 2321155, 2648836, 4418307, 2321158, 2648838, 4418311, 1075977, 1616651, 2321164, 2321165, 4172558, 2321168, 1616659, 4418324, 2321171, 1043220, 1043221, 2321173, 1043223, 1043224, 1043225, 1043226, 1043227, 2321179, 2321180, 2321181, 2321184, 4008738, 3369757, 4172583, 4172584, 4533032, 2321195, 2321196, 2321199, 2763568, 3746608, 3746610, 2321201, 2321202, 4533046, 2763576, 3746618, 2321210, 3746620, 2321211, 2321216, 3730246, 2321226, 2321227, 2763599, 2763600, 2321232, 2321234, 2321236, 2321237, 2763606, 2321238, 2321239, 3730261, 2321241, 2321242, 3746652, 2321244, 2321249, 2321251, 2321253, 2321255, 2321256, 2321257, 2321259, 2321260, 2321262, 2321263, 2321265, 2321266, 2321268, 2321271, 2321274, 2321275, 2321281, 3206018, 2009987, 2009989, 2321286, 732039, 4172679, 4172682, 2321295, 2321298, 2321301, 3435415, 3517336, 2321309, 2321313, 3435425, 4172707, 4172708, 879526, 2321322, 4172715, 2616236, 4172717, 338864, 2321328, 2321329, 2321330, 2321335, 2321338, 2321339, 4172736, 3402690, 2321347, 2321350, 4172743, 2763722, 2321354, 4172749, 2321358, 4172756, 2927574, 2321366, 2321368, 2927578, 2927579, 1223644, 2927580, 2927581, 2927582, 2321371, 2321380, 2321381, 3927015, 2321385, 4189161, 2321390, 2321393, 961522, 2321399, 2321410, 2321411, 2321413, 2321420, 2321421, 2321424, 2321426, 2321427, 2321429, 846870, 2321430, 2321432, 4041753, 2321435, 2321436, 2321440, 2321441, 2321442, 2321443, 2321446, 2321447, 2321448, 1633326, 2321455, 2321456, 1272882, 1272883, 1272884, 2321458, 1125430, 1633334, 2321464, 2321465, 2321459, 1633336, 1633337, 1633338, 1633339, 1633340, 1633341, 1862713, 1633343, 2321472, 1633344, 1633346, 1633347, 1633348, 2321474, 4762697, 1535046, 1633350, 1633351, 1633353, 2321477, 765007, 2321486, 3976274, 3976275, 2321493, 2321495, 2321497, 2321498, 2321508, 2321509, 1436774, 2321510, 2321511, 2321512, 2321513, 4058212, 2321517, 2321518, 4631665, 3452020, 2321524, 2321525, 2321526, 2321527, 2321528, 2321529, 2321530, 2321531, 2321533, 2321534, 2321535, 2321539, 2321540, 2321542, 4041864, 2321544, 2321545, 2321549, 2321550, 1862799, 4041872, 2321551, 2321554, 2321557, 1862808, 2321560, 2321561, 1862811, 4041884, 2321564, 3533977, 2321566, 2321567, 4893859, 2321571, 2501797, 2321572, 453797, 2321573, 2321574, 2321575, 3533989, 4451494, 3517613, 2321579, 2321580, 3533998, 2600118, 2600119, 2321591, 2321592, 2321595, 2321597, 2600126, 2321598, 2600129, 2321602, 2321603, 781508, 1387718, 2321608, 453833, 2321617, 2321621, 2321623, 2321624, 2321625, 3927255, 896219, 896220, 2321628, 2321629, 2321631, 2321632, 339170, 2321636, 2321637, 3927268, 3927269, 2321640, 2321641, 2321643, 2321644, 2321645, 3353838, 3927277, 2321647, 2321648, 2321649, 2321650, 2321652, 2321653, 2321654, 2321655, 3927288, 2321657, 2321658, 961787, 4893947, 2321659, 2321660, 2321661, 3353856, 2321662, 3353858, 2321663, 2321669, 2321670, 2226444, 535816, 3353865, 4025612, 2321678, 2321680, 2321681, 3353874, 535827, 4320530, 1420565, 3353877, 535831, 2321683, 830745, 945430, 3353883, 2321688, 2321691, 2895134, 535838, 2321692, 2321693, 2321694, 3353891, 3353892, 2321695, 535846, 2321697, 2321698, 830761, 535850, 535851, 2895145, 535853, 535854, 830765, 3353904, 830770, 3353912, 3321162, 535891, 4173139, 4173154, 1371491, 4173156, 4173158, 4173159, 4992360, 535931, 535935, 535938, 2387331, 2387336, 2583947, 4009357, 2583949, 1813909, 4009373, 2796958, 2583966, 945574, 945575, 3124648, 945577, 945580, 1666476, 945588, 945592, 945593, 945594, 945595, 945596, 3190207, 945603, 4763078, 945611, 945612, 945614, 945615, 1519058, 945619, 224724, 4009430, 945631, 1519073, 945634, 1502690, 945636, 945637, 1519081, 945641, 945646, 945647, 4009457, 4009458, 945650, 945652, 945653, 945654, 945657, 945659, 945662, 945663, 945664, 2387456, 2387457, 945667, 945669, 2387461, 945672, 945675, 945676, 945677, 945679, 945681, 945686, 945687, 945688, 945689, 4009498, 945692, 2240030, 945696, 945697, 1961507, 831012, 831015, 3845672, 1093162, 3845674, 421422, 945712, 945714, 945715, 945716, 3845685, 2223670, 945721, 945722, 945723, 945724, 945725, 3288641, 3845697, 3845699, 945730, 945735, 945738, 3288651, 3288652, 1093197, 3845709, 3845710, 945740, 945742, 3845714, 945746, 3845716, 3845720, 945754, 2502235, 945755, 2256475, 2502238, 945760, 945761, 945762, 945767, 4861544, 945768, 896623, 945778, 945779, 945786, 945787, 945789, 2453118, 945796, 945798, 945802, 945807, 945808, 945809, 945811, 2223772, 3157675, 3747500, 1797805, 3813049, 2223805, 2223806, 1453767, 3157705, 2682577, 2682585, 1748698, 2682586, 2682589, 61156, 1453797, 3993316, 4615910, 1240810, 61163, 1289970, 2682610, 61171, 863989, 61173, 61174, 2682613, 2682616, 2682618, 2502396, 2682620, 1519358, 2682621, 2682622, 2682624, 2682625, 2682626, 2682627, 1797894, 2502407, 2223879, 585487, 2502418, 1453843, 2502426, 3108635, 3108638, 1453855, 4796194, 4157221, 4157223, 1453864, 1453865, 1453867, 2223916, 1453870, 2338606, 1797935, 1797936, 1797937, 3911475, 1797939, 1797940, 3911478, 1797941, 1240887, 1797945, 1453882, 3911483, 3354432, 2338624, 1240896, 585537, 585538, 585539, 585540, 585541, 585542, 585543, 1453898, 585544, 585545, 1240902, 585550, 2502482, 1453910, 2584408, 2879320, 2584410, 2502501, 1453926, 470893, 2502510, 1175412, 2666357, 2502520, 814970, 814975, 814976, 1453964, 2224012, 1208205, 1208206, 1961879, 2584477, 2043806, 3092383, 2502560, 2600866, 2502567, 2224042, 2273196, 4206512, 2502577, 1454003, 3764147, 2502584, 3551160, 3764154, 2502587, 2502588, 2502589, 3551166, 2502591, 2502592, 1454017, 1454018, 3551171, 1454020, 1454025, 2224075, 1454028, 2502604, 2502605, 4698062, 4698064, 2502610, 2502611, 2502612, 2502613, 2502620, 1454045, 1060830, 2502621, 2502623, 2502624, 3551199, 1454051, 2502628, 2502629, 1454052, 962534, 1454053, 1454055, 4435946, 2502634, 1454056, 1454057, 1454058, 1060846, 1454060, 3551208, 3551209, 3551213, 3551218, 3551219, 3272687, 3551223, 3551226, 667646, 3256320, 3551236, 3551241, 2830348, 2830350, 3862568, 3551279, 1421361, 3551281, 1912883, 3434748, 1421369, 3813435, 1421372, 3551292, 3551296, 3551298, 4337733, 471111, 471112, 471113, 3551303, 28748, 28751, 3551315, 3551318, 2224216, 2371675, 3436638, 3551327, 2388064, 2388067, 2289764, 2388068, 143462, 28774, 2371689, 2371695, 2224239, 143473, 2371697, 143476, 2502774, 28792, 143482, 143484, 2289791, 143488, 143489, 143494, 1798284, 356503, 2224280, 3895448, 2224285, 2502821, 2617515, 2617516, 389294, 3240114, 3240117, 4845768, 4075728, 4845778, 4698323, 4993240, 4993241, 4042972, 4468972, 520429, 4387054, 1028335, 2224368, 2224369, 4387061, 4320541, 4043011, 4844831, 454928, 2191634, 307475, 192804, 454950, 454951, 3436840, 454955, 454956, 454958, 454959, 2928944, 454960, 454961, 618802, 3436846, 3436850, 864566, 864567, 3436851, 4469049, 3436853, 618812, 618815, 4469057, 4226118, 4043082, 4469072, 4469073, 684368, 4469076, 3928406, 4469082, 209250, 3010916, 2224492, 4043117, 2208120, 4764024, 2224511, 2224520, 127375, 2224530, 2224534, 2224536, 143769, 3633568, 3633570, 3633572, 3633573, 2224552, 3633580, 1536429, 2224559, 2732465, 4764085, 4522478, 4764087, 2208187, 3633596, 2208194, 2847174, 2224585, 291274, 4485579, 2224590, 2208207, 2208208, 2847182, 3092946, 3092947, 3092948, 3092951, 3092952, 569817, 2224599, 3092955, 3092959, 3092961, 3092962, 2208228, 3092965, 3092966, 3092967, 3633636, 3404263, 3404264, 3092971, 3092972, 2208237, 3092973, 3092974, 3092975, 3092976, 586218, 3092979, 1602027, 3092981, 3092982, 3092983, 3404271, 2224640, 2208259, 2208261, 586245, 586246, 2208265, 2224653, 2224659, 2224664, 2224669, 3469854, 586273, 3273252, 586283, 1765932, 2224694, 3469879, 2208312, 2994746, 2224699, 2208318, 2224717, 1454674, 3781202, 1454679, 3043927, 2208349, 2208350, 2208351, 2224735, 2208353, 2208355, 2208358, 2224742, 2224743, 2257513, 2224752, 2224762, 2224782, 3617426, 2257556, 2224793, 2257561, 2257564, 2257566, 1454758, 1454759, 2224807, 3617449, 2257577, 1454764, 3617454, 3617455, 1815216, 3617457, 1815218, 3617458, 3617459, 2224823, 3617464, 3617465, 1454778, 3617467, 1454780, 3453630, 1454783, 3617471, 2257600, 537282, 3617474, 3617475, 3617484, 3453645, 3617485, 3453647, 1815248, 2321175, 2224850, 2224851, 3617494, 537303, 2224856, 3437273, 3437275, 1454813, 537310, 3617502, 3617504, 2224861, 1454818, 2224864, 3617508, 3437280, 3437281, 3617511, 2257635, 2224871, 3617514, 3617516, 1454830, 1454831, 2224880, 2323184, 1454838, 1454840, 2224888, 3453690, 1192703, 4829953, 3453699, 602886, 1454859, 2224907, 4715277, 979728, 2126609, 1225494, 4240151, 2126614, 2159383, 2224924, 504605, 2159390, 1225503, 1225505, 3453729, 3453731, 1225508, 2159396, 1225510, 3453734, 1078054, 2159401, 2224937, 1225515, 1225517, 1225522, 1225525, 979765, 897849, 1225530, 832318, 2224958, 2224959, 832322, 832323, 4289357, 4289360, 4289361, 979794, 979800, 979803, 2224995, 3535715, 95081, 2405235, 2225021, 4551549, 3748742, 4551565, 1962899, 2339749, 2077607, 258984, 2077609, 2225065, 2225068, 258989, 2339759, 422831, 4977585, 1209268, 258997, 2470838, 2225077, 2503609, 1209274, 1209276, 1209278, 1209281, 1209287, 1209288, 2061261, 2782158, 422864, 2601937, 1209297, 1668049, 1209299, 2061265, 2225105, 1209302, 2225111, 1209304, 422873, 1209307, 1389532, 2225115, 2225117, 3093471, 1209311, 1209312, 1324002, 1160165, 2601958, 1209318, 1209319, 2225135, 3716082, 3453943, 3453944, 3716088, 3716089, 3716090, 3716092, 3716093, 3716094, 291831, 2225145, 2225154, 4109316, 2225157, 291849, 3077133, 3077134, 3077138, 2225171, 2225179, 2225184, 3077153, 2339874, 4994083, 3077154, 3077155, 3077161, 324650, 324652, 324653, 2716719, 3077167, 2225203, 2225211, 62531, 62532, 62534, 2962511, 2225235, 275540, 2225237, 2520157, 2225246, 275558, 2225254, 275560, 1668201, 881782, 455816, 1438863, 2225299, 4076692, 1684634, 2225307, 1684645, 1684647, 2225319, 2225320, 799914, 799916, 652460, 652463, 2225330, 4830390, 4830395, 652477, 2225343, 2225345, 652483, 4830404, 4830405, 4830406, 652484, 13512, 2536649, 4830409, 4830411, 4830412, 4830413, 4830414, 652487, 13520, 4830416, 652496, 4830419, 4830420, 2225360, 4830422, 2225362, 2225364, 13529, 4830425, 652503, 4830428, 13533, 4830429, 2225370, 4830433, 2225378, 4830435, 2225381, 4830440, 1570025, 2225385, 4830450, 4830451, 2225397, 4830454, 4830459, 2225406, 4404480, 4830465, 2225409, 2225410, 2225417, 2225418, 2225419, 4830476, 2225422, 2225425, 2225434, 2225436, 2225443, 3077411, 2897189, 1406249, 2225465, 2225466, 2897213, 3749181, 2487616, 2176321, 2176322, 2929989, 2225477, 2225481, 2225483, 2929997, 456015, 2225488, 2225489, 3847506, 3847508, 3847509, 2225496, 832857, 2225497, 2225498, 2930015, 2225504, 2225508, 832869, 2897254, 832871, 2225509, 832873, 832874, 2225511, 2897264, 2897265, 2225523, 2225524, 947574, 2651510, 2651511, 2700669, 2225533, 2700671, 2225535, 2225548, 4093329, 4093331, 2225557, 2225558, 4093333, 2225560, 4093336, 947613, 2225566, 947615, 2225567, 2225570, 898467, 947619, 2225573, 947624, 947625, 947626, 2225576, 2848171, 2225583, 947632, 947634, 947636, 947639, 947640, 1242553, 947642, 947643, 947645, 2684350, 2225601, 2225613, 1242574, 2225615, 2733521, 2733522, 947665, 947666, 947667, 2733527, 2225627, 2733543, 1701354, 2733547, 2225644, 2733549, 2225647, 2225649, 2405874, 2405875, 2733554, 2225650, 2782708, 2225655, 2225656, 2225657, 2225658, 2733563, 2225659, 2225660, 2225661, 2733567, 2225662, 2225663, 2356732, 2225670, 2225671, 2225672, 2225675, 2225676, 2225677, 2225678, 2225679, 2618896, 800274, 3716630, 2225687, 2225689, 2225690, 2225692, 2225695, 1226272, 2225696, 2225697, 2225698, 2225699, 3716645, 2225700, 1226279, 2225701, 1226281, 3716650, 1193515, 3257899, 2225702, 3716654, 2225703, 2225705, 3716657, 2225706, 2225708, 1226292, 2225709, 1226294, 2225710, 2225711, 2225713, 3257914, 2225715, 2225717, 3421757, 1226302, 2225718, 2225719, 2225720, 2225721, 2225722, 2225727, 2225728, 3257926, 3978822, 2225729, 3978825, 2225731, 2225732, 2225736, 2225737, 2225738, 3143242, 2225740, 2225745, 2225747, 1226324, 2225748, 1226326, 2225750, 3257944, 2225751, 2225753, 2225756, 2225757, 3257952, 3257956, 2225764, 3257958, 3978855, 2225767, 3978857, 2225768, 3946091, 2225769, 2225772, 1275504, 2225778, 2225779, 1226356, 1226357, 2225780, 2225781, 3896948, 1226362, 3978874, 2225787, 3978877, 2225788, 3978879, 1226368, 3978880, 3978881, 3978883, 1226372, 1226373, 3978884, 3978885, 1226376, 3978886, 3978887, 1226379, 2225795, 2225796, 1275525, 2225799, 1275529, 1226391, 1226392, 2225815, 1226395, 3978907, 3978908, 128668, 2733727, 1275549, 1226401, 1275552, 1226403, 3978916, 3978917, 1226406, 2225828, 2225830, 1226409, 2225831, 2225837, 1226416, 2225842, 1226419, 2225844, 1226421, 1226422, 2225845, 2225846, 2225847, 2225848, 46779, 1619643, 46781, 128697, 2225850, 2225851, 2225853, 46786, 2225854, 2225855, 2225858, 2225859, 46791, 2225860, 2225861, 2225864, 2225866, 980687, 2225873, 2225874, 2225877, 2225878, 2225879, 2356951, 2225882, 2356955, 2225884, 2225890, 2225891, 2225892, 2225893, 4617955, 2225896, 2225897, 2225900, 2225901, 1259251, 2225907, 2225912, 2225914, 2225915, 2225917, 2225921, 2225923, 2225924, 1259272, 2225934, 2225935, 2225943, 2225944, 2225946, 2225947, 2225949, 2225951, 4716320, 2225957, 2225958, 2225960, 2225962, 2225965, 2225967, 2225968, 4405044, 2225973, 718650, 4545554, 2225982, 2225983, 4545555, 1455941, 2225991, 2225992, 2225993, 2225994, 2225995, 2225996, 1029970, 4405075, 2226004, 2226007, 4405081, 2226009, 4405084, 2226013, 2226017, 2226018, 2226019, 2226020, 2226021, 2226022, 2226023, 4405097, 2226025, 4159338, 1832814, 2226031, 4405108, 4405109, 1505149, 3323775, 4405123, 4405124, 2226053, 2226062, 2226063, 2226068, 2226072, 2226077, 79774, 4437919, 79776, 2226080, 2226089, 2226091, 456621, 3520436, 2340789, 2226100, 2226101, 2226103, 2226104, 2226105, 2226106, 2226116, 4650956, 2226128, 4650962, 2226136, 2734047, 2226145, 2226148, 2226149, 2226150, 2291685, 2881512, 2537449, 4618214, 2373612, 341998, 2226160, 2881520, 2226162, 2373623, 2373624, 2537464, 2226169, 4143099, 2373629, 2373630, 2373631, 2881533, 2226173, 2373634, 2373635, 2373636, 2373637, 2373638, 2881537, 4143112, 2226177, 2226179, 2226180, 2226182, 2226183, 2226185, 2226186, 2226187, 2881546, 2881549, 2226192, 4274196, 2881553, 2881556, 2226198, 2226200, 669721, 4569119, 2226210, 2226213, 4569131, 2226220, 2226221, 4569136, 2226225, 4831282, 4831283, 2242612, 2226227, 2242614, 2226228, 1882168, 2226229, 2226233, 587838, 2226238, 2226240, 2226242, 4569158, 587847, 1882184, 3209290, 2226252, 3700815, 2226260, 4569175, 4569176, 4569179, 3700827, 2226268, 2226270, 3373150, 2226272, 2226273, 3373156, 3602533, 4569191, 2226279, 3111016, 2226287, 2226288, 2226292, 2799734, 2226294, 4569210, 4569212, 4569213, 2226302, 3864703, 3864704, 3864705, 2799747, 4569219, 4569221, 4569224, 4569227, 3864717, 2799759, 4569232, 3864720, 637074, 4569234, 1734802, 3864725, 3504278, 4569239, 3864731, 4569245, 4569246, 3504286, 2226336, 4569249, 4569250, 2226337, 4569252, 2226338, 4569254, 3504289, 2799784, 227492, 1374373, 3864739, 4569260, 2226344, 4569262, 293034, 4569264, 4569265, 4569266, 2226346, 2226347, 2226351, 2226352, 2226366, 2226367, 2226369, 2226371, 2226372, 3504323, 2226374, 2226375, 882888, 2226376, 2226377, 882891, 2226378, 3504327, 915663, 2226383, 2226385, 2226388, 669909, 2226390, 915671, 2226391, 2226395, 2226396, 2488551, 1915112, 2652392, 2423018, 669934, 2488559, 882928, 1046769, 2226416, 669939, 915700, 2226421, 2226422, 1456376, 2226426, 669947, 4864254, 669951, 2570495, 1915137, 2226430, 2226431, 669956, 2226432, 1538307, 2652420, 2226436, 2488582, 2226437, 915720, 2226438, 571661, 669966, 669967, 1456400, 2226440, 2226442, 2226443, 1390868, 669973, 2226449, 1390871, 4110615, 2226450, 669979, 1456411, 96539, 1456414, 96545, 669986, 669989, 1915173, 2226470, 2226471, 4897065, 2341162, 669996, 4962605, 4946222, 2226479, 2898224, 2341169, 2898225, 2226480, 2226481, 2898229, 2226483, 2226484, 2226486, 2226488, 1915194, 1915195, 2226489, 604477, 2226493, 2226494, 2226496, 2226497, 2226510, 2226513, 3062099, 4946259, 2226516, 2226519, 4307292, 1603935, 2226527, 2226528, 4110691, 2996580, 4110692, 2226533, 1603943, 2226537, 4946282, 2226539, 2226540, 2226542, 2226549, 4946298, 2226556, 2226557, 2226558, 4946300, 4438401, 2226561, 2226562, 2226563, 2226566, 1636743, 2226567, 2226569, 4946315, 2226572, 2226573, 4946318, 2226578, 4651410, 2226580, 2226582, 2226584, 2226586, 1636767, 2226592, 2226594, 1604003, 2226598, 2226599, 1604008, 129449, 2226600, 539053, 539054, 2226605, 2226607, 2226609, 2226610, 2226611, 2226612, 2226613, 4340150, 2226614, 899512, 2226615, 2226618, 2226619, 2226621, 2226622, 2226623, 2226624, 4094399, 2226626, 2226628, 129477, 129478, 2226630, 2226634, 4340173, 4340174, 2226639, 702928, 2226643, 2226645, 2226646, 4831703, 4225495, 2226648, 2226651, 2226655, 2226659, 2226660, 2226663, 2226665, 2226670, 2226672, 2226674, 2226676, 2226683, 2898431, 2226694, 1292807, 1292808, 2226695, 2226700, 2226701, 2226704, 2226706, 3572021, 2226707, 2226708, 2226709, 2226713, 2226714, 2226716, 2226719, 2226724, 2226726, 2898475, 2226731, 2226732, 195118, 3062319, 2226734, 2226738, 2226741, 2226742, 2226744, 2226745, 2226749, 2226750, 2226751, 2226756, 2226757, 2226758, 2226761, 195146, 2226762, 2226765, 195150, 2226768, 195155, 195156, 2226771, 2226777, 2226778, 4225628, 3750494, 195167, 1981026, 2226786, 2226788, 2226789, 2226790, 2226791, 2226793, 2226794, 2226798, 195183, 195184, 2226799, 2226800, 2226801, 195196, 2226812, 2226814, 2226817, 2226818, 3652228, 195205, 2226821, 195207, 2226822, 2226823, 2144906, 2226827, 2226830, 2226832, 3062417, 2226833, 1440404, 2226837, 916118, 916119, 2226838, 2226839, 2226840, 2226841, 3439257, 2226845, 2226850, 2226853, 2226854, 2226859, 2341549, 2226861, 2226863, 2243249, 2226865, 2226866, 2226868, 2226871, 2226872, 2226874, 3701436, 3701437, 2226876, 2226877, 654014, 3439292, 637634, 3439296, 2226881, 1735362, 2144966, 1735363, 2079432, 2226883, 2226885, 3439300, 3439303, 2226891, 3439308, 2226898, 3439315, 1440469, 2226901, 2226903, 2980566, 3439319, 3439321, 2276059, 1440476, 2226909, 2538206, 3439327, 2226915, 2538214, 3357415, 1653480, 3439334, 3439335, 867051, 3439336, 2226921, 2226922, 2226923, 2226924, 867057, 2226925, 2226926, 2226928, 3439340, 4668150, 2226933, 4225781, 2226937, 2226938, 948987, 3963643, 3963644, 867070, 2226942, 3963646, 3963649, 2226946, 4029186, 867082, 2226955, 2226960, 3046170, 2226971, 867100, 2226973, 4225823, 2226977, 867106, 867107, 2226981, 3160870, 2226982, 3685160, 2647245, 768810, 2226983, 3160876, 2226984, 2226985, 572207, 2226993, 2226994, 2226998, 1653559, 3046199, 4225850, 2227008, 2227010, 1751876, 3324740, 2227014, 2227016, 2227022, 2915151, 2227025, 2915155, 2227029, 2227031, 2227032, 2227034, 2227036, 2227039, 3046240, 2227043, 1719143, 4193128, 2227051, 2227052, 3046251, 1653616, 2227056, 2227057, 2227059, 2227060, 1653621, 621429, 2227061, 2227062, 621432, 2227065, 2227066, 2227068, 2227069, 1522558, 2227070, 801667, 1375111, 621449, 801674, 4045706, 2227081, 2227083, 2227085, 2227086, 801680, 1522577, 2227087, 2227092, 1653653, 2227094, 2227096, 1653657, 2227098, 4193180, 4193183, 2227107, 4193187, 2227110, 2227111, 4193190, 3423152, 2227121, 2227122, 326579, 4225971, 2227134, 2227135, 2227140, 2227142, 326604, 2227152, 3588392, 326611, 326612, 2227155, 1653718, 326614, 326615, 326617, 2227161, 2227163, 326622, 3259359, 2227167, 4226016, 326625, 2227170, 3259364, 1276899, 2227172, 1276901, 1276903, 1522666, 1276906, 2227178, 1522673, 4226033, 2227186, 2227187, 326644, 326645, 326646, 2227194, 1522683, 4029434, 2227196, 1276926, 1276927, 1276928, 326657, 1276929, 1276930, 1276931, 3259397, 326661, 2227204, 326663, 2227208, 326664, 4226051, 4340749, 326669, 326670, 2227213, 3259409, 326672, 3259411, 3079185, 326676, 3259414, 1932309, 1932310, 1932311, 2227223, 326681, 1522716, 326682, 556058, 2227227, 326685, 2227226, 326687, 1932319, 2227228, 2227229, 2227231, 326693, 326694, 326695, 326696, 3767337, 326700, 1522733, 2227244, 1522735, 2227246, 4226095, 1522738, 3259443, 3259444, 1522741, 3259445, 1293365, 3259448, 3259449, 1522746, 2227251, 1244216, 1293373, 2227258, 3259455, 3259456, 3259457, 3259458, 3259459, 3259460, 3259461, 1522751, 1522752, 1522753, 1522754, 1293385, 4996163, 1293388, 687173, 687174, 2227270, 2227276, 2227277, 1457234, 1522771, 2227278, 900181, 2227279, 2227280, 2227286, 2227289, 2227297, 3964005, 4226149, 4226151, 3554409, 4226154, 2227307, 1522796, 2227312, 4226167, 2227323, 3554428, 3554429, 2227325, 2227328, 2227331, 2227335, 2227337, 2227338, 2817161, 2227340, 4226187, 3554447, 4226191, 2227344, 2227347, 2227350, 2227351, 2227352, 1653913, 2227354, 1555611, 2227357, 2227358, 2227362, 2227365, 2227370, 4177067, 2227375, 2227377, 1653942, 2227385, 2227393, 4226243, 2227397, 2227400, 2686152, 4226249, 2227408, 4226256, 4685009, 2227413, 2686166, 4226262, 4226265, 4242652, 2227420, 4226273, 2227428, 2227429, 2227433, 4226282, 4226284, 2227441, 2227443, 2227447, 2227449, 3849473, 3849474, 4226310, 2227259, 2227465, 2227466, 2227467, 4226314, 2227260, 3849487, 2227473, 4226322, 2227480, 2227263, 2321700, 4226335, 4226337, 4226338, 2321701, 2227491, 4226341, 621862, 2227494, 2227496, 2227500, 3030318, 2227502, 4226353, 2227507, 2227508, 4226356, 4226357, 2227512, 2653497, 4226360, 3210555, 4226361, 4226362, 2227519, 3210561, 2227525, 2227526, 4226374, 4226381, 2227539, 572757, 4226389, 4226391, 4226396, 2227556, 2964840, 2227567, 2227568, 2227569, 2227571, 2227572, 2227573, 2227575, 4226425, 2227578, 2227579, 1162621, 2227581, 4849022, 2227584, 4226435, 2227592, 2227593, 475316, 2227594, 2227595, 4226443, 966030, 2227597, 2227602, 3243410, 4226450, 2227605, 2227607, 4226455, 4226458, 4226463, 2227618, 2227619, 2227623, 2227626, 1179052, 2227630, 4226478, 2227636, 1785269, 4226484, 2227638, 1621432, 1785273, 1621434, 4226491, 1637820, 2227646, 2227647, 2227649, 2227650, 1129925, 2227653, 2227655, 2227656, 2063818, 2227659, 1588684, 1179085, 1785294, 2227665, 1785298, 2227670, 2227671, 1179096, 1785305, 3572213, 4226521, 2227676, 2227677, 2227679, 146914, 3079656, 4193768, 2227690, 2227692, 2227695, 2227698, 2227699, 3243506, 2227701, 2227703, 2227709, 4750845, 4750848, 2227713, 4750849, 4750850, 4750852, 2227717, 4750853, 4750855, 4750856, 2227722, 2227723, 4226571, 2227725, 4193806, 2227727, 4193807, 4193811, 2227732, 4193812, 343578, 2227739, 2227740, 2227741, 2227745, 2227746, 4226597, 2227753, 2227754, 2227756, 4226604, 2227758, 2227760, 2227762, 2227764, 2227765, 3423800, 2227768, 2227769, 2588218, 2588220, 2227773, 2588224, 2227777, 2227778, 343621, 2227784, 2227785, 343626, 2227786, 2227789, 2227790, 343631, 1130064, 343633, 4226639, 3046992, 2227794, 2227795, 3898963, 3898969, 2227802, 2227803, 4226650, 2227805, 4226654, 4226657, 654946, 2227813, 2227817, 2227818, 2227819, 2227822, 1916527, 1916528, 2227825, 2227827, 2227828, 2227829, 2227830, 2227831, 1359484, 4832894, 2227838, 3587715, 2227843, 2227846, 2227847, 2227848, 2227849, 2227851, 2227852, 2227854, 2227855, 2227856, 2227857, 2227859, 2227860, 2227861, 2227862, 2227864, 2227865, 2227866, 2227867, 2227868, 1326749, 2227869, 1310366, 2227870, 2227871, 2227872, 2227874, 3014308, 2227880, 2227882, 2227884, 2227885, 2227888, 2227890, 2227891, 2227892, 2227896, 1507003, 1310401, 2227906, 2227912, 2375384, 2227928, 2227929, 2227936, 2227937, 1490659, 2735845, 524006, 2227943, 2227945, 982762, 245486, 2653935, 2653936, 2227952, 2653938, 2227954, 1834740, 2227956, 2227957, 2227959, 1834744, 2227961, 2227962, 2227966, 1375999, 4275968, 1834752, 2227968, 4275971, 4275972, 2227970, 4275974, 4275975, 1130248, 4275976, 4275977, 4275978, 2227972, 1834757, 1130254, 2227977, 1130256, 2227980, 2227982, 2227984, 1130260, 2227988, 1834775, 2227994, 1834780, 2998045, 2227997, 2227998, 4816668, 818978, 3587876, 4816676, 2015015, 3587880, 1834792, 2228008, 2228009, 2228010, 2228013, 2228014, 1834799, 2228018, 2228019, 818997, 818998, 2228023, 2228024, 1834809, 819000, 2228027, 819001, 819002, 2228030, 3555135, 819003, 1130305, 1130306, 1130307, 819004, 1130309, 3096390, 1392454, 1130311, 1130312, 1130314, 2228035, 1130316, 1130317, 1392460, 1392461, 1261392, 1130321, 1130322, 1130323, 1392465, 3981136, 2228045, 1392471, 819025, 2228050, 2228053, 2228055, 2228056, 1392477, 2228058, 1392479, 1392480, 2228063, 1130338, 1392482, 2228066, 1130342, 1392486, 1392487, 2228070, 2228071, 2228073, 2228075, 2228077, 2228078, 1392496, 1130354, 2228083, 1392500, 2228088, 1130366, 2228094, 2228095, 2228096, 2228100, 1130374, 2228106, 2228111, 4816789, 2228118, 2178969, 2228122, 2228128, 1130404, 2228132, 2228133, 1130407, 2260902, 2228135, 4816806, 704429, 1130413, 1130415, 2228143, 2228147, 4374452, 2228152, 4816825, 2228158, 2228159, 4816836, 3555271, 2228168, 2473929, 2228169, 2228170, 2228172, 2228174, 2228175, 2228179, 1130452, 2228180, 2228182, 1130459, 1343451, 1130461, 2228189, 2228191, 2228193, 1130466, 2228197, 2228198, 2228199, 2228203, 1130476, 2228206, 2228207, 2228209, 1130482, 2228210, 327669, 3522550, 327671, 2228216, 327673, 1130492, 2228222, 2228223]\n",
    "\n",
    "print(len(unknowns))"
   ]
  },
  {
   "cell_type": "code",
   "execution_count": 50,
   "id": "0bdef9e0",
   "metadata": {},
   "outputs": [
    {
     "name": "stdout",
     "output_type": "stream",
     "text": [
      "Number of users from unknown:  1630\n",
      "Number of users from unknown in training dataframe:  1630\n"
     ]
    }
   ],
   "source": [
    "# Check if the number of users from the unknown indicies are all in our training data:\n",
    "print('Number of users from unknown: ', len(df_test.iloc[unknowns]['userId'].unique()))\n",
    "print('Number of users from unknown in training dataframe: ', \n",
    "      len(df_train[df_train['userId'].isin(list(df_test.iloc[unknowns]['userId'].unique()))]['userId'].unique()))"
   ]
  },
  {
   "cell_type": "code",
   "execution_count": 51,
   "id": "34859184",
   "metadata": {},
   "outputs": [
    {
     "name": "stdout",
     "output_type": "stream",
     "text": [
      "Number of movies of interest:  12999\n",
      "Number of movies with extra features:  651\n",
      "Number of movies we need to rate:  5044\n",
      "Number of movies we can compare:  18043\n"
     ]
    }
   ],
   "source": [
    "print('Number of movies of interest: ', len(df_train[df_train['userId']\n",
    "                                                .isin(list(df_test.iloc[unknowns]['userId']\n",
    "                                                           .unique()))]['movieId'].unique()))\n",
    "\n",
    "print('Number of movies with extra features: ', len(imdb_data_df[imdb_data_df['movieId']\n",
    "                                                    .isin(list(df_test.iloc[unknowns]['movieId']\n",
    "                                                               .unique()))]['movieId'].unique()))\n",
    "\n",
    "print('Number of movies we need to rate: ', len(movies_df[movies_df['movieId']\n",
    "                                                   .isin(list(df_test.iloc[unknowns]['movieId']\n",
    "                                                              .unique()))]['movieId'].unique()))\n",
    "to_b_compared = set()\n",
    "to_b_rated = set(list(df_test.iloc[unknowns]['movieId']))\n",
    "rated = set(df_train[df_train['userId'].isin(list(df_test.iloc[unknowns]['userId'].unique()))]['movieId'])\n",
    "to_b_compared |= to_b_rated\n",
    "to_b_compared |= rated\n",
    "\n",
    "print('Number of movies we can compare: ', len(to_b_compared))"
   ]
  },
  {
   "cell_type": "code",
   "execution_count": 52,
   "id": "1033394d",
   "metadata": {},
   "outputs": [
    {
     "ename": "ValueError",
     "evalue": "Cannot take a larger sample than population when 'replace=False'",
     "output_type": "error",
     "traceback": [
      "\u001b[1;31m---------------------------------------------------------------------------\u001b[0m",
      "\u001b[1;31mValueError\u001b[0m                                Traceback (most recent call last)",
      "\u001b[1;32m<ipython-input-52-2fdc12d067fd>\u001b[0m in \u001b[0;36m<module>\u001b[1;34m\u001b[0m\n\u001b[0;32m      1\u001b[0m \u001b[1;31m# Create dataframe of features\u001b[0m\u001b[1;33m\u001b[0m\u001b[1;33m\u001b[0m\u001b[1;33m\u001b[0m\u001b[0m\n\u001b[0;32m      2\u001b[0m \u001b[0mto_b_rated_df\u001b[0m\u001b[1;33m=\u001b[0m \u001b[0mmovies_df\u001b[0m\u001b[1;33m[\u001b[0m\u001b[0mmovies_df\u001b[0m\u001b[1;33m[\u001b[0m\u001b[1;34m'movieId'\u001b[0m\u001b[1;33m]\u001b[0m\u001b[1;33m.\u001b[0m\u001b[0misin\u001b[0m\u001b[1;33m(\u001b[0m\u001b[0mlist\u001b[0m\u001b[1;33m(\u001b[0m\u001b[0mto_b_rated\u001b[0m\u001b[1;33m)\u001b[0m\u001b[1;33m)\u001b[0m\u001b[1;33m]\u001b[0m\u001b[1;33m.\u001b[0m\u001b[0mcopy\u001b[0m\u001b[1;33m(\u001b[0m\u001b[1;33m)\u001b[0m\u001b[1;33m\u001b[0m\u001b[1;33m\u001b[0m\u001b[0m\n\u001b[1;32m----> 3\u001b[1;33m \u001b[0mcontent_movies_df\u001b[0m \u001b[1;33m=\u001b[0m \u001b[0mmovies_df\u001b[0m\u001b[1;33m[\u001b[0m\u001b[0mmovies_df\u001b[0m\u001b[1;33m[\u001b[0m\u001b[1;34m'movieId'\u001b[0m\u001b[1;33m]\u001b[0m\u001b[1;33m.\u001b[0m\u001b[0misin\u001b[0m\u001b[1;33m(\u001b[0m\u001b[0mlist\u001b[0m\u001b[1;33m(\u001b[0m\u001b[0mto_b_compared\u001b[0m\u001b[1;33m)\u001b[0m\u001b[1;33m)\u001b[0m\u001b[1;33m]\u001b[0m\u001b[0;31m\\\u001b[0m\u001b[1;33m\u001b[0m\u001b[1;33m\u001b[0m\u001b[0m\n\u001b[0m\u001b[0;32m      4\u001b[0m                               \u001b[1;33m.\u001b[0m\u001b[0msample\u001b[0m\u001b[1;33m(\u001b[0m\u001b[1;36m35000\u001b[0m\u001b[1;33m,\u001b[0m \u001b[0mrandom_state\u001b[0m\u001b[1;33m=\u001b[0m\u001b[1;36m1\u001b[0m\u001b[1;33m)\u001b[0m\u001b[1;33m.\u001b[0m\u001b[0mcopy\u001b[0m\u001b[1;33m(\u001b[0m\u001b[1;33m)\u001b[0m  \u001b[1;31m# Increase sample size to compare more movies,\u001b[0m\u001b[1;33m\u001b[0m\u001b[1;33m\u001b[0m\u001b[0m\n\u001b[0;32m      5\u001b[0m                                                             \u001b[1;31m# decrease it to avioid RAM issues (30k needs 12GB)\u001b[0m\u001b[1;33m\u001b[0m\u001b[1;33m\u001b[0m\u001b[1;33m\u001b[0m\u001b[0m\n",
      "\u001b[1;32m~\\anaconda3-\\lib\\site-packages\\pandas\\core\\generic.py\u001b[0m in \u001b[0;36msample\u001b[1;34m(self, n, frac, replace, weights, random_state, axis)\u001b[0m\n\u001b[0;32m   5348\u001b[0m             )\n\u001b[0;32m   5349\u001b[0m \u001b[1;33m\u001b[0m\u001b[0m\n\u001b[1;32m-> 5350\u001b[1;33m         \u001b[0mlocs\u001b[0m \u001b[1;33m=\u001b[0m \u001b[0mrs\u001b[0m\u001b[1;33m.\u001b[0m\u001b[0mchoice\u001b[0m\u001b[1;33m(\u001b[0m\u001b[0maxis_length\u001b[0m\u001b[1;33m,\u001b[0m \u001b[0msize\u001b[0m\u001b[1;33m=\u001b[0m\u001b[0mn\u001b[0m\u001b[1;33m,\u001b[0m \u001b[0mreplace\u001b[0m\u001b[1;33m=\u001b[0m\u001b[0mreplace\u001b[0m\u001b[1;33m,\u001b[0m \u001b[0mp\u001b[0m\u001b[1;33m=\u001b[0m\u001b[0mweights\u001b[0m\u001b[1;33m)\u001b[0m\u001b[1;33m\u001b[0m\u001b[1;33m\u001b[0m\u001b[0m\n\u001b[0m\u001b[0;32m   5351\u001b[0m         \u001b[1;32mreturn\u001b[0m \u001b[0mself\u001b[0m\u001b[1;33m.\u001b[0m\u001b[0mtake\u001b[0m\u001b[1;33m(\u001b[0m\u001b[0mlocs\u001b[0m\u001b[1;33m,\u001b[0m \u001b[0maxis\u001b[0m\u001b[1;33m=\u001b[0m\u001b[0maxis\u001b[0m\u001b[1;33m)\u001b[0m\u001b[1;33m\u001b[0m\u001b[1;33m\u001b[0m\u001b[0m\n\u001b[0;32m   5352\u001b[0m \u001b[1;33m\u001b[0m\u001b[0m\n",
      "\u001b[1;32mmtrand.pyx\u001b[0m in \u001b[0;36mnumpy.random.mtrand.RandomState.choice\u001b[1;34m()\u001b[0m\n",
      "\u001b[1;31mValueError\u001b[0m: Cannot take a larger sample than population when 'replace=False'"
     ]
    }
   ],
   "source": [
    "# Create dataframe of features \n",
    "to_b_rated_df= movies_df[movies_df['movieId'].isin(list(to_b_rated))].copy()\n",
    "content_movies_df = movies_df[movies_df['movieId'].isin(list(to_b_compared))]\\\n",
    "                              .sample(35000, random_state=1).copy()  # Increase sample size to compare more movies, \n",
    "                                                            # decrease it to avioid RAM issues (30k needs 12GB)\n",
    "\n",
    "content_movies_df = content_movies_df.append(to_b_rated_df, ignore_index = True)\n",
    "content_movies_df = content_movies_df.drop_duplicates()\n",
    "content_movies_df = pd.merge(content_movies_df, \n",
    "                             df_imdb[['movieId', 'title_cast', \n",
    "                                      'plot_keywords', 'director']], on='movieId', how='left').fillna('')\n",
    "display(content_movies_df.head(3))\n",
    "print(content_movies_df.shape)"
   ]
  },
  {
   "cell_type": "code",
   "execution_count": null,
   "id": "03903d81",
   "metadata": {},
   "outputs": [],
   "source": [
    "# Merge all features into one column\n",
    "content_movies_df['features'] = (pd.Series(content_movies_df[['genres', 'title_cast', 'plot_keywords', 'director']]\n",
    "                                                              .fillna('').values.tolist()).str.join('|'))\n",
    "content_movies_df['features'] = content_movies_df['features'].str.strip('|')\n",
    "display(content_movies_df.head())"
   ]
  },
  {
   "cell_type": "code",
   "execution_count": null,
   "id": "eb9edd5e",
   "metadata": {},
   "outputs": [],
   "source": []
  },
  {
   "cell_type": "markdown",
   "id": "49a15637",
   "metadata": {},
   "source": [
    "### Content-based Filtering Rating Prediction\n",
    "The pre-process:\n",
    "\n",
    "1. Find all the movies our users of interest have rated\n",
    "2.Create a dataframe of the available features of those movies and those we need to rate\n",
    "3.Vectorize the features and create similarity matrix"
   ]
  },
  {
   "cell_type": "code",
   "execution_count": null,
   "id": "fa030aee",
   "metadata": {},
   "outputs": [],
   "source": []
  },
  {
   "cell_type": "code",
   "execution_count": null,
   "id": "4c14c9b5",
   "metadata": {},
   "outputs": [],
   "source": []
  },
  {
   "cell_type": "code",
   "execution_count": null,
   "id": "1700a24f",
   "metadata": {},
   "outputs": [],
   "source": []
  },
  {
   "cell_type": "markdown",
   "id": "a3b6bc49",
   "metadata": {},
   "source": []
  },
  {
   "cell_type": "markdown",
   "id": "9fc1e57d",
   "metadata": {},
   "source": [
    "### The Heterogeneous Approach to Hybrid Recommendation"
   ]
  },
  {
   "cell_type": "code",
   "execution_count": null,
   "id": "bcd17a81",
   "metadata": {},
   "outputs": [],
   "source": [
    "# Subset our test dataframe for rows deom the unknown indices\n",
    "test = df_test.merge(movies_df[['movieId', 'title']], on = 'movieId', how='left')\n",
    "test_for_content_based = test.iloc[unknowns].copy()\n",
    "display(test_for_content_based.head())\n",
    "print(test_for_content_based.shape)"
   ]
  },
  {
   "cell_type": "markdown",
   "id": "193733cf",
   "metadata": {},
   "source": [
    "Note:\n",
    "After multiple attempts to predict on the full 6451 rows above, we have not been able to find a feasible method that results in a reasonable prediction exectution time. The prediction function call runs for 6+ hours and we were not able to find datatypes or methods that decrease this time and give us a good amount of predictions to use. Our algorithm will need more work.\n",
    "We therefore subset the dataframe for n rows and predict only on that."
   ]
  },
  {
   "cell_type": "code",
   "execution_count": null,
   "id": "516baf54",
   "metadata": {},
   "outputs": [],
   "source": []
  },
  {
   "cell_type": "code",
   "execution_count": null,
   "id": "3e3ff0af",
   "metadata": {},
   "outputs": [],
   "source": []
  },
  {
   "cell_type": "code",
   "execution_count": null,
   "id": "90e3273f",
   "metadata": {},
   "outputs": [],
   "source": []
  },
  {
   "cell_type": "code",
   "execution_count": null,
   "id": "bb116686",
   "metadata": {},
   "outputs": [],
   "source": []
  },
  {
   "cell_type": "code",
   "execution_count": null,
   "id": "f1cddb8c",
   "metadata": {},
   "outputs": [],
   "source": []
  },
  {
   "cell_type": "code",
   "execution_count": null,
   "id": "2aeee4f1",
   "metadata": {},
   "outputs": [],
   "source": []
  },
  {
   "cell_type": "markdown",
   "id": "2392d23a",
   "metadata": {},
   "source": [
    "### The Homogeneuos Approach to Hybrid Recommendation\n",
    "The LibRecommender package has a few recommendation models that allows you to pass it data with feature and rating columns. These algorithms will use content-based-filtering and and collaborative model-based filtering to aggregate the prediction of each fitering type and return a single prediction.\n",
    "\n",
    "We need to prepare the data for our librecommender model. Here we use the genre_encode and cast encode dataframe, merge it to our train dataframe and pass it to the final preprocessing stage done by the librecommender dataset functions, which will return a train, test and validation split for the models to use."
   ]
  },
  {
   "cell_type": "code",
   "execution_count": 53,
   "id": "b73bea4b",
   "metadata": {},
   "outputs": [
    {
     "name": "stdout",
     "output_type": "stream",
     "text": [
      "Wall time: 1min 24s\n"
     ]
    },
    {
     "data": {
      "text/html": [
       "<div>\n",
       "<style scoped>\n",
       "    .dataframe tbody tr th:only-of-type {\n",
       "        vertical-align: middle;\n",
       "    }\n",
       "\n",
       "    .dataframe tbody tr th {\n",
       "        vertical-align: top;\n",
       "    }\n",
       "\n",
       "    .dataframe thead th {\n",
       "        text-align: right;\n",
       "    }\n",
       "</style>\n",
       "<table border=\"1\" class=\"dataframe\">\n",
       "  <thead>\n",
       "    <tr style=\"text-align: right;\">\n",
       "      <th></th>\n",
       "      <th>movieId</th>\n",
       "      <th>Adventure</th>\n",
       "      <th>Animation</th>\n",
       "      <th>Children</th>\n",
       "      <th>Comedy</th>\n",
       "      <th>Fantasy</th>\n",
       "      <th>Romance</th>\n",
       "      <th>Drama</th>\n",
       "      <th>Action</th>\n",
       "      <th>Crime</th>\n",
       "      <th>...</th>\n",
       "      <th>Horror</th>\n",
       "      <th>Mystery</th>\n",
       "      <th>Sci-Fi</th>\n",
       "      <th>IMAX</th>\n",
       "      <th>Documentary</th>\n",
       "      <th>War</th>\n",
       "      <th>Musical</th>\n",
       "      <th>Western</th>\n",
       "      <th>Film-Noir</th>\n",
       "      <th>(no genres listed)</th>\n",
       "    </tr>\n",
       "  </thead>\n",
       "  <tbody>\n",
       "    <tr>\n",
       "      <th>0</th>\n",
       "      <td>1</td>\n",
       "      <td>1</td>\n",
       "      <td>1</td>\n",
       "      <td>1</td>\n",
       "      <td>1</td>\n",
       "      <td>1</td>\n",
       "      <td>NaN</td>\n",
       "      <td>NaN</td>\n",
       "      <td>NaN</td>\n",
       "      <td>NaN</td>\n",
       "      <td>...</td>\n",
       "      <td>NaN</td>\n",
       "      <td>NaN</td>\n",
       "      <td>NaN</td>\n",
       "      <td>NaN</td>\n",
       "      <td>NaN</td>\n",
       "      <td>NaN</td>\n",
       "      <td>NaN</td>\n",
       "      <td>NaN</td>\n",
       "      <td>NaN</td>\n",
       "      <td>NaN</td>\n",
       "    </tr>\n",
       "    <tr>\n",
       "      <th>1</th>\n",
       "      <td>2</td>\n",
       "      <td>1</td>\n",
       "      <td>NaN</td>\n",
       "      <td>1</td>\n",
       "      <td>NaN</td>\n",
       "      <td>1</td>\n",
       "      <td>NaN</td>\n",
       "      <td>NaN</td>\n",
       "      <td>NaN</td>\n",
       "      <td>NaN</td>\n",
       "      <td>...</td>\n",
       "      <td>NaN</td>\n",
       "      <td>NaN</td>\n",
       "      <td>NaN</td>\n",
       "      <td>NaN</td>\n",
       "      <td>NaN</td>\n",
       "      <td>NaN</td>\n",
       "      <td>NaN</td>\n",
       "      <td>NaN</td>\n",
       "      <td>NaN</td>\n",
       "      <td>NaN</td>\n",
       "    </tr>\n",
       "    <tr>\n",
       "      <th>2</th>\n",
       "      <td>3</td>\n",
       "      <td>NaN</td>\n",
       "      <td>NaN</td>\n",
       "      <td>NaN</td>\n",
       "      <td>1</td>\n",
       "      <td>NaN</td>\n",
       "      <td>1</td>\n",
       "      <td>NaN</td>\n",
       "      <td>NaN</td>\n",
       "      <td>NaN</td>\n",
       "      <td>...</td>\n",
       "      <td>NaN</td>\n",
       "      <td>NaN</td>\n",
       "      <td>NaN</td>\n",
       "      <td>NaN</td>\n",
       "      <td>NaN</td>\n",
       "      <td>NaN</td>\n",
       "      <td>NaN</td>\n",
       "      <td>NaN</td>\n",
       "      <td>NaN</td>\n",
       "      <td>NaN</td>\n",
       "    </tr>\n",
       "    <tr>\n",
       "      <th>3</th>\n",
       "      <td>4</td>\n",
       "      <td>NaN</td>\n",
       "      <td>NaN</td>\n",
       "      <td>NaN</td>\n",
       "      <td>1</td>\n",
       "      <td>NaN</td>\n",
       "      <td>1</td>\n",
       "      <td>1</td>\n",
       "      <td>NaN</td>\n",
       "      <td>NaN</td>\n",
       "      <td>...</td>\n",
       "      <td>NaN</td>\n",
       "      <td>NaN</td>\n",
       "      <td>NaN</td>\n",
       "      <td>NaN</td>\n",
       "      <td>NaN</td>\n",
       "      <td>NaN</td>\n",
       "      <td>NaN</td>\n",
       "      <td>NaN</td>\n",
       "      <td>NaN</td>\n",
       "      <td>NaN</td>\n",
       "    </tr>\n",
       "  </tbody>\n",
       "</table>\n",
       "<p>4 rows × 21 columns</p>\n",
       "</div>"
      ],
      "text/plain": [
       "   movieId Adventure Animation Children Comedy Fantasy Romance Drama Action  \\\n",
       "0        1         1         1        1      1       1     NaN   NaN    NaN   \n",
       "1        2         1       NaN        1    NaN       1     NaN   NaN    NaN   \n",
       "2        3       NaN       NaN      NaN      1     NaN       1   NaN    NaN   \n",
       "3        4       NaN       NaN      NaN      1     NaN       1     1    NaN   \n",
       "\n",
       "  Crime  ... Horror Mystery Sci-Fi IMAX Documentary  War Musical Western  \\\n",
       "0   NaN  ...    NaN     NaN    NaN  NaN         NaN  NaN     NaN     NaN   \n",
       "1   NaN  ...    NaN     NaN    NaN  NaN         NaN  NaN     NaN     NaN   \n",
       "2   NaN  ...    NaN     NaN    NaN  NaN         NaN  NaN     NaN     NaN   \n",
       "3   NaN  ...    NaN     NaN    NaN  NaN         NaN  NaN     NaN     NaN   \n",
       "\n",
       "  Film-Noir (no genres listed)  \n",
       "0       NaN                NaN  \n",
       "1       NaN                NaN  \n",
       "2       NaN                NaN  \n",
       "3       NaN                NaN  \n",
       "\n",
       "[4 rows x 21 columns]"
      ]
     },
     "execution_count": 53,
     "metadata": {},
     "output_type": "execute_result"
    }
   ],
   "source": [
    "%%time\n",
    "movies_genres = pd.DataFrame(movies_df[['movieId', 'genres']],\n",
    "                             columns=['movieId', 'genres'])\n",
    "\n",
    "# Split genres seperated by \"|\" and create a list containing the genres allocated to each movie\n",
    "movies_genres.genres = movies_genres.genres.apply(lambda x: x.split('|'))\n",
    "genres = ['Adventure', 'Animation', 'Children', 'Comedy', 'Fantasy',\n",
    "          'Romance', 'Drama', 'Action', 'Crime', 'Thriller', 'Horror',\n",
    "          'Mystery', 'Sci-Fi', 'IMAX', 'Documentary', 'War', 'Musical',\n",
    "          'Western', 'Film-Noir', '(no genres listed)']\n",
    "\n",
    "genre_encode = create_features(movies_genres, 'genres', genres)\n",
    "genre_encode.head(4)"
   ]
  },
  {
   "cell_type": "code",
   "execution_count": 54,
   "id": "9ff4ec34",
   "metadata": {},
   "outputs": [
    {
     "name": "stdout",
     "output_type": "stream",
     "text": [
      "Wall time: 9.12 s\n"
     ]
    },
    {
     "data": {
      "text/html": [
       "<div>\n",
       "<style scoped>\n",
       "    .dataframe tbody tr th:only-of-type {\n",
       "        vertical-align: middle;\n",
       "    }\n",
       "\n",
       "    .dataframe tbody tr th {\n",
       "        vertical-align: top;\n",
       "    }\n",
       "\n",
       "    .dataframe thead th {\n",
       "        text-align: right;\n",
       "    }\n",
       "</style>\n",
       "<table border=\"1\" class=\"dataframe\">\n",
       "  <thead>\n",
       "    <tr style=\"text-align: right;\">\n",
       "      <th></th>\n",
       "      <th>movieId</th>\n",
       "      <th>Samuel L. Jackson</th>\n",
       "      <th>Steve Buscemi</th>\n",
       "      <th>Keith David</th>\n",
       "      <th>Willem Dafoe</th>\n",
       "      <th>Robert De Niro</th>\n",
       "      <th>Christopher Walken</th>\n",
       "      <th>Gérard Depardieu</th>\n",
       "      <th>Brian Cox</th>\n",
       "      <th>Bruce Willis</th>\n",
       "      <th>Morgan Freeman</th>\n",
       "      <th>Danny Glover</th>\n",
       "      <th>Alec Baldwin</th>\n",
       "      <th>Peter Stormare</th>\n",
       "      <th>Nicolas Cage</th>\n",
       "      <th>Julianne Moore</th>\n",
       "    </tr>\n",
       "  </thead>\n",
       "  <tbody>\n",
       "    <tr>\n",
       "      <th>0</th>\n",
       "      <td>1</td>\n",
       "      <td>NaN</td>\n",
       "      <td>NaN</td>\n",
       "      <td>NaN</td>\n",
       "      <td>NaN</td>\n",
       "      <td>NaN</td>\n",
       "      <td>NaN</td>\n",
       "      <td>NaN</td>\n",
       "      <td>NaN</td>\n",
       "      <td>NaN</td>\n",
       "      <td>NaN</td>\n",
       "      <td>NaN</td>\n",
       "      <td>NaN</td>\n",
       "      <td>NaN</td>\n",
       "      <td>NaN</td>\n",
       "      <td>NaN</td>\n",
       "    </tr>\n",
       "    <tr>\n",
       "      <th>1</th>\n",
       "      <td>2</td>\n",
       "      <td>NaN</td>\n",
       "      <td>NaN</td>\n",
       "      <td>NaN</td>\n",
       "      <td>NaN</td>\n",
       "      <td>NaN</td>\n",
       "      <td>NaN</td>\n",
       "      <td>NaN</td>\n",
       "      <td>NaN</td>\n",
       "      <td>NaN</td>\n",
       "      <td>NaN</td>\n",
       "      <td>NaN</td>\n",
       "      <td>NaN</td>\n",
       "      <td>NaN</td>\n",
       "      <td>NaN</td>\n",
       "      <td>NaN</td>\n",
       "    </tr>\n",
       "    <tr>\n",
       "      <th>2</th>\n",
       "      <td>3</td>\n",
       "      <td>NaN</td>\n",
       "      <td>NaN</td>\n",
       "      <td>NaN</td>\n",
       "      <td>NaN</td>\n",
       "      <td>NaN</td>\n",
       "      <td>NaN</td>\n",
       "      <td>NaN</td>\n",
       "      <td>NaN</td>\n",
       "      <td>NaN</td>\n",
       "      <td>NaN</td>\n",
       "      <td>NaN</td>\n",
       "      <td>NaN</td>\n",
       "      <td>NaN</td>\n",
       "      <td>NaN</td>\n",
       "      <td>NaN</td>\n",
       "    </tr>\n",
       "    <tr>\n",
       "      <th>3</th>\n",
       "      <td>4</td>\n",
       "      <td>NaN</td>\n",
       "      <td>NaN</td>\n",
       "      <td>NaN</td>\n",
       "      <td>NaN</td>\n",
       "      <td>NaN</td>\n",
       "      <td>NaN</td>\n",
       "      <td>NaN</td>\n",
       "      <td>NaN</td>\n",
       "      <td>NaN</td>\n",
       "      <td>NaN</td>\n",
       "      <td>NaN</td>\n",
       "      <td>NaN</td>\n",
       "      <td>NaN</td>\n",
       "      <td>NaN</td>\n",
       "      <td>NaN</td>\n",
       "    </tr>\n",
       "  </tbody>\n",
       "</table>\n",
       "</div>"
      ],
      "text/plain": [
       "   movieId Samuel L. Jackson Steve Buscemi Keith David Willem Dafoe  \\\n",
       "0        1               NaN           NaN         NaN          NaN   \n",
       "1        2               NaN           NaN         NaN          NaN   \n",
       "2        3               NaN           NaN         NaN          NaN   \n",
       "3        4               NaN           NaN         NaN          NaN   \n",
       "\n",
       "  Robert De Niro Christopher Walken Gérard Depardieu Brian Cox Bruce Willis  \\\n",
       "0            NaN                NaN              NaN       NaN          NaN   \n",
       "1            NaN                NaN              NaN       NaN          NaN   \n",
       "2            NaN                NaN              NaN       NaN          NaN   \n",
       "3            NaN                NaN              NaN       NaN          NaN   \n",
       "\n",
       "  Morgan Freeman Danny Glover Alec Baldwin Peter Stormare Nicolas Cage  \\\n",
       "0            NaN          NaN          NaN            NaN          NaN   \n",
       "1            NaN          NaN          NaN            NaN          NaN   \n",
       "2            NaN          NaN          NaN            NaN          NaN   \n",
       "3            NaN          NaN          NaN            NaN          NaN   \n",
       "\n",
       "  Julianne Moore  \n",
       "0            NaN  \n",
       "1            NaN  \n",
       "2            NaN  \n",
       "3            NaN  "
      ]
     },
     "execution_count": 54,
     "metadata": {},
     "output_type": "execute_result"
    }
   ],
   "source": [
    "%%time\n",
    "cast = pd.DataFrame(imdb_data_df[['movieId', 'title_cast']],\n",
    "                    columns=['movieId', 'title_cast'])\n",
    "\n",
    "# Split title_cast seperated by \"|\" and create a list containing the cast members in each movie\n",
    "cast.title_cast = cast.title_cast.astype(str).apply(lambda x: x.split('|'))\n",
    "cast_movie = pd.DataFrame([(tup.movieId, d) for tup in cast.itertuples() for d in tup.title_cast],\n",
    "                          columns=['movieId', 'title_cast'])\n",
    "mostc_cast = cast_movie['title_cast'].value_counts(\n",
    "    ascending=False).index.tolist()[:16]\n",
    "\n",
    "cast_encode = create_features(cast, 'title_cast', mostc_cast[1:])\n",
    "cast_encode.head(4)"
   ]
  },
  {
   "cell_type": "code",
   "execution_count": 55,
   "id": "6154ea00",
   "metadata": {},
   "outputs": [
    {
     "name": "stdout",
     "output_type": "stream",
     "text": [
      "Wall time: 22.4 s\n"
     ]
    }
   ],
   "source": [
    "%%time\n",
    "\"\"\" Creating more features from genre and cast\"\"\"\n",
    "\n",
    "mergeded_train = df_train.copy()\n",
    "mergeded_train = pd.merge(mergeded_train, genre_encode,\n",
    "                          on='movieId', how='left')\n",
    "mergeded_train = pd.merge(mergeded_train, cast_encode,\n",
    "                          on='movieId', how='left')"
   ]
  },
  {
   "cell_type": "code",
   "execution_count": null,
   "id": "f08cff53",
   "metadata": {},
   "outputs": [],
   "source": []
  },
  {
   "cell_type": "code",
   "execution_count": 56,
   "id": "19b93362",
   "metadata": {},
   "outputs": [],
   "source": [
    "gc.collect()\n",
    "del genre_encode, cast_encode\n",
    "sleep(10)"
   ]
  },
  {
   "cell_type": "code",
   "execution_count": 57,
   "id": "075fe2b9",
   "metadata": {},
   "outputs": [
    {
     "data": {
      "text/html": [
       "<div>\n",
       "<style scoped>\n",
       "    .dataframe tbody tr th:only-of-type {\n",
       "        vertical-align: middle;\n",
       "    }\n",
       "\n",
       "    .dataframe tbody tr th {\n",
       "        vertical-align: top;\n",
       "    }\n",
       "\n",
       "    .dataframe thead th {\n",
       "        text-align: right;\n",
       "    }\n",
       "</style>\n",
       "<table border=\"1\" class=\"dataframe\">\n",
       "  <thead>\n",
       "    <tr style=\"text-align: right;\">\n",
       "      <th></th>\n",
       "      <th>userId</th>\n",
       "      <th>movieId</th>\n",
       "      <th>rating</th>\n",
       "      <th>timestamp</th>\n",
       "      <th>Adventure</th>\n",
       "      <th>Animation</th>\n",
       "      <th>Children</th>\n",
       "      <th>Comedy</th>\n",
       "      <th>Fantasy</th>\n",
       "      <th>Romance</th>\n",
       "      <th>...</th>\n",
       "      <th>Brian Cox</th>\n",
       "      <th>Bruce Willis</th>\n",
       "      <th>Morgan Freeman</th>\n",
       "      <th>Danny Glover</th>\n",
       "      <th>Alec Baldwin</th>\n",
       "      <th>Peter Stormare</th>\n",
       "      <th>Nicolas Cage</th>\n",
       "      <th>Julianne Moore</th>\n",
       "      <th>runtime</th>\n",
       "      <th>budget</th>\n",
       "    </tr>\n",
       "  </thead>\n",
       "  <tbody>\n",
       "    <tr>\n",
       "      <th>0</th>\n",
       "      <td>5163</td>\n",
       "      <td>57669</td>\n",
       "      <td>4.0</td>\n",
       "      <td>1518349992</td>\n",
       "      <td>0</td>\n",
       "      <td>0</td>\n",
       "      <td>0</td>\n",
       "      <td>1</td>\n",
       "      <td>0</td>\n",
       "      <td>0</td>\n",
       "      <td>...</td>\n",
       "      <td>0</td>\n",
       "      <td>0</td>\n",
       "      <td>0</td>\n",
       "      <td>0</td>\n",
       "      <td>0</td>\n",
       "      <td>0</td>\n",
       "      <td>0</td>\n",
       "      <td>0</td>\n",
       "      <td>107.0</td>\n",
       "      <td>15000000</td>\n",
       "    </tr>\n",
       "    <tr>\n",
       "      <th>1</th>\n",
       "      <td>87388</td>\n",
       "      <td>57669</td>\n",
       "      <td>3.5</td>\n",
       "      <td>1237455297</td>\n",
       "      <td>0</td>\n",
       "      <td>0</td>\n",
       "      <td>0</td>\n",
       "      <td>1</td>\n",
       "      <td>0</td>\n",
       "      <td>0</td>\n",
       "      <td>...</td>\n",
       "      <td>0</td>\n",
       "      <td>0</td>\n",
       "      <td>0</td>\n",
       "      <td>0</td>\n",
       "      <td>0</td>\n",
       "      <td>0</td>\n",
       "      <td>0</td>\n",
       "      <td>0</td>\n",
       "      <td>107.0</td>\n",
       "      <td>15000000</td>\n",
       "    </tr>\n",
       "    <tr>\n",
       "      <th>2</th>\n",
       "      <td>137050</td>\n",
       "      <td>57669</td>\n",
       "      <td>4.0</td>\n",
       "      <td>1425631854</td>\n",
       "      <td>0</td>\n",
       "      <td>0</td>\n",
       "      <td>0</td>\n",
       "      <td>1</td>\n",
       "      <td>0</td>\n",
       "      <td>0</td>\n",
       "      <td>...</td>\n",
       "      <td>0</td>\n",
       "      <td>0</td>\n",
       "      <td>0</td>\n",
       "      <td>0</td>\n",
       "      <td>0</td>\n",
       "      <td>0</td>\n",
       "      <td>0</td>\n",
       "      <td>0</td>\n",
       "      <td>107.0</td>\n",
       "      <td>15000000</td>\n",
       "    </tr>\n",
       "    <tr>\n",
       "      <th>3</th>\n",
       "      <td>120490</td>\n",
       "      <td>57669</td>\n",
       "      <td>4.5</td>\n",
       "      <td>1408228517</td>\n",
       "      <td>0</td>\n",
       "      <td>0</td>\n",
       "      <td>0</td>\n",
       "      <td>1</td>\n",
       "      <td>0</td>\n",
       "      <td>0</td>\n",
       "      <td>...</td>\n",
       "      <td>0</td>\n",
       "      <td>0</td>\n",
       "      <td>0</td>\n",
       "      <td>0</td>\n",
       "      <td>0</td>\n",
       "      <td>0</td>\n",
       "      <td>0</td>\n",
       "      <td>0</td>\n",
       "      <td>107.0</td>\n",
       "      <td>15000000</td>\n",
       "    </tr>\n",
       "    <tr>\n",
       "      <th>4</th>\n",
       "      <td>50616</td>\n",
       "      <td>57669</td>\n",
       "      <td>4.5</td>\n",
       "      <td>1446941640</td>\n",
       "      <td>0</td>\n",
       "      <td>0</td>\n",
       "      <td>0</td>\n",
       "      <td>1</td>\n",
       "      <td>0</td>\n",
       "      <td>0</td>\n",
       "      <td>...</td>\n",
       "      <td>0</td>\n",
       "      <td>0</td>\n",
       "      <td>0</td>\n",
       "      <td>0</td>\n",
       "      <td>0</td>\n",
       "      <td>0</td>\n",
       "      <td>0</td>\n",
       "      <td>0</td>\n",
       "      <td>107.0</td>\n",
       "      <td>15000000</td>\n",
       "    </tr>\n",
       "  </tbody>\n",
       "</table>\n",
       "<p>5 rows × 41 columns</p>\n",
       "</div>"
      ],
      "text/plain": [
       "   userId  movieId  rating   timestamp  Adventure  Animation  Children  \\\n",
       "0    5163    57669     4.0  1518349992          0          0         0   \n",
       "1   87388    57669     3.5  1237455297          0          0         0   \n",
       "2  137050    57669     4.0  1425631854          0          0         0   \n",
       "3  120490    57669     4.5  1408228517          0          0         0   \n",
       "4   50616    57669     4.5  1446941640          0          0         0   \n",
       "\n",
       "   Comedy  Fantasy  Romance  ...  Brian Cox  Bruce Willis  Morgan Freeman  \\\n",
       "0       1        0        0  ...          0             0               0   \n",
       "1       1        0        0  ...          0             0               0   \n",
       "2       1        0        0  ...          0             0               0   \n",
       "3       1        0        0  ...          0             0               0   \n",
       "4       1        0        0  ...          0             0               0   \n",
       "\n",
       "   Danny Glover  Alec Baldwin  Peter Stormare  Nicolas Cage  Julianne Moore  \\\n",
       "0             0             0               0             0               0   \n",
       "1             0             0               0             0               0   \n",
       "2             0             0               0             0               0   \n",
       "3             0             0               0             0               0   \n",
       "4             0             0               0             0               0   \n",
       "\n",
       "   runtime    budget  \n",
       "0    107.0  15000000  \n",
       "1    107.0  15000000  \n",
       "2    107.0  15000000  \n",
       "3    107.0  15000000  \n",
       "4    107.0  15000000  \n",
       "\n",
       "[5 rows x 41 columns]"
      ]
     },
     "metadata": {},
     "output_type": "display_data"
    },
    {
     "name": "stdout",
     "output_type": "stream",
     "text": [
      "(9549434, 41)\n",
      "Wall time: 2min 37s\n"
     ]
    }
   ],
   "source": [
    "%%time\n",
    "mergeded_train = pd.merge(mergeded_train, imdb_data_df[['movieId', 'runtime',\n",
    "                                                   'budget']], on='movieId').fillna(0)\n",
    "display(mergeded_train.head())\n",
    "print(mergeded_train.shape)"
   ]
  },
  {
   "cell_type": "code",
   "execution_count": 58,
   "id": "817426d6",
   "metadata": {},
   "outputs": [
    {
     "name": "stdout",
     "output_type": "stream",
     "text": [
      "['Adventure', 'Animation', 'Children', 'Comedy', 'Fantasy', 'Romance', 'Drama', 'Action', 'Crime', 'Thriller', 'Horror', 'Mystery', 'Sci-Fi', 'IMAX', 'Documentary', 'War', 'Musical', 'Western', 'Film-Noir', '(no genres listed)', 'Samuel L. Jackson', 'Steve Buscemi', 'Keith David', 'Willem Dafoe', 'Robert De Niro', 'Christopher Walken', 'Gérard Depardieu', 'Brian Cox', 'Bruce Willis', 'Morgan Freeman', 'Danny Glover', 'Alec Baldwin', 'Peter Stormare', 'Nicolas Cage', 'Julianne Moore', 'runtime', 'budget']\n"
     ]
    }
   ],
   "source": [
    "columns = list(mergeded_train.columns)\n",
    "print(columns[4:])"
   ]
  },
  {
   "cell_type": "code",
   "execution_count": 59,
   "id": "e52a0a7d",
   "metadata": {},
   "outputs": [
    {
     "name": "stdout",
     "output_type": "stream",
     "text": [
      "n_users: 160815, n_items: 11637, data sparsity: 0.5052 %\n",
      "Wall time: 2min 5s\n"
     ]
    }
   ],
   "source": [
    "%%time\n",
    "#mergeded_train = pd.read_csv('./train_feat.csv')\n",
    "mergeded_train.rename(columns={'userId': 'user', 'movieId': 'item', 'rating': 'label',\n",
    "                               'timestamp': 'time'}, inplace=True)\n",
    "\n",
    "columns = list(mergeded_train.columns)\n",
    "# We have to specify which columns are the content based features\n",
    "sparse_col = columns[4:]\n",
    "item_col = columns[4:]\n",
    "\n",
    "# split whole data into three folds for training, evaluating and testing\n",
    "train_data, eval_data, test_data = random_split(\n",
    "    mergeded_train, multi_ratios=[0.99, 0.005, 0.005])\n",
    "\n",
    "\n",
    "train_data, data_info = DatasetFeat.build_trainset(train_data, item_col=item_col,\n",
    "                                                   sparse_col=sparse_col)\n",
    "eval_data = DatasetFeat.build_evalset(eval_data)\n",
    "test_data = DatasetFeat.build_testset(test_data)\n",
    "print(data_info)"
   ]
  },
  {
   "cell_type": "code",
   "execution_count": 60,
   "id": "38a01feb",
   "metadata": {},
   "outputs": [],
   "source": [
    "gc.collect()\n",
    "del mergeded_train, columns, sparse_col, item_col\n",
    "sleep(10)"
   ]
  },
  {
   "cell_type": "code",
   "execution_count": null,
   "id": "bd28f77a",
   "metadata": {},
   "outputs": [],
   "source": []
  },
  {
   "cell_type": "markdown",
   "id": "6ea0042d",
   "metadata": {},
   "source": [
    "### The Hybrid Models\n",
    "FM\n",
    "\n",
    "Factorization Machines (FM) which are a new model class that combines the advantages of Support Vector Machines (SVM) with factorization models. Like SVMs, FMs are a general predictor working with any real valued feature vector."
   ]
  },
  {
   "cell_type": "code",
   "execution_count": 61,
   "id": "b82e1304",
   "metadata": {},
   "outputs": [
    {
     "name": "stdout",
     "output_type": "stream",
     "text": [
      "\n",
      " ============================== FM ==============================\n",
      "Training start time: \u001b[35m2022-02-03 18:10:34\u001b[0m\n",
      "total params: \u001b[33m2,945,220\u001b[0m | embedding params: \u001b[33m2,945,133\u001b[0m | network params: \u001b[33m87\u001b[0m\n",
      "With lr_decay, epoch 1 learning rate: 0.004999999888241291\n"
     ]
    },
    {
     "name": "stderr",
     "output_type": "stream",
     "text": [
      "train: 100%|██████████| 946/946 [01:15<00:00, 12.60it/s]\n",
      "eval_pred:   0%|          | 0/6 [00:00<?, ?it/s]"
     ]
    },
    {
     "name": "stdout",
     "output_type": "stream",
     "text": [
      "Epoch 1 elapsed: 79.574s\n",
      "\t \u001b[32mtrain_loss: 0.9845\u001b[0m\n"
     ]
    },
    {
     "name": "stderr",
     "output_type": "stream",
     "text": [
      "eval_pred: 100%|██████████| 6/6 [00:00<00:00, 11.73it/s]\n"
     ]
    },
    {
     "name": "stdout",
     "output_type": "stream",
     "text": [
      "\t eval rmse: 0.8620\n",
      "\t eval mae: 0.6554\n",
      "\t eval r2: 0.3355\n",
      "==============================\n",
      "With lr_decay, epoch 2 learning rate: 0.004799999762326479\n"
     ]
    },
    {
     "name": "stderr",
     "output_type": "stream",
     "text": [
      "train: 100%|██████████| 946/946 [01:15<00:00, 12.60it/s]\n",
      "eval_pred: 100%|██████████| 6/6 [00:00<00:00, 37.39it/s]\n"
     ]
    },
    {
     "name": "stdout",
     "output_type": "stream",
     "text": [
      "Epoch 2 elapsed: 82.420s\n",
      "\t \u001b[32mtrain_loss: 0.704\u001b[0m\n",
      "\t eval rmse: 0.8422\n",
      "\t eval mae: 0.6541\n",
      "\t eval r2: 0.3657\n",
      "==============================\n",
      "With lr_decay, epoch 3 learning rate: 0.004607999697327614\n"
     ]
    },
    {
     "name": "stderr",
     "output_type": "stream",
     "text": [
      "train: 100%|██████████| 946/946 [01:13<00:00, 12.85it/s]\n",
      "eval_pred: 100%|██████████| 6/6 [00:00<00:00, 45.80it/s]\n"
     ]
    },
    {
     "name": "stdout",
     "output_type": "stream",
     "text": [
      "Epoch 3 elapsed: 78.813s\n",
      "\t \u001b[32mtrain_loss: 0.6567\u001b[0m\n",
      "\t eval rmse: 0.8232\n",
      "\t eval mae: 0.6309\n",
      "\t eval r2: 0.3940\n",
      "==============================\n",
      "With lr_decay, epoch 4 learning rate: 0.004423679783940315\n"
     ]
    },
    {
     "name": "stderr",
     "output_type": "stream",
     "text": [
      "train: 100%|██████████| 946/946 [01:13<00:00, 12.94it/s]\n",
      "eval_pred: 100%|██████████| 6/6 [00:00<00:00, 45.78it/s]\n"
     ]
    },
    {
     "name": "stdout",
     "output_type": "stream",
     "text": [
      "Epoch 4 elapsed: 77.202s\n",
      "\t \u001b[32mtrain_loss: 0.6255\u001b[0m\n",
      "\t eval rmse: 0.8131\n",
      "\t eval mae: 0.6166\n",
      "\t eval r2: 0.4088\n",
      "==============================\n",
      "With lr_decay, epoch 5 learning rate: 0.004246732220053673\n"
     ]
    },
    {
     "name": "stderr",
     "output_type": "stream",
     "text": [
      "train: 100%|██████████| 946/946 [01:10<00:00, 13.33it/s]\n",
      "eval_pred: 100%|██████████| 6/6 [00:00<00:00, 45.40it/s]\n"
     ]
    },
    {
     "name": "stdout",
     "output_type": "stream",
     "text": [
      "Epoch 5 elapsed: 74.996s\n",
      "\t \u001b[32mtrain_loss: 0.6037\u001b[0m\n",
      "\t eval rmse: 0.8082\n",
      "\t eval mae: 0.6156\n",
      "\t eval r2: 0.4159\n",
      "==============================\n"
     ]
    },
    {
     "name": "stderr",
     "output_type": "stream",
     "text": [
      "eval_pred: 100%|██████████| 6/6 [00:00<00:00, 44.44it/s]\n"
     ]
    },
    {
     "name": "stdout",
     "output_type": "stream",
     "text": [
      "evaluate_result:  {'rmse': 0.8120188187532528, 'mae': 0.6198853576309149}\n",
      "Wall time: 6min 36s\n"
     ]
    }
   ],
   "source": [
    "%%time\n",
    "reset_state(\"FM\")\n",
    "fm = FM(\"rating\", data_info, embed_size=16, n_epochs=5,\n",
    "        lr=0.005, lr_decay=True, reg=0.000001, batch_size=10000,\n",
    "        num_neg=1, use_bn=True, dropout_rate=None, tf_sess_config=None)\n",
    "fm.fit(train_data, verbose=2, shuffle=True, eval_data=eval_data,\n",
    "       metrics=[\"rmse\", \"mae\", \"r2\"])\n",
    "\n",
    "# do final evaluation on test data\n",
    "print(\"evaluate_result: \", evaluate(model=fm, data=test_data,\n",
    "                                    metrics=[\"rmse\", \"mae\"]))"
   ]
  },
  {
   "cell_type": "markdown",
   "id": "d8283396",
   "metadata": {},
   "source": [
    "The FM model took 3.5 min and 5 epochs to get a test RMSE of 0.8083. Now let's see it's predictions."
   ]
  },
  {
   "cell_type": "code",
   "execution_count": 62,
   "id": "8389f8a7",
   "metadata": {},
   "outputs": [
    {
     "name": "stdout",
     "output_type": "stream",
     "text": [
      "prediction:  4.176363468170166\n",
      "User 5163 will be recommended:\n"
     ]
    },
    {
     "data": {
      "text/html": [
       "<div>\n",
       "<style scoped>\n",
       "    .dataframe tbody tr th:only-of-type {\n",
       "        vertical-align: middle;\n",
       "    }\n",
       "\n",
       "    .dataframe tbody tr th {\n",
       "        vertical-align: top;\n",
       "    }\n",
       "\n",
       "    .dataframe thead th {\n",
       "        text-align: right;\n",
       "    }\n",
       "</style>\n",
       "<table border=\"1\" class=\"dataframe\">\n",
       "  <thead>\n",
       "    <tr style=\"text-align: right;\">\n",
       "      <th></th>\n",
       "      <th>title</th>\n",
       "      <th>genres</th>\n",
       "      <th>rating</th>\n",
       "    </tr>\n",
       "    <tr>\n",
       "      <th>movieId</th>\n",
       "      <th></th>\n",
       "      <th></th>\n",
       "      <th></th>\n",
       "    </tr>\n",
       "  </thead>\n",
       "  <tbody>\n",
       "    <tr>\n",
       "      <th>296</th>\n",
       "      <td>Pulp Fiction (1994)</td>\n",
       "      <td>Comedy|Crime|Drama|Thriller</td>\n",
       "      <td>4.854991</td>\n",
       "    </tr>\n",
       "    <tr>\n",
       "      <th>858</th>\n",
       "      <td>Godfather, The (1972)</td>\n",
       "      <td>Crime|Drama</td>\n",
       "      <td>4.843022</td>\n",
       "    </tr>\n",
       "    <tr>\n",
       "      <th>1198</th>\n",
       "      <td>Raiders of the Lost Ark (Indiana Jones and the...</td>\n",
       "      <td>Action|Adventure</td>\n",
       "      <td>4.813151</td>\n",
       "    </tr>\n",
       "    <tr>\n",
       "      <th>1221</th>\n",
       "      <td>Godfather: Part II, The (1974)</td>\n",
       "      <td>Crime|Drama</td>\n",
       "      <td>4.730978</td>\n",
       "    </tr>\n",
       "    <tr>\n",
       "      <th>116951</th>\n",
       "      <td>Bo Burnham: what. (2013)</td>\n",
       "      <td>Comedy</td>\n",
       "      <td>4.698901</td>\n",
       "    </tr>\n",
       "  </tbody>\n",
       "</table>\n",
       "</div>"
      ],
      "text/plain": [
       "                                                     title  \\\n",
       "movieId                                                      \n",
       "296                                    Pulp Fiction (1994)   \n",
       "858                                  Godfather, The (1972)   \n",
       "1198     Raiders of the Lost Ark (Indiana Jones and the...   \n",
       "1221                        Godfather: Part II, The (1974)   \n",
       "116951                            Bo Burnham: what. (2013)   \n",
       "\n",
       "                              genres    rating  \n",
       "movieId                                         \n",
       "296      Comedy|Crime|Drama|Thriller  4.854991  \n",
       "858                      Crime|Drama  4.843022  \n",
       "1198                Action|Adventure  4.813151  \n",
       "1221                     Crime|Drama  4.730978  \n",
       "116951                        Comedy  4.698901  "
      ]
     },
     "metadata": {},
     "output_type": "display_data"
    }
   ],
   "source": [
    "prediction = fm.predict(user=5163, item=57669)\n",
    "recommendation = fm.recommend_user(user=5163, n_rec=5)\n",
    "print(\"prediction: \", prediction)\n",
    "\n",
    "rec = []\n",
    "ratings = []\n",
    "recommended_movies = movies_df.copy()\n",
    "\n",
    "for r in recommendation:\n",
    "    rec.append(r[0])\n",
    "    ratings.append(r[1])\n",
    "    \n",
    "recommended_movies = recommended_movies[recommended_movies['movieId'].isin(rec)].set_index('movieId').copy()\n",
    "recommended_movies['rating'] = ratings\n",
    "\n",
    "print('User 5163 will be recommended:')\n",
    "display(recommended_movies.sort_values('rating', ascending =False))"
   ]
  },
  {
   "cell_type": "code",
   "execution_count": 63,
   "id": "b3719bfe",
   "metadata": {},
   "outputs": [],
   "source": [
    "gc.collect()\n",
    "del fm\n",
    "sleep(10)"
   ]
  },
  {
   "cell_type": "code",
   "execution_count": null,
   "id": "476590cc",
   "metadata": {},
   "outputs": [],
   "source": []
  },
  {
   "cell_type": "markdown",
   "id": "9f501414",
   "metadata": {},
   "source": [
    "### Deep FM\n",
    "DeepFM: A Factorization-Machine based Neural Network for CTR Prediction. The proposed model, DeepFM, combines the power of factorization machines for recommendation and deep learning for feature learning in a new neural network architecture"
   ]
  },
  {
   "cell_type": "code",
   "execution_count": 64,
   "id": "5bc0ee93",
   "metadata": {},
   "outputs": [
    {
     "name": "stdout",
     "output_type": "stream",
     "text": [
      "\n",
      " ============================== DeepFM ==============================\n",
      "Training start time: \u001b[35m2022-02-03 18:17:23\u001b[0m\n",
      "total params: \u001b[33m3,036,229\u001b[0m | embedding params: \u001b[33m2,945,385\u001b[0m | network params: \u001b[33m90,844\u001b[0m\n",
      "With lr_decay, epoch 1 learning rate: 0.004999999888241291\n"
     ]
    },
    {
     "name": "stderr",
     "output_type": "stream",
     "text": [
      "train: 100%|██████████| 946/946 [01:54<00:00,  8.30it/s]\n",
      "eval_pred:  33%|███▎      | 2/6 [00:00<00:00, 20.00it/s]"
     ]
    },
    {
     "name": "stdout",
     "output_type": "stream",
     "text": [
      "Epoch 1 elapsed: 122.689s\n",
      "\t \u001b[32mtrain_loss: 0.835\u001b[0m\n"
     ]
    },
    {
     "name": "stderr",
     "output_type": "stream",
     "text": [
      "eval_pred: 100%|██████████| 6/6 [00:00<00:00, 26.00it/s]\n"
     ]
    },
    {
     "name": "stdout",
     "output_type": "stream",
     "text": [
      "\t eval rmse: 0.8464\n",
      "\t eval mae: 0.6407\n",
      "\t eval r2: 0.3593\n",
      "==============================\n",
      "With lr_decay, epoch 2 learning rate: 0.004799999762326479\n"
     ]
    },
    {
     "name": "stderr",
     "output_type": "stream",
     "text": [
      "train: 100%|██████████| 946/946 [01:54<00:00,  8.30it/s]\n",
      "eval_pred: 100%|██████████| 6/6 [00:00<00:00, 31.42it/s]"
     ]
    },
    {
     "name": "stdout",
     "output_type": "stream",
     "text": [
      "Epoch 2 elapsed: 119.012s\n",
      "\t \u001b[32mtrain_loss: 0.6798\u001b[0m\n"
     ]
    },
    {
     "name": "stderr",
     "output_type": "stream",
     "text": [
      "\n"
     ]
    },
    {
     "name": "stdout",
     "output_type": "stream",
     "text": [
      "\t eval rmse: 0.8196\n",
      "\t eval mae: 0.6219\n",
      "\t eval r2: 0.3992\n",
      "==============================\n",
      "With lr_decay, epoch 3 learning rate: 0.004607999697327614\n"
     ]
    },
    {
     "name": "stderr",
     "output_type": "stream",
     "text": [
      "train: 100%|██████████| 946/946 [01:57<00:00,  8.07it/s]\n",
      "eval_pred: 100%|██████████| 6/6 [00:00<00:00, 31.68it/s]"
     ]
    },
    {
     "name": "stdout",
     "output_type": "stream",
     "text": [
      "Epoch 3 elapsed: 121.227s\n",
      "\t \u001b[32mtrain_loss: 0.6294\u001b[0m\n"
     ]
    },
    {
     "name": "stderr",
     "output_type": "stream",
     "text": [
      "\n"
     ]
    },
    {
     "name": "stdout",
     "output_type": "stream",
     "text": [
      "\t eval rmse: 0.8082\n",
      "\t eval mae: 0.6139\n",
      "\t eval r2: 0.4158\n",
      "==============================\n"
     ]
    },
    {
     "name": "stderr",
     "output_type": "stream",
     "text": [
      "eval_pred: 100%|██████████| 6/6 [00:00<00:00, 34.43it/s]\n"
     ]
    },
    {
     "name": "stdout",
     "output_type": "stream",
     "text": [
      "evaluate_result:  {'rmse': 0.8102735470646135, 'mae': 0.6162774352731443}\n",
      "Wall time: 6min 5s\n"
     ]
    }
   ],
   "source": [
    "%%time\n",
    "reset_state(\"DeepFM\")\n",
    "deepfm = DeepFM(\"rating\", data_info, embed_size=16, n_epochs=3,\n",
    "                lr=5e-3, lr_decay=True, reg=0.000001, batch_size=10000,\n",
    "                num_neg=1, use_bn=False, dropout_rate=None,\n",
    "                hidden_units=\"128,64,32,16,8,4\", tf_sess_config=None)\n",
    "deepfm.fit(train_data, verbose=2, shuffle=True, eval_data=eval_data,\n",
    "           metrics=[\"rmse\", \"mae\", \"r2\"])\n",
    "\n",
    "print(\"evaluate_result: \", evaluate(model=deepfm, data=test_data,\n",
    "                                    metrics=[\"rmse\", \"mae\"]))"
   ]
  },
  {
   "cell_type": "markdown",
   "id": "ddc04cc8",
   "metadata": {},
   "source": [
    "The DeepFM took 3min and 3 epochs to get a test RMSE of 0.8094."
   ]
  },
  {
   "cell_type": "code",
   "execution_count": 65,
   "id": "6b09101d",
   "metadata": {},
   "outputs": [
    {
     "ename": "NameError",
     "evalue": "name 'fm' is not defined",
     "output_type": "error",
     "traceback": [
      "\u001b[1;31m---------------------------------------------------------------------------\u001b[0m",
      "\u001b[1;31mNameError\u001b[0m                                 Traceback (most recent call last)",
      "\u001b[1;32m<ipython-input-65-5402ce3b5a7a>\u001b[0m in \u001b[0;36m<module>\u001b[1;34m\u001b[0m\n\u001b[1;32m----> 1\u001b[1;33m \u001b[0mprediction\u001b[0m \u001b[1;33m=\u001b[0m \u001b[0mfm\u001b[0m\u001b[1;33m.\u001b[0m\u001b[0mpredict\u001b[0m\u001b[1;33m(\u001b[0m\u001b[0muser\u001b[0m\u001b[1;33m=\u001b[0m\u001b[1;36m5163\u001b[0m\u001b[1;33m,\u001b[0m \u001b[0mitem\u001b[0m\u001b[1;33m=\u001b[0m\u001b[1;36m57669\u001b[0m\u001b[1;33m)\u001b[0m\u001b[1;33m\u001b[0m\u001b[1;33m\u001b[0m\u001b[0m\n\u001b[0m\u001b[0;32m      2\u001b[0m \u001b[0mrecommendation\u001b[0m \u001b[1;33m=\u001b[0m \u001b[0mfm\u001b[0m\u001b[1;33m.\u001b[0m\u001b[0mrecommend_user\u001b[0m\u001b[1;33m(\u001b[0m\u001b[0muser\u001b[0m\u001b[1;33m=\u001b[0m\u001b[1;36m5163\u001b[0m\u001b[1;33m,\u001b[0m \u001b[0mn_rec\u001b[0m\u001b[1;33m=\u001b[0m\u001b[1;36m5\u001b[0m\u001b[1;33m)\u001b[0m\u001b[1;33m\u001b[0m\u001b[1;33m\u001b[0m\u001b[0m\n\u001b[0;32m      3\u001b[0m \u001b[0mprint\u001b[0m\u001b[1;33m(\u001b[0m\u001b[1;34m\"prediction: \"\u001b[0m\u001b[1;33m,\u001b[0m \u001b[0mprediction\u001b[0m\u001b[1;33m)\u001b[0m\u001b[1;33m\u001b[0m\u001b[1;33m\u001b[0m\u001b[0m\n\u001b[0;32m      4\u001b[0m \u001b[1;33m\u001b[0m\u001b[0m\n\u001b[0;32m      5\u001b[0m \u001b[0mrec\u001b[0m \u001b[1;33m=\u001b[0m \u001b[1;33m[\u001b[0m\u001b[1;33m]\u001b[0m\u001b[1;33m\u001b[0m\u001b[1;33m\u001b[0m\u001b[0m\n",
      "\u001b[1;31mNameError\u001b[0m: name 'fm' is not defined"
     ]
    }
   ],
   "source": [
    "prediction = fm.predict(user=5163, item=57669)\n",
    "recommendation = fm.recommend_user(user=5163, n_rec=5)\n",
    "print(\"prediction: \", prediction)\n",
    "\n",
    "rec = []\n",
    "ratings = []\n",
    "recommended_movies = movies_df.copy()\n",
    "\n",
    "for r in recommendation:\n",
    "    rec.append(r[0])\n",
    "    ratings.append(r[1])\n",
    "    \n",
    "recommended_movies = recommended_movies[recommended_movies['movieId'].isin(rec)].set_index('movieId').copy()\n",
    "recommended_movies['rating'] = ratings\n",
    "\n",
    "print('User 5163 will be recommended:')\n",
    "display(recommended_movies.sort_values('rating', ascending =False))"
   ]
  },
  {
   "cell_type": "code",
   "execution_count": null,
   "id": "0b27c52f",
   "metadata": {},
   "outputs": [],
   "source": []
  },
  {
   "cell_type": "code",
   "execution_count": null,
   "id": "37bfbd01",
   "metadata": {},
   "outputs": [],
   "source": []
  },
  {
   "cell_type": "markdown",
   "id": "1333162d",
   "metadata": {},
   "source": [
    "### The Recommender Engine\n",
    "Now that we have trained, tested and validated a few recommendation models, we can now go ahead and build a recommender engine. A Collaborative model-based Reccomender Engine to be precise.\n",
    "\n",
    "The Reccomender Engine will take in a list of movies the user likes and will return a list of movie reccomendations based on the provided list."
   ]
  },
  {
   "cell_type": "code",
   "execution_count": null,
   "id": "c14c98ba",
   "metadata": {},
   "outputs": [],
   "source": [
    "%%time\n",
    "data = df_train.copy()\n",
    "data.rename(columns={'userId': 'user', 'movieId': 'item', 'rating': 'label',\n",
    "                               'timestamp': 'time'}, inplace=True)\n",
    "train_data, data_info = DatasetPure.build_trainset(data)\n",
    "\n",
    "reset_state('libSVD')\n",
    "svd_lib = libSVD(task=\"rating\", data_info=data_info, embed_size=16, n_epochs=5, lr=0.004, batch_size=9000,\n",
    "                 batch_sampling=True, reg=0.000001, num_neg=-5)\n",
    "svd_lib.fit(train_data, verbose=2)"
   ]
  },
  {
   "cell_type": "code",
   "execution_count": null,
   "id": "3bdaf0f4",
   "metadata": {},
   "outputs": [],
   "source": [
    "ratings_df = df_train.copy()\n",
    "ratings_df.drop(['timestamp'], axis=1, inplace=True)\n",
    "\n",
    "ratings = pd.merge(ratings_df, movies_df[['movieId', 'title']], on='movieId')\n",
    "\n",
    "\n",
    "def prediction_item(item_id):\n",
    "    \"\"\"Map a given favourite movie to users within the\n",
    "       MovieLens dataset with the same preference.\n",
    "\n",
    "    Parameters\n",
    "    ----------\n",
    "    item_id : int\n",
    "        A MovieLens Movie ID.\n",
    "\n",
    "    Returns\n",
    "    -------\n",
    "    list\n",
    "        User IDs of users with similar high ratings for the given movie.\n",
    "\n",
    "    \"\"\"\n",
    "    # Using Surprise Model\n",
    "    if str(model)[1:8] != 'libreco':\n",
    "        # Data preprosessing\n",
    "        reader = Reader(rating_scale=(0.5, 5))\n",
    "        load_df = Dataset.load_from_df(ratings_df, reader)\n",
    "        a_train = load_df.build_full_trainset()\n",
    "\n",
    "        predictions = []\n",
    "        for ui in a_train.all_users():\n",
    "            predictions.append(model.predict(\n",
    "                iid=item_id, uid=ui, verbose=False))\n",
    "\n",
    "    # Using LibReco Model\n",
    "    else:\n",
    "        pred = list(svd_lib.predict(\n",
    "            user=df_train['userId'].unique(), item=item_id))\n",
    "        users = list(df_train['userId'])\n",
    "        predictions = [(i, j) for i, j in zip(pred, users)]\n",
    "\n",
    "    return predictions\n",
    "\n",
    "\n",
    "def get_user_movies(df, user_list):\n",
    "    \"\"\"\n",
    "    :param df:\n",
    "    :param user_list:\n",
    "    :return: dataframe subset of train data\n",
    "    \"\"\"\n",
    "    temp = pd.DataFrame()\n",
    "    for i in user_list:\n",
    "        temp_df = df[df['userId'] == i]\n",
    "        temp = temp.append(temp_df)\n",
    "    return temp\n",
    "\n",
    "\n",
    "def pred_movies(movie_list):\n",
    "    \"\"\"Maps the given favourite movies selected within the app to corresponding\n",
    "    users within the MovieLens dataset.\n",
    "\n",
    "    Parameters\n",
    "    ----------\n",
    "    movie_list : list\n",
    "        Three favourite movies selected by the app user.\n",
    "\n",
    "    Returns\n",
    "    -------\n",
    "    list\n",
    "        User-ID's of users with similar high ratings for each movie.\n",
    "\n",
    "    \"\"\"\n",
    "    # Store the id of users\n",
    "    id_store = []\n",
    "    # For each movie selected by a user of the app,\n",
    "    # predict a corresponding user within the dataset with the highest rating\n",
    "\n",
    "    # Using Surprise Model\n",
    "    if str(model)[1:8] != 'libreco':\n",
    "        for i in movie_list:\n",
    "            movieID = movies_df[movies_df['title'] == i]['movieId'].values[0]\n",
    "            predictions = prediction_item(item_id=movieID)\n",
    "            predictions.sort(key=lambda x: x.est, reverse=True)\n",
    "            # Take the top 10 user id's from each movie with highest rankings\n",
    "            for pred in predictions[:10]:\n",
    "                id_store.append(pred.uid)\n",
    "\n",
    "    # Using LibReco Model\n",
    "    else:\n",
    "        for i in movie_list:\n",
    "            movieID = movies_df[movies_df['title'] == i]['movieId'].values[0]\n",
    "            predictions = prediction_item(item_id=movieID)\n",
    "            predictions.sort(reverse=True)\n",
    "            # Take the top 10 user id's from each movie with highest rankings\n",
    "            for i, j in predictions[:10]:\n",
    "                id_store.append(j)\n",
    "\n",
    "    # Return a list of user id's\n",
    "    return id_store\n",
    "\n",
    "\n",
    "def recommend_movies(movie_list, top_n=10):\n",
    "    \"\"\"Performs Collaborative filtering based upon a list of movies supplied\n",
    "       by the app user.\n",
    "\n",
    "    Parameters\n",
    "    ----------\n",
    "    movie_list : list (str)\n",
    "        Favorite movies chosen by the app user.\n",
    "    top_n : type\n",
    "        Number of top recommendations to return to the user.\n",
    "\n",
    "    Returns\n",
    "    -------\n",
    "    list (str)\n",
    "        Titles of the top-n movie recommendations to the user.\n",
    "\n",
    "    \"\"\"\n",
    "    user_ids = pred_movies(movie_list)\n",
    "\n",
    "    temp = get_user_movies(ratings, user_ids)\n",
    "\n",
    "    movie_ids = []\n",
    "    for i in movie_list:\n",
    "        movieID = movies_df[movies_df['title'] == i]['movieId'].values[0]\n",
    "        movie_ids.append(movieID)\n",
    "\n",
    "    # Add new user with ratings to userlist\n",
    "    new_row1 = {'userId': 1000000,\n",
    "                'movieId': movie_ids[0], 'rating': 5.0, 'title': movie_list[0]}\n",
    "    new_row2 = {'userId': 1000000,\n",
    "                'movieId': movie_ids[1], 'rating': 5.0, 'title': movie_list[1]}\n",
    "    new_row3 = {'userId': 1000000,\n",
    "                'movieId': movie_ids[2], 'rating': 5.0, 'title': movie_list[2]}\n",
    "    temp = temp.append([new_row1, new_row2, new_row3], ignore_index=True)\n",
    "\n",
    "    user_ratings = temp.pivot_table(\n",
    "        index='userId', columns='title', values='rating').fillna(0)\n",
    "    item_similarity_df = user_ratings.corr(method='pearson')\n",
    "\n",
    "    def get_similar_movies(movie_name, user_rating=5):\n",
    "        similar_score = item_similarity_df[movie_name] * user_rating\n",
    "        similar_score = similar_score.sort_values(ascending=False)\n",
    "        return similar_score\n",
    "\n",
    "    similar_movies = pd.DataFrame()\n",
    "\n",
    "    for movie in movie_list:\n",
    "        similar_movies = similar_movies.append(\n",
    "            get_similar_movies(movie, 5), ignore_index=True)\n",
    "\n",
    "    recommended_movies = []\n",
    "    for i in similar_movies.sum().sort_values(ascending=False).index:\n",
    "        if i in movie_list:\n",
    "            pass\n",
    "        else:\n",
    "            recommended_movies.append(i)\n",
    "\n",
    "    return recommended_movies[:10]"
   ]
  },
  {
   "cell_type": "code",
   "execution_count": null,
   "id": "acee7263",
   "metadata": {},
   "outputs": [],
   "source": [
    "movie_list = ['Sudden Death (1995)', 'Sabrina (1995)', 'Nixon (1995)']\n",
    "model = svd_lib\n",
    "recommend_movies(movie_list)"
   ]
  },
  {
   "cell_type": "code",
   "execution_count": null,
   "id": "dce888de",
   "metadata": {},
   "outputs": [],
   "source": []
  },
  {
   "cell_type": "code",
   "execution_count": null,
   "id": "0c9092ba",
   "metadata": {},
   "outputs": [],
   "source": []
  },
  {
   "cell_type": "code",
   "execution_count": null,
   "id": "a3571d90",
   "metadata": {},
   "outputs": [],
   "source": []
  },
  {
   "cell_type": "code",
   "execution_count": null,
   "id": "1be2f02f",
   "metadata": {},
   "outputs": [],
   "source": []
  },
  {
   "cell_type": "code",
   "execution_count": null,
   "id": "4b23c153",
   "metadata": {},
   "outputs": [],
   "source": []
  },
  {
   "cell_type": "code",
   "execution_count": null,
   "id": "7a8aaed4",
   "metadata": {},
   "outputs": [],
   "source": []
  },
  {
   "cell_type": "code",
   "execution_count": null,
   "id": "42021426",
   "metadata": {},
   "outputs": [],
   "source": []
  },
  {
   "cell_type": "code",
   "execution_count": null,
   "id": "b757e949",
   "metadata": {},
   "outputs": [],
   "source": []
  },
  {
   "cell_type": "code",
   "execution_count": null,
   "id": "24bf8db0",
   "metadata": {},
   "outputs": [],
   "source": []
  }
 ],
 "metadata": {
  "kernelspec": {
   "display_name": "Python 3",
   "language": "python",
   "name": "python3"
  }
 },
 "nbformat": 4,
 "nbformat_minor": 5
}
